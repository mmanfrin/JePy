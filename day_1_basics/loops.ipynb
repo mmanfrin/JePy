{
 "cells": [
  {
   "cell_type": "markdown",
   "metadata": {},
   "source": [
    "Notebook is copyright &copy; of Ajay Tech"
   ]
  },
  {
   "cell_type": "markdown",
   "metadata": {},
   "source": [
    "# Loops"
   ]
  },
  {
   "cell_type": "markdown",
   "metadata": {},
   "source": [
    "## Contents"
   ]
  },
  {
   "cell_type": "markdown",
   "metadata": {},
   "source": [
    "**Summary** : Loops are another type (if - elif - else being the other) of flow control mechanism available in any programming language. In this section, we will explore the two basic syntaxes available in Python for loops - **_for_** loops and **_while_** loops."
   ]
  },
  {
   "cell_type": "markdown",
   "metadata": {},
   "source": [
    "### Contents"
   ]
  },
  {
   "cell_type": "markdown",
   "metadata": {},
   "source": [
    "- [while loop](#while-loop)\n",
    "- [range function](#range-function)\n",
    "- [for loop](#for-loop)\n",
    "- [for vs while loops](#for-vs-while-loops)\n",
    "- [break statement](#break-statement)\n",
    "- [nested loops](#nested-loops)\n",
    "- [for else](#for-else) "
   ]
  },
  {
   "cell_type": "markdown",
   "metadata": {},
   "source": [
    "### while loop"
   ]
  },
  {
   "cell_type": "markdown",
   "metadata": {},
   "source": [
    "<img src=\"./pics/while-loop-syntax.png\"/>"
   ]
  },
  {
   "cell_type": "code",
   "execution_count": 3,
   "metadata": {},
   "outputs": [
    {
     "name": "stdout",
     "output_type": "stream",
     "text": [
      "0\n",
      "1\n",
      "2\n",
      "3\n",
      "4\n",
      "5\n",
      "6\n",
      "7\n",
      "8\n",
      "9\n"
     ]
    }
   ],
   "source": [
    "count = 0\n",
    "\n",
    "while count < 10 :\n",
    "    print ( count )\n",
    "    count = count + 1\n",
    "    "
   ]
  },
  {
   "cell_type": "markdown",
   "metadata": {},
   "source": [
    "In the previous section (flow control in python) we have seen the elevator example. Let's enhance it a bit by making it a perpetual program. But before we do that, we have to find a way to get user input - "
   ]
  },
  {
   "cell_type": "code",
   "execution_count": 3,
   "metadata": {},
   "outputs": [
    {
     "name": "stdin",
     "output_type": "stream",
     "text": [
      " 3\n"
     ]
    },
    {
     "name": "stdout",
     "output_type": "stream",
     "text": [
      "floor enetered =  3\n"
     ]
    }
   ],
   "source": [
    "floor = input()\n",
    "print ( \"floor enetered = \", floor)"
   ]
  },
  {
   "cell_type": "markdown",
   "metadata": {},
   "source": [
    "Now, we are good to rewrite the program."
   ]
  },
  {
   "cell_type": "markdown",
   "metadata": {},
   "source": [
    "As usual , define the variables and set their initial values. "
   ]
  },
  {
   "cell_type": "code",
   "execution_count": 1,
   "metadata": {},
   "outputs": [],
   "source": [
    "current_floor = 0 # This is just a starting point\n",
    "user_floor = 0 # This is just a starting point"
   ]
  },
  {
   "cell_type": "markdown",
   "metadata": {},
   "source": [
    "Now, let's reprogram the elevator program using while loop. "
   ]
  },
  {
   "cell_type": "code",
   "execution_count": 2,
   "metadata": {},
   "outputs": [
    {
     "name": "stdout",
     "output_type": "stream",
     "text": [
      " Move up \n"
     ]
    },
    {
     "name": "stdin",
     "output_type": "stream",
     "text": [
      " 2\n"
     ]
    },
    {
     "name": "stdout",
     "output_type": "stream",
     "text": [
      " Move down \n"
     ]
    },
    {
     "name": "stdin",
     "output_type": "stream",
     "text": [
      " 2\n"
     ]
    },
    {
     "name": "stdout",
     "output_type": "stream",
     "text": [
      " Open door \n"
     ]
    },
    {
     "name": "stdin",
     "output_type": "stream",
     "text": [
      " 3\n"
     ]
    },
    {
     "name": "stdout",
     "output_type": "stream",
     "text": [
      " Move up \n"
     ]
    },
    {
     "name": "stdin",
     "output_type": "stream",
     "text": [
      " 3\n"
     ]
    },
    {
     "name": "stdout",
     "output_type": "stream",
     "text": [
      " Open door \n"
     ]
    },
    {
     "name": "stdin",
     "output_type": "stream",
     "text": [
      " 3\n"
     ]
    },
    {
     "name": "stdout",
     "output_type": "stream",
     "text": [
      " Open door \n"
     ]
    },
    {
     "name": "stdin",
     "output_type": "stream",
     "text": [
      " 2\n"
     ]
    },
    {
     "name": "stdout",
     "output_type": "stream",
     "text": [
      " Move down \n"
     ]
    },
    {
     "name": "stdin",
     "output_type": "stream",
     "text": [
      " 2\n"
     ]
    },
    {
     "name": "stdout",
     "output_type": "stream",
     "text": [
      " Open door \n"
     ]
    },
    {
     "name": "stdin",
     "output_type": "stream",
     "text": [
      " 5\n"
     ]
    },
    {
     "name": "stdout",
     "output_type": "stream",
     "text": [
      " Move up \n"
     ]
    },
    {
     "name": "stdin",
     "output_type": "stream",
     "text": [
      " 6\n"
     ]
    },
    {
     "name": "stdout",
     "output_type": "stream",
     "text": [
      " Move up \n"
     ]
    },
    {
     "name": "stdin",
     "output_type": "stream",
     "text": [
      " 1\n"
     ]
    },
    {
     "name": "stdout",
     "output_type": "stream",
     "text": [
      " Move down \n"
     ]
    },
    {
     "name": "stdin",
     "output_type": "stream",
     "text": [
      " exit\n"
     ]
    }
   ],
   "source": [
    "user_floor = 6\n",
    "\n",
    "while user_floor != \"exit\" :\n",
    "    \n",
    "    difference = user_floor - current_floor\n",
    "    \n",
    "    if difference < 0 : \n",
    "        current_floor = user_floor\n",
    "        print ( \" Move down \")\n",
    "\n",
    "    if difference > 0 : \n",
    "        current_floor = user_floor\n",
    "        print ( \" Move up \")    \n",
    "        \n",
    "    if difference == 0 : \n",
    "        current_floor = user_floor\n",
    "        print ( \" Open door \")            \n",
    "        \n",
    "    user_floor = input()\n",
    "    if user_floor != \"exit\" :\n",
    "        user_floor = int(user_floor)"
   ]
  },
  {
   "cell_type": "markdown",
   "metadata": {},
   "source": [
    "The syntax for while loop looks like this. "
   ]
  },
  {
   "cell_type": "markdown",
   "metadata": {},
   "source": [
    "<img src=\"./pics/while-block-syntax.png\"/>"
   ]
  },
  {
   "cell_type": "markdown",
   "metadata": {},
   "source": [
    "### range function"
   ]
  },
  {
   "cell_type": "markdown",
   "metadata": {},
   "source": [
    "Range function is a built-in function to generate a sequence of numbers. For example, the following will generate a sequence of numbers from 0 to 10"
   ]
  },
  {
   "cell_type": "code",
   "execution_count": 19,
   "metadata": {},
   "outputs": [],
   "source": [
    "numbers = range(10)"
   ]
  },
  {
   "cell_type": "markdown",
   "metadata": {},
   "source": [
    "How do you extract these numbers though ? For that you need some kind of an **iterator**. An iterator is something which can go over a sequence. That is where the **for** loop comes in. We will see some more examples of the **range ( )** function in the next section. "
   ]
  },
  {
   "cell_type": "code",
   "execution_count": null,
   "metadata": {},
   "outputs": [],
   "source": []
  },
  {
   "cell_type": "markdown",
   "metadata": {},
   "source": [
    "### for loop"
   ]
  },
  {
   "cell_type": "markdown",
   "metadata": {},
   "source": [
    "The syntax for **for** loop is just as simple as the while loop. It is specifically designed for going over sequences - like a range for example. "
   ]
  },
  {
   "cell_type": "markdown",
   "metadata": {},
   "source": [
    "<img src=\"./pics/for-loop-syntax.png\"/>"
   ]
  },
  {
   "cell_type": "code",
   "execution_count": 26,
   "metadata": {},
   "outputs": [
    {
     "name": "stdout",
     "output_type": "stream",
     "text": [
      "1\n",
      "2\n",
      "3\n",
      "4\n",
      "5\n",
      "6\n",
      "7\n",
      "8\n",
      "9\n",
      "10\n"
     ]
    }
   ],
   "source": [
    "for number in numbers : \n",
    "    print ( number )"
   ]
  },
  {
   "cell_type": "markdown",
   "metadata": {},
   "source": [
    "This is consuming a lot of vertical space, right ? By default the print statement always ends with a new line statement ( escape character '\\n' ). If you do not want that, you can specify a specific character that the print statement should end with. For example, if we want the print statement to end with a space, do this."
   ]
  },
  {
   "cell_type": "code",
   "execution_count": 27,
   "metadata": {},
   "outputs": [
    {
     "name": "stdout",
     "output_type": "stream",
     "text": [
      "1 2 3 4 5 6 7 8 9 10 "
     ]
    }
   ],
   "source": [
    "for number in numbers : \n",
    "    print ( number , end=\" \")"
   ]
  },
  {
   "cell_type": "markdown",
   "metadata": {},
   "source": [
    "Ranges are not the only examples of sequences in Python. There are many more examples like Python Lists, Python Strings, Python Tuples, Python Dictionary, Python sets etc. We will see examples of these in the upcoming sections. "
   ]
  },
  {
   "cell_type": "markdown",
   "metadata": {},
   "source": [
    "**Challenge** - Print all the odd numbers between 1 and 20"
   ]
  },
  {
   "cell_type": "code",
   "execution_count": 1,
   "metadata": {},
   "outputs": [
    {
     "name": "stdout",
     "output_type": "stream",
     "text": [
      "1\n",
      "3\n",
      "5\n",
      "7\n",
      "9\n",
      "11\n",
      "13\n",
      "15\n",
      "17\n",
      "19\n"
     ]
    }
   ],
   "source": [
    "for i in range(0,21) :\n",
    "    if i % 2 != 0 :\n",
    "        print ( i)"
   ]
  },
  {
   "cell_type": "markdown",
   "metadata": {},
   "source": [
    "### for vs while loop"
   ]
  },
  {
   "cell_type": "markdown",
   "metadata": {},
   "source": [
    "Both for and while statements loop through code. While a for loop is used as an iterator, while loop runs indefinitely until a condition is met. Each of these statements have a specific purpose although you can use either of these statements for most situations. Let's do a couple of challenges to see if you understand the syntaxes well enough."
   ]
  },
  {
   "cell_type": "markdown",
   "metadata": {},
   "source": [
    "**Challenge** - Print all the numbers from 1 to 10 using both for loop and while loop"
   ]
  },
  {
   "cell_type": "markdown",
   "metadata": {},
   "source": [
    "**for loop**"
   ]
  },
  {
   "cell_type": "code",
   "execution_count": 21,
   "metadata": {},
   "outputs": [
    {
     "name": "stdout",
     "output_type": "stream",
     "text": [
      "1 2 3 4 5 6 7 8 9 10 "
     ]
    }
   ],
   "source": [
    "numbers = range(1,11)\n",
    "\n",
    "for number in numbers : \n",
    "    print (number, end=\" \")"
   ]
  },
  {
   "cell_type": "markdown",
   "metadata": {},
   "source": [
    "**while loop**"
   ]
  },
  {
   "cell_type": "code",
   "execution_count": 22,
   "metadata": {},
   "outputs": [
    {
     "name": "stdout",
     "output_type": "stream",
     "text": [
      "1 2 3 4 5 6 7 8 9 10 "
     ]
    }
   ],
   "source": [
    "number = 1\n",
    "\n",
    "while number < 11 :\n",
    "    print ( number , end=\" \")\n",
    "    number = number + 1"
   ]
  },
  {
   "cell_type": "markdown",
   "metadata": {},
   "source": [
    "**Challenge** - Print numbers 1 to 10 in reverse order using for and while loop"
   ]
  },
  {
   "cell_type": "markdown",
   "metadata": {},
   "source": [
    "**for** loop"
   ]
  },
  {
   "cell_type": "code",
   "execution_count": 23,
   "metadata": {},
   "outputs": [
    {
     "name": "stdout",
     "output_type": "stream",
     "text": [
      "10 9 8 7 6 5 4 3 2 1 "
     ]
    }
   ],
   "source": [
    "numbers = range(1,11)\n",
    "\n",
    "for number in numbers : \n",
    "    print (11-number , end=\" \")"
   ]
  },
  {
   "cell_type": "markdown",
   "metadata": {},
   "source": [
    "**Challenge** - Print the first 10 numbers in the **Fibonacci** series. \n",
    "\n",
    "What is the Fibonacci series ? It is a series of numbers in which each number ( Fibonacci number ) is the sum of the two preceding numbers. The simplest is the series 1, 1, 2, 3, 5, 8, etc."
   ]
  },
  {
   "cell_type": "markdown",
   "metadata": {},
   "source": [
    "**for** loop"
   ]
  },
  {
   "cell_type": "code",
   "execution_count": 17,
   "metadata": {},
   "outputs": [
    {
     "name": "stdout",
     "output_type": "stream",
     "text": [
      "0 1 1 2 3 5 8 13 21 34 "
     ]
    }
   ],
   "source": [
    "prev_number = 0\n",
    "next_number = 1\n",
    "count = 10\n",
    "\n",
    "for i in range(count) :\n",
    "    print(prev_number, end=\" \")\n",
    "    next = prev_number + next_number\n",
    "    prev_number = next_number\n",
    "    next_number = next\n",
    "    "
   ]
  },
  {
   "cell_type": "markdown",
   "metadata": {},
   "source": [
    "**while** loop"
   ]
  },
  {
   "cell_type": "code",
   "execution_count": 24,
   "metadata": {},
   "outputs": [
    {
     "name": "stdout",
     "output_type": "stream",
     "text": [
      "0 1 1 2 3 5 8 13 21 34 "
     ]
    }
   ],
   "source": [
    "prev_number = 0\n",
    "next_number = 1\n",
    "count       = 0\n",
    "\n",
    "while count < 10 :\n",
    "    print(prev_number, end=\" \")\n",
    "    next = prev_number + next_number\n",
    "    prev_number = next_number\n",
    "    next_number = next\n",
    "    count = count + 1"
   ]
  },
  {
   "cell_type": "markdown",
   "metadata": {},
   "source": [
    "### Modulo Division"
   ]
  },
  {
   "cell_type": "markdown",
   "metadata": {},
   "source": [
    "Modulo division is an type of operator. We will cover more on these when we cover Operators & expressions. However, we need this specific operator to see some of the examples that we see in **break** and **continue** statements. "
   ]
  },
  {
   "cell_type": "markdown",
   "metadata": {},
   "source": [
    "When you divide a number, there are 2 outputs - \n",
    "- Quotient\n",
    "- remainder"
   ]
  },
  {
   "cell_type": "markdown",
   "metadata": {},
   "source": [
    "for example, when you divide 21 by 10, the quotient is 2 and the remainder is 1. There are 2 operators in python to get these.\n",
    "\n",
    "- // - quotient\n",
    "- %  - remainder"
   ]
  },
  {
   "cell_type": "markdown",
   "metadata": {},
   "source": [
    "These operators are called\n",
    "- // - **Floor division** and\n",
    "- %  - **Modulo division**\n",
    "\n"
   ]
  },
  {
   "cell_type": "markdown",
   "metadata": {},
   "source": [
    "For example, "
   ]
  },
  {
   "cell_type": "code",
   "execution_count": 14,
   "metadata": {},
   "outputs": [
    {
     "name": "stdout",
     "output_type": "stream",
     "text": [
      "2\n",
      "1\n"
     ]
    }
   ],
   "source": [
    "quotient  = 21//10\n",
    "remainder = 21%10\n",
    "\n",
    "print ( quotient )\n",
    "print ( remainder )"
   ]
  },
  {
   "cell_type": "markdown",
   "metadata": {},
   "source": [
    "**Challenge** - Print all the numbers between 1 and 100 that are multiples of 5's. For example, 5, 10, 15 and so on."
   ]
  },
  {
   "cell_type": "code",
   "execution_count": 28,
   "metadata": {},
   "outputs": [
    {
     "name": "stdout",
     "output_type": "stream",
     "text": [
      "0 5 10 15 20 25 30 35 40 45 50 55 60 65 70 75 80 85 90 95 100 "
     ]
    }
   ],
   "source": [
    "for number in range(101) :\n",
    "    if number % 5 == 0 :\n",
    "        print ( number , end=\" \")"
   ]
  },
  {
   "cell_type": "markdown",
   "metadata": {},
   "source": [
    "With this knowledge, let's move on to the **break** and **continue** statements. "
   ]
  },
  {
   "cell_type": "markdown",
   "metadata": {},
   "source": [
    "### continue statement"
   ]
  },
  {
   "cell_type": "markdown",
   "metadata": {},
   "source": [
    "Although **for** and **while** loops are designed to work in a sequence of continuous steps, there are situations where you might want to skip the rest of the processing in the loop when a certain condition is met and move on to the next iteration. Here is a visual on how the continue statement works. "
   ]
  },
  {
   "cell_type": "markdown",
   "metadata": {},
   "source": [
    "<img src=\"./pics/continue-statement.png\"/>"
   ]
  },
  {
   "cell_type": "markdown",
   "metadata": {},
   "source": [
    "Let's see this with an example. Say you want to only print the numbers **not** divisible by 5, "
   ]
  },
  {
   "cell_type": "code",
   "execution_count": 32,
   "metadata": {},
   "outputs": [
    {
     "name": "stdout",
     "output_type": "stream",
     "text": [
      "1 2 3 4 6 7 8 9 11 12 13 14 16 17 18 19 21 22 23 24 26 27 28 29 "
     ]
    }
   ],
   "source": [
    "for number in range(30) :\n",
    "    if number % 5 == 0 :\n",
    "        continue\n",
    "    print ( number , end= \" \")"
   ]
  },
  {
   "cell_type": "markdown",
   "metadata": {},
   "source": [
    "**Challenge** - Find the sum of all the odd numbers between 1 and 100"
   ]
  },
  {
   "cell_type": "markdown",
   "metadata": {},
   "source": [
    "**Solution**"
   ]
  },
  {
   "cell_type": "code",
   "execution_count": 34,
   "metadata": {},
   "outputs": [
    {
     "name": "stdout",
     "output_type": "stream",
     "text": [
      "2500\n"
     ]
    }
   ],
   "source": [
    "sum = 0 # holds the initial sum value\n",
    "\n",
    "for number in range(101) :\n",
    "    if number % 2 == 0 : \n",
    "        # it is even\n",
    "        continue\n",
    "    sum = sum + number\n",
    "\n",
    "# after the for loop, print the sum\n",
    "print ( sum )"
   ]
  },
  {
   "cell_type": "markdown",
   "metadata": {},
   "source": [
    "**Challenge** - Find the sum of all the alternate odd numbers between 1 and 100. For example, the odd numbers start with 1,3,5,7,9,11,13 etc. So, in this challenge, you would have to only sum up alternative odd numbers - 1,<strike>3</strike>,5,<strike>7</strike>,9,<strike>11</strike>,13. "
   ]
  },
  {
   "cell_type": "code",
   "execution_count": 39,
   "metadata": {},
   "outputs": [
    {
     "name": "stdout",
     "output_type": "stream",
     "text": [
      "1225\n"
     ]
    }
   ],
   "source": [
    "sum = 0\n",
    "alternate = True\n",
    "\n",
    "for number in range(101) :\n",
    "    if number % 2 == 0 :\n",
    "        continue\n",
    "    \n",
    "    if alternate == True :\n",
    "        sum = sum + number\n",
    "        alternate = False\n",
    "        continue\n",
    "    \n",
    "    alternate = True\n",
    "\n",
    "print ( sum )"
   ]
  },
  {
   "cell_type": "markdown",
   "metadata": {},
   "source": [
    "### break statement"
   ]
  },
  {
   "cell_type": "markdown",
   "metadata": {},
   "source": [
    "**break** statement literally _breaks_ the loop. A _continue_ statement just breaks the current iteration while the **_break_** statement breaks the loop in its entirity. "
   ]
  },
  {
   "cell_type": "markdown",
   "metadata": {},
   "source": [
    "<img src=\"./pics/break-statement-visual.png\"/>"
   ]
  },
  {
   "cell_type": "markdown",
   "metadata": {},
   "source": [
    "Say if you want to find out the sequence of occurance of particular odd number. Here is an example - <br>\n",
    "In a range, say 1 to 20 , there are 10 odd numbers - 1,3,5,7,9,11,13,15,17,19. Find out the occurance of the 7th odd number.  <br>\n",
    "There is definitely a better mathematical way to do this, but we want to understand how to traverse these numbers and break the loop when we find out what we want. "
   ]
  },
  {
   "cell_type": "code",
   "execution_count": 9,
   "metadata": {},
   "outputs": [
    {
     "name": "stdin",
     "output_type": "stream",
     "text": [
      " Enter the first number in the range 1\n",
      " Enter the last number in the range 100\n",
      "Enter the nth occurance of odd number you want to find out 21\n"
     ]
    },
    {
     "name": "stdout",
     "output_type": "stream",
     "text": [
      "21 th  odd number is  41\n"
     ]
    }
   ],
   "source": [
    "first = int ( input ( \" Enter the first number in the range\") )\n",
    "last  = int ( input ( \" Enter the last number in the range\") )\n",
    "\n",
    "nth_odd = int ( input ( \"Enter the nth occurance of odd number you want to find out\"))\n",
    "\n",
    "count = 0\n",
    "nth_odd_number = 0\n",
    "\n",
    "for i in range(first,last+1) :\n",
    "    \n",
    "    if i % 2 != 0 :\n",
    "        count = count + 1\n",
    "        if count == nth_odd :\n",
    "            nth_odd_number = i            \n",
    "            break\n",
    "\n",
    "print ( count,\"th\", \" odd number is \", nth_odd_number )"
   ]
  },
  {
   "cell_type": "markdown",
   "metadata": {},
   "source": [
    "### Nested loops"
   ]
  },
  {
   "cell_type": "markdown",
   "metadata": {},
   "source": [
    "Loops can be nested within each other. For example, here is how you print each number ( from 1 to 10 ) as many number of times. "
   ]
  },
  {
   "cell_type": "code",
   "execution_count": 13,
   "metadata": {},
   "outputs": [
    {
     "name": "stdout",
     "output_type": "stream",
     "text": [
      "1 \n",
      "2 2 \n",
      "3 3 3 \n",
      "4 4 4 4 \n",
      "5 5 5 5 5 \n",
      "6 6 6 6 6 6 \n",
      "7 7 7 7 7 7 7 \n",
      "8 8 8 8 8 8 8 8 \n",
      "9 9 9 9 9 9 9 9 9 \n",
      "10 10 10 10 10 10 10 10 10 10 \n"
     ]
    }
   ],
   "source": [
    "for i in range(1,11) :\n",
    "    for count in range(0,i) :\n",
    "        print ( i, end=\" \")\n",
    "    print ()"
   ]
  },
  {
   "cell_type": "markdown",
   "metadata": {},
   "source": [
    "<img src=\"./pics/loop-inside-loop.png\"/>"
   ]
  },
  {
   "cell_type": "markdown",
   "metadata": {},
   "source": [
    "You can do the same with  **while** loops as well. You can nest **for** loop inside a **while** loop and vice-versa. Here is a re-write of the same program as above nesting a **while** loop inside a **for** loop."
   ]
  },
  {
   "cell_type": "code",
   "execution_count": 14,
   "metadata": {},
   "outputs": [
    {
     "name": "stdout",
     "output_type": "stream",
     "text": [
      "1 \n",
      "2 2 \n",
      "3 3 3 \n",
      "4 4 4 4 \n",
      "5 5 5 5 5 \n",
      "6 6 6 6 6 6 \n",
      "7 7 7 7 7 7 7 \n",
      "8 8 8 8 8 8 8 8 \n",
      "9 9 9 9 9 9 9 9 9 \n",
      "10 10 10 10 10 10 10 10 10 10 \n"
     ]
    }
   ],
   "source": [
    "for i in range(1,11) :\n",
    "    count = i\n",
    "    while count > 0 :\n",
    "        print ( i, end=\" \")\n",
    "        count = count - 1\n",
    "    print ()"
   ]
  },
  {
   "cell_type": "markdown",
   "metadata": {},
   "source": [
    "**Challenge** - Find out all the prime numbers between a given range of numbers. A prime number is a one that is divisible by itself or by 1 and by no other number. An example is 5 - It is divisible only by itself ( other than 1 )"
   ]
  },
  {
   "cell_type": "code",
   "execution_count": 33,
   "metadata": {},
   "outputs": [
    {
     "name": "stdin",
     "output_type": "stream",
     "text": [
      "Enter the first number in the range 1\n",
      "Enter the last number in the range 100\n"
     ]
    },
    {
     "name": "stdout",
     "output_type": "stream",
     "text": [
      "number  1  is prime\n",
      "number  2  is prime\n",
      "number  3  is prime\n",
      "number  4  is not prime\n",
      "number  5  is prime\n",
      "number  6  is not prime\n",
      "number  7  is prime\n",
      "number  8  is not prime\n",
      "number  9  is not prime\n",
      "number  10  is not prime\n",
      "number  11  is prime\n",
      "number  12  is not prime\n",
      "number  13  is prime\n",
      "number  14  is not prime\n",
      "number  15  is not prime\n",
      "number  16  is not prime\n",
      "number  17  is prime\n",
      "number  18  is not prime\n",
      "number  19  is prime\n",
      "number  20  is not prime\n",
      "number  21  is not prime\n",
      "number  22  is not prime\n",
      "number  23  is prime\n",
      "number  24  is not prime\n",
      "number  25  is not prime\n",
      "number  26  is not prime\n",
      "number  27  is not prime\n",
      "number  28  is not prime\n",
      "number  29  is prime\n",
      "number  30  is not prime\n",
      "number  31  is prime\n",
      "number  32  is not prime\n",
      "number  33  is not prime\n",
      "number  34  is not prime\n",
      "number  35  is not prime\n",
      "number  36  is not prime\n",
      "number  37  is prime\n",
      "number  38  is not prime\n",
      "number  39  is not prime\n",
      "number  40  is not prime\n",
      "number  41  is prime\n",
      "number  42  is not prime\n",
      "number  43  is prime\n",
      "number  44  is not prime\n",
      "number  45  is not prime\n",
      "number  46  is not prime\n",
      "number  47  is prime\n",
      "number  48  is not prime\n",
      "number  49  is not prime\n",
      "number  50  is not prime\n",
      "number  51  is not prime\n",
      "number  52  is not prime\n",
      "number  53  is prime\n",
      "number  54  is not prime\n",
      "number  55  is not prime\n",
      "number  56  is not prime\n",
      "number  57  is not prime\n",
      "number  58  is not prime\n",
      "number  59  is prime\n",
      "number  60  is not prime\n",
      "number  61  is prime\n",
      "number  62  is not prime\n",
      "number  63  is not prime\n",
      "number  64  is not prime\n",
      "number  65  is not prime\n",
      "number  66  is not prime\n",
      "number  67  is prime\n",
      "number  68  is not prime\n",
      "number  69  is not prime\n",
      "number  70  is not prime\n",
      "number  71  is prime\n",
      "number  72  is not prime\n",
      "number  73  is prime\n",
      "number  74  is not prime\n",
      "number  75  is not prime\n",
      "number  76  is not prime\n",
      "number  77  is not prime\n",
      "number  78  is not prime\n",
      "number  79  is prime\n",
      "number  80  is not prime\n",
      "number  81  is not prime\n",
      "number  82  is not prime\n",
      "number  83  is prime\n",
      "number  84  is not prime\n",
      "number  85  is not prime\n",
      "number  86  is not prime\n",
      "number  87  is not prime\n",
      "number  88  is not prime\n",
      "number  89  is prime\n",
      "number  90  is not prime\n",
      "number  91  is not prime\n",
      "number  92  is not prime\n",
      "number  93  is not prime\n",
      "number  94  is not prime\n",
      "number  95  is not prime\n",
      "number  96  is not prime\n",
      "number  97  is prime\n",
      "number  98  is not prime\n",
      "number  99  is not prime\n",
      "number  100  is not prime\n"
     ]
    }
   ],
   "source": [
    "first = int ( input ( \"Enter the first number in the range\") )\n",
    "last  = int ( input ( \"Enter the last number in the range\") )\n",
    "\n",
    "for number in range(first, last+1) :\n",
    "    \n",
    "    found_prime = True\n",
    "    \n",
    "    for i in range(2,int((number)/2)+1) : \n",
    "        \n",
    "        if number % i == 0 : \n",
    "            print ( \"number \", number , \" is not prime\")\n",
    "            found_prime = False\n",
    "            break\n",
    "          \n",
    "    if found_prime == True :\n",
    "        print ( \"number \",number, \" is prime\" )\n",
    "        found_prime = True\n",
    "            "
   ]
  },
  {
   "cell_type": "markdown",
   "metadata": {},
   "source": [
    "**Challenge** - Print multiplication tables from 1 to 10"
   ]
  },
  {
   "cell_type": "code",
   "execution_count": 34,
   "metadata": {},
   "outputs": [
    {
     "name": "stdout",
     "output_type": "stream",
     "text": [
      "1  x  1  =  1\n",
      "1  x  2  =  2\n",
      "1  x  3  =  3\n",
      "1  x  4  =  4\n",
      "1  x  5  =  5\n",
      "1  x  6  =  6\n",
      "1  x  7  =  7\n",
      "1  x  8  =  8\n",
      "1  x  9  =  9\n",
      "1  x  10  =  10\n",
      "2  x  1  =  2\n",
      "2  x  2  =  4\n",
      "2  x  3  =  6\n",
      "2  x  4  =  8\n",
      "2  x  5  =  10\n",
      "2  x  6  =  12\n",
      "2  x  7  =  14\n",
      "2  x  8  =  16\n",
      "2  x  9  =  18\n",
      "2  x  10  =  20\n",
      "3  x  1  =  3\n",
      "3  x  2  =  6\n",
      "3  x  3  =  9\n",
      "3  x  4  =  12\n",
      "3  x  5  =  15\n",
      "3  x  6  =  18\n",
      "3  x  7  =  21\n",
      "3  x  8  =  24\n",
      "3  x  9  =  27\n",
      "3  x  10  =  30\n",
      "4  x  1  =  4\n",
      "4  x  2  =  8\n",
      "4  x  3  =  12\n",
      "4  x  4  =  16\n",
      "4  x  5  =  20\n",
      "4  x  6  =  24\n",
      "4  x  7  =  28\n",
      "4  x  8  =  32\n",
      "4  x  9  =  36\n",
      "4  x  10  =  40\n",
      "5  x  1  =  5\n",
      "5  x  2  =  10\n",
      "5  x  3  =  15\n",
      "5  x  4  =  20\n",
      "5  x  5  =  25\n",
      "5  x  6  =  30\n",
      "5  x  7  =  35\n",
      "5  x  8  =  40\n",
      "5  x  9  =  45\n",
      "5  x  10  =  50\n",
      "6  x  1  =  6\n",
      "6  x  2  =  12\n",
      "6  x  3  =  18\n",
      "6  x  4  =  24\n",
      "6  x  5  =  30\n",
      "6  x  6  =  36\n",
      "6  x  7  =  42\n",
      "6  x  8  =  48\n",
      "6  x  9  =  54\n",
      "6  x  10  =  60\n",
      "7  x  1  =  7\n",
      "7  x  2  =  14\n",
      "7  x  3  =  21\n",
      "7  x  4  =  28\n",
      "7  x  5  =  35\n",
      "7  x  6  =  42\n",
      "7  x  7  =  49\n",
      "7  x  8  =  56\n",
      "7  x  9  =  63\n",
      "7  x  10  =  70\n",
      "8  x  1  =  8\n",
      "8  x  2  =  16\n",
      "8  x  3  =  24\n",
      "8  x  4  =  32\n",
      "8  x  5  =  40\n",
      "8  x  6  =  48\n",
      "8  x  7  =  56\n",
      "8  x  8  =  64\n",
      "8  x  9  =  72\n",
      "8  x  10  =  80\n",
      "9  x  1  =  9\n",
      "9  x  2  =  18\n",
      "9  x  3  =  27\n",
      "9  x  4  =  36\n",
      "9  x  5  =  45\n",
      "9  x  6  =  54\n",
      "9  x  7  =  63\n",
      "9  x  8  =  72\n",
      "9  x  9  =  81\n",
      "9  x  10  =  90\n",
      "10  x  1  =  10\n",
      "10  x  2  =  20\n",
      "10  x  3  =  30\n",
      "10  x  4  =  40\n",
      "10  x  5  =  50\n",
      "10  x  6  =  60\n",
      "10  x  7  =  70\n",
      "10  x  8  =  80\n",
      "10  x  9  =  90\n",
      "10  x  10  =  100\n"
     ]
    }
   ],
   "source": [
    "for i in range(1,11) :\n",
    "    for j in range(1,11) :\n",
    "        print ( i, \" x \", j, \" = \" , i*j)"
   ]
  },
  {
   "cell_type": "markdown",
   "metadata": {},
   "source": [
    "### for else"
   ]
  },
  {
   "cell_type": "markdown",
   "metadata": {},
   "source": [
    "This is a syntax that is kind of unique to Python. The syntax applies equally well with **while** statement as well. It is more of a convenience function, but newbies get confused with this syntax some times. It basically means that if nothing is found in the loop, do something in the else part. Typically, when searching for something in a loop, we want to do something when nothing has been found - How would we know if the loop ended because of a **break** statement or if the loop has completed all of its iterations ?  "
   ]
  },
  {
   "cell_type": "markdown",
   "metadata": {},
   "source": [
    "> The **else** in **for else** is used to indicate a situation where the loop has been exhausted, not broken.   "
   ]
  },
  {
   "cell_type": "markdown",
   "metadata": {},
   "source": [
    "<img src=\"./pics/for-else-syntax-visual.png\"/>"
   ]
  },
  {
   "cell_type": "markdown",
   "metadata": {},
   "source": [
    "For example, let's rewrite the prime number program in the challenge above using **for else** syntax. Say, we want to find out all the prime numbers between 1 and 100. "
   ]
  },
  {
   "cell_type": "code",
   "execution_count": 38,
   "metadata": {},
   "outputs": [
    {
     "name": "stdout",
     "output_type": "stream",
     "text": [
      "2  is a prime number\n",
      "3  is a prime number\n",
      "4  is not prime number\n",
      "5  is a prime number\n",
      "6  is not prime number\n",
      "7  is a prime number\n",
      "8  is not prime number\n",
      "9  is not prime number\n",
      "10  is not prime number\n",
      "11  is a prime number\n",
      "12  is not prime number\n",
      "13  is a prime number\n",
      "14  is not prime number\n",
      "15  is not prime number\n",
      "16  is not prime number\n",
      "17  is a prime number\n",
      "18  is not prime number\n",
      "19  is a prime number\n",
      "20  is not prime number\n",
      "21  is not prime number\n",
      "22  is not prime number\n",
      "23  is a prime number\n",
      "24  is not prime number\n",
      "25  is not prime number\n",
      "26  is not prime number\n",
      "27  is not prime number\n",
      "28  is not prime number\n",
      "29  is a prime number\n",
      "30  is not prime number\n",
      "31  is a prime number\n",
      "32  is not prime number\n",
      "33  is not prime number\n",
      "34  is not prime number\n",
      "35  is not prime number\n",
      "36  is not prime number\n",
      "37  is a prime number\n",
      "38  is not prime number\n",
      "39  is not prime number\n",
      "40  is not prime number\n",
      "41  is a prime number\n",
      "42  is not prime number\n",
      "43  is a prime number\n",
      "44  is not prime number\n",
      "45  is not prime number\n",
      "46  is not prime number\n",
      "47  is a prime number\n",
      "48  is not prime number\n",
      "49  is not prime number\n",
      "50  is not prime number\n",
      "51  is not prime number\n",
      "52  is not prime number\n",
      "53  is a prime number\n",
      "54  is not prime number\n",
      "55  is not prime number\n",
      "56  is not prime number\n",
      "57  is not prime number\n",
      "58  is not prime number\n",
      "59  is a prime number\n",
      "60  is not prime number\n",
      "61  is a prime number\n",
      "62  is not prime number\n",
      "63  is not prime number\n",
      "64  is not prime number\n",
      "65  is not prime number\n",
      "66  is not prime number\n",
      "67  is a prime number\n",
      "68  is not prime number\n",
      "69  is not prime number\n",
      "70  is not prime number\n",
      "71  is a prime number\n",
      "72  is not prime number\n",
      "73  is a prime number\n",
      "74  is not prime number\n",
      "75  is not prime number\n",
      "76  is not prime number\n",
      "77  is not prime number\n",
      "78  is not prime number\n",
      "79  is a prime number\n",
      "80  is not prime number\n",
      "81  is not prime number\n",
      "82  is not prime number\n",
      "83  is a prime number\n",
      "84  is not prime number\n",
      "85  is not prime number\n",
      "86  is not prime number\n",
      "87  is not prime number\n",
      "88  is not prime number\n",
      "89  is a prime number\n",
      "90  is not prime number\n",
      "91  is not prime number\n",
      "92  is not prime number\n",
      "93  is not prime number\n",
      "94  is not prime number\n",
      "95  is not prime number\n",
      "96  is not prime number\n",
      "97  is a prime number\n",
      "98  is not prime number\n",
      "99  is not prime number\n",
      "100  is not prime number\n"
     ]
    }
   ],
   "source": [
    "for i in range(2,101) :\n",
    "    for j in range(2,int(i/2)+1) :\n",
    "        if i % j == 0 :\n",
    "            print ( i, \" is not prime number\")\n",
    "            break\n",
    "    else :\n",
    "        print ( i, \" is a prime number\")"
   ]
  },
  {
   "cell_type": "markdown",
   "metadata": {},
   "source": [
    "Without the **for else** syntax, we would have to use some kind of flag variables to indicate how the for loop has ended."
   ]
  },
  {
   "cell_type": "code",
   "execution_count": 39,
   "metadata": {},
   "outputs": [
    {
     "name": "stdout",
     "output_type": "stream",
     "text": [
      "number  2  is prime\n",
      "number  3  is prime\n",
      "number  4  is not prime\n",
      "number  5  is prime\n",
      "number  6  is not prime\n",
      "number  7  is prime\n",
      "number  8  is not prime\n",
      "number  9  is not prime\n",
      "number  10  is not prime\n",
      "number  11  is prime\n",
      "number  12  is not prime\n",
      "number  13  is prime\n",
      "number  14  is not prime\n",
      "number  15  is not prime\n",
      "number  16  is not prime\n",
      "number  17  is prime\n",
      "number  18  is not prime\n",
      "number  19  is prime\n",
      "number  20  is not prime\n",
      "number  21  is not prime\n",
      "number  22  is not prime\n",
      "number  23  is prime\n",
      "number  24  is not prime\n",
      "number  25  is not prime\n",
      "number  26  is not prime\n",
      "number  27  is not prime\n",
      "number  28  is not prime\n",
      "number  29  is prime\n",
      "number  30  is not prime\n",
      "number  31  is prime\n",
      "number  32  is not prime\n",
      "number  33  is not prime\n",
      "number  34  is not prime\n",
      "number  35  is not prime\n",
      "number  36  is not prime\n",
      "number  37  is prime\n",
      "number  38  is not prime\n",
      "number  39  is not prime\n",
      "number  40  is not prime\n",
      "number  41  is prime\n",
      "number  42  is not prime\n",
      "number  43  is prime\n",
      "number  44  is not prime\n",
      "number  45  is not prime\n",
      "number  46  is not prime\n",
      "number  47  is prime\n",
      "number  48  is not prime\n",
      "number  49  is not prime\n",
      "number  50  is not prime\n",
      "number  51  is not prime\n",
      "number  52  is not prime\n",
      "number  53  is prime\n",
      "number  54  is not prime\n",
      "number  55  is not prime\n",
      "number  56  is not prime\n",
      "number  57  is not prime\n",
      "number  58  is not prime\n",
      "number  59  is prime\n",
      "number  60  is not prime\n",
      "number  61  is prime\n",
      "number  62  is not prime\n",
      "number  63  is not prime\n",
      "number  64  is not prime\n",
      "number  65  is not prime\n",
      "number  66  is not prime\n",
      "number  67  is prime\n",
      "number  68  is not prime\n",
      "number  69  is not prime\n",
      "number  70  is not prime\n",
      "number  71  is prime\n",
      "number  72  is not prime\n",
      "number  73  is prime\n",
      "number  74  is not prime\n",
      "number  75  is not prime\n",
      "number  76  is not prime\n",
      "number  77  is not prime\n",
      "number  78  is not prime\n",
      "number  79  is prime\n",
      "number  80  is not prime\n",
      "number  81  is not prime\n",
      "number  82  is not prime\n",
      "number  83  is prime\n",
      "number  84  is not prime\n",
      "number  85  is not prime\n",
      "number  86  is not prime\n",
      "number  87  is not prime\n",
      "number  88  is not prime\n",
      "number  89  is prime\n",
      "number  90  is not prime\n",
      "number  91  is not prime\n",
      "number  92  is not prime\n",
      "number  93  is not prime\n",
      "number  94  is not prime\n",
      "number  95  is not prime\n",
      "number  96  is not prime\n",
      "number  97  is prime\n",
      "number  98  is not prime\n",
      "number  99  is not prime\n",
      "number  100  is not prime\n"
     ]
    }
   ],
   "source": [
    "for i in range(2, 101) :\n",
    "    \n",
    "    # flag variable\n",
    "    found_prime = True    \n",
    "    for j in range(2,int((i)/2)+1) : \n",
    "        \n",
    "        if i % j == 0 : \n",
    "            print ( \"number \", i , \" is not prime\")\n",
    "            found_prime = False\n",
    "            break\n",
    "          \n",
    "    if found_prime == True :\n",
    "        print ( \"number \",i, \" is prime\" )\n",
    "        found_prime = True"
   ]
  },
  {
   "cell_type": "code",
   "execution_count": null,
   "metadata": {},
   "outputs": [],
   "source": []
  }
 ],
 "metadata": {
  "kernelspec": {
   "display_name": "Python 3",
   "language": "python",
   "name": "python3"
  },
  "language_info": {
   "codemirror_mode": {
    "name": "ipython",
    "version": 3
   },
   "file_extension": ".py",
   "mimetype": "text/x-python",
   "name": "python",
   "nbconvert_exporter": "python",
   "pygments_lexer": "ipython3",
   "version": "3.7.3"
  }
 },
 "nbformat": 4,
 "nbformat_minor": 2
}
