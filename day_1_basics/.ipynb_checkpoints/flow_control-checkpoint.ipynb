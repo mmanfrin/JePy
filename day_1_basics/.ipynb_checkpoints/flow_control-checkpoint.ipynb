{
 "cells": [
  {
   "cell_type": "markdown",
   "metadata": {},
   "source": [
    "Notebook is copyright &copy; of Ajay Tech"
   ]
  },
  {
   "cell_type": "markdown",
   "metadata": {},
   "source": [
    "# Flow Control"
   ]
  },
  {
   "cell_type": "markdown",
   "metadata": {},
   "source": [
    "## Contents"
   ]
  },
  {
   "cell_type": "markdown",
   "metadata": {},
   "source": [
    "- if statement\n",
    "- nested if statement\n",
    "- elif statement\n",
    "  - debugging in Visual Studio Code IDE\n",
    "- else statement"
   ]
  },
  {
   "cell_type": "markdown",
   "metadata": {},
   "source": [
    "### if statement"
   ]
  },
  {
   "cell_type": "markdown",
   "metadata": {},
   "source": [
    "Say, we are programming the elevator. Depending on the elevator's current floor, and depending on the user's floor, the elevator will have to move to that floor."
   ]
  },
  {
   "cell_type": "markdown",
   "metadata": {},
   "source": [
    "First, we have to learn a couple of things about our environment. \n",
    "\n",
    "- How many floors in the building ?\n",
    "- What is the current floor the elevator is on ?\n",
    "- Which floor is the user on ? "
   ]
  },
  {
   "cell_type": "markdown",
   "metadata": {},
   "source": [
    "Where would you store these ? Variables of course. Let's declare these variables. "
   ]
  },
  {
   "cell_type": "code",
   "execution_count": 3,
   "metadata": {},
   "outputs": [],
   "source": [
    "floors = 10\n",
    "current_floor = 0 # This is just a starting point\n",
    "user_floor = 0 # This is just a starting point"
   ]
  },
  {
   "cell_type": "markdown",
   "metadata": {},
   "source": [
    "__current_floor__ is just a starting point and will change as the elevator keeps moving. Same with __user_floor__ . Now, let's say the user has pressed the elevator button on floor number 5. How should the elevator move ?"
   ]
  },
  {
   "cell_type": "code",
   "execution_count": 13,
   "metadata": {},
   "outputs": [
    {
     "name": "stdout",
     "output_type": "stream",
     "text": [
      " Move up \n"
     ]
    }
   ],
   "source": [
    "user_floor = 6\n",
    "\n",
    "difference = user_floor - current_floor\n",
    "\n",
    "if difference < 0 : \n",
    "    current_floor = user_floor\n",
    "    print ( \" Move down \")\n",
    "    \n",
    "if difference > 0 : \n",
    "    current_floor = user_floor\n",
    "    print ( \" Move up \")    "
   ]
  },
  {
   "cell_type": "markdown",
   "metadata": {},
   "source": [
    "Try changing the **user_floor** variable and see if you are getting the right result or not. "
   ]
  },
  {
   "cell_type": "markdown",
   "metadata": {},
   "source": [
    "the syntax for **if** statement is quite simple. "
   ]
  },
  {
   "cell_type": "markdown",
   "metadata": {},
   "source": [
    "<img src=\"./pics/if-statement.png\"/>"
   ]
  },
  {
   "cell_type": "markdown",
   "metadata": {},
   "source": [
    "For example in this case, the expression is "
   ]
  },
  {
   "cell_type": "code",
   "execution_count": 11,
   "metadata": {},
   "outputs": [
    {
     "data": {
      "text/plain": [
       "True"
      ]
     },
     "execution_count": 11,
     "metadata": {},
     "output_type": "execute_result"
    }
   ],
   "source": [
    "difference < 0"
   ]
  },
  {
   "cell_type": "markdown",
   "metadata": {},
   "source": [
    "which can evaluate to a boolean variable - either **True** or **False**. And the block of code that is executed can be as big as you want, as long as there is that indentation. "
   ]
  },
  {
   "cell_type": "markdown",
   "metadata": {},
   "source": [
    "#### Nested if statement"
   ]
  },
  {
   "cell_type": "markdown",
   "metadata": {},
   "source": [
    "The if statements can be nested. For example, the elevator should move up or down only when the emergency button is NOT pressed. If it is pressed, stop moving. Again, we store the value of the emergency button in another variable - a True or False boolean variable. If it is True it means that the emergency button is pressed - don't do anything. If it is False, keep continuing with the operation the user requested. "
   ]
  },
  {
   "cell_type": "markdown",
   "metadata": {},
   "source": [
    "<img src=\"./pics/nested-if-statement.png\"/>"
   ]
  },
  {
   "cell_type": "code",
   "execution_count": 19,
   "metadata": {},
   "outputs": [
    {
     "name": "stdout",
     "output_type": "stream",
     "text": [
      " Move up \n"
     ]
    }
   ],
   "source": [
    "emergency_button = False # By default we set it to false. \n",
    "user_floor = 7\n",
    "\n",
    "difference = user_floor - current_floor\n",
    "\n",
    "if difference < 0 : \n",
    "    current_floor = user_floor\n",
    "    if emergency_button == False :\n",
    "        print ( \" Move down \")\n",
    "    \n",
    "if difference > 0 : \n",
    "    current_floor = user_floor\n",
    "    if emergency_button == False : \n",
    "        print ( \" Move up \")    "
   ]
  },
  {
   "cell_type": "markdown",
   "metadata": {},
   "source": [
    "Once we get to operators & expressions, we will see examples of how to combine these multiple if statements using an **and** syntax. "
   ]
  },
  {
   "cell_type": "markdown",
   "metadata": {},
   "source": [
    "#### elif statement"
   ]
  },
  {
   "cell_type": "markdown",
   "metadata": {},
   "source": [
    "Let's rewrite the same program using another flow control syntax in Python called **elif**"
   ]
  },
  {
   "cell_type": "code",
   "execution_count": 22,
   "metadata": {},
   "outputs": [
    {
     "name": "stdout",
     "output_type": "stream",
     "text": [
      " Move down \n"
     ]
    }
   ],
   "source": [
    "user_floor = 3\n",
    "\n",
    "difference = user_floor - current_floor\n",
    "\n",
    "if difference < 0 : \n",
    "    current_floor = user_floor\n",
    "    print ( \" Move down \")\n",
    "    \n",
    "elif difference > 0 : \n",
    "    current_floor = user_floor\n",
    "    print ( \" Move up \")    "
   ]
  },
  {
   "cell_type": "markdown",
   "metadata": {},
   "source": [
    "**elif** is a short form for _else if_ . Essentially, both these programs achieve the same functionality. But why use the **elif** syntax ?"
   ]
  },
  {
   "cell_type": "markdown",
   "metadata": {},
   "source": [
    "<img src=\"./pics/elif.png\"/>"
   ]
  },
  {
   "cell_type": "markdown",
   "metadata": {},
   "source": [
    "### Debugging"
   ]
  },
  {
   "cell_type": "markdown",
   "metadata": {},
   "source": [
    "It can be hard to visualize this. So, let's do some debugging to understand this in action. Debugging is specific to the IDE you are using. In our case, we will use Visual Studio Code as our IDE. If you are using Spyder or PyCharm, the specific steps will be different. "
   ]
  },
  {
   "cell_type": "markdown",
   "metadata": {},
   "source": [
    "Open the program debugging.py in Visual Studio Code, and click on the debug button on the left. "
   ]
  },
  {
   "cell_type": "markdown",
   "metadata": {},
   "source": [
    "<img src=\"./pics/debug-button.png\"/>"
   ]
  },
  {
   "cell_type": "markdown",
   "metadata": {},
   "source": [
    "Set a breakpoint in the gutter ( to the left of line number ) of the first line, "
   ]
  },
  {
   "cell_type": "markdown",
   "metadata": {},
   "source": [
    "<img src=\"./pics/set-breakpoint.png\"/>"
   ]
  },
  {
   "cell_type": "markdown",
   "metadata": {},
   "source": [
    "Start debugging, by clicking on the play button in debug window. "
   ]
  },
  {
   "cell_type": "markdown",
   "metadata": {},
   "source": [
    "<img src=\"./pics/start-debugging.png\"/>"
   ]
  },
  {
   "cell_type": "markdown",
   "metadata": {},
   "source": [
    "In debug mode, the program execution is stopped at the first breakpoint. In our case, we have set a breakpoint at the first line and the execution should stop there. Let's execute the program line by line. In order to do that, let's execute the first line by clicking on the **step over** button. "
   ]
  },
  {
   "cell_type": "markdown",
   "metadata": {},
   "source": [
    "<img src=\"./pics/step-over.png\"/>"
   ]
  },
  {
   "cell_type": "markdown",
   "metadata": {},
   "source": [
    "As you can see, the program execution has moved on to the next line. The yellow highlight shows the current line of execution. "
   ]
  },
  {
   "cell_type": "markdown",
   "metadata": {},
   "source": [
    "<img src=\"./pics/next-line.png\"/>"
   ]
  },
  {
   "cell_type": "markdown",
   "metadata": {},
   "source": [
    "At this point, you should see that the **floors** variable is available for inspection. "
   ]
  },
  {
   "cell_type": "markdown",
   "metadata": {},
   "source": [
    "<img src=\"./pics/floors-variable.png\"/>"
   ]
  },
  {
   "cell_type": "markdown",
   "metadata": {},
   "source": [
    "keep going until you hit the **if** statement. "
   ]
  },
  {
   "cell_type": "markdown",
   "metadata": {},
   "source": [
    "<img src=\"./pics/if-statement-debug.png\"/>"
   ]
  },
  {
   "cell_type": "markdown",
   "metadata": {},
   "source": [
    "At this point, difference is 6 and hence it is > 0. But still the first if statement is executed to check if the difference is < 0. Since the difference is > 0, the next if statement is executed and :Move up\" gets printed."
   ]
  },
  {
   "cell_type": "markdown",
   "metadata": {},
   "source": [
    "<img src=\"./pics/next-if-statement.png\"/>"
   ]
  },
  {
   "cell_type": "markdown",
   "metadata": {},
   "source": [
    "If you continue to debug the next set of if-elif statements, since difference = -3 , only the first if statement is executed and the elif statement is NOT executed. "
   ]
  },
  {
   "cell_type": "markdown",
   "metadata": {},
   "source": [
    "<img src=\"./pics/first-if-statement-only.png\"/>"
   ]
  },
  {
   "cell_type": "markdown",
   "metadata": {},
   "source": [
    "This is just to make you understand the program flow and difference between an **if** statement and an __elif__ statement. "
   ]
  },
  {
   "cell_type": "markdown",
   "metadata": {},
   "source": [
    "#### else statement"
   ]
  },
  {
   "cell_type": "markdown",
   "metadata": {},
   "source": [
    "What is the user is on the same floor as the elevator ? The elevator just needs to open the door, right ? Let's capture that as the default case using the **else** statement. "
   ]
  },
  {
   "cell_type": "code",
   "execution_count": 27,
   "metadata": {},
   "outputs": [
    {
     "name": "stdout",
     "output_type": "stream",
     "text": [
      " Open door \n"
     ]
    }
   ],
   "source": [
    "user_floor = 5\n",
    "\n",
    "difference = user_floor - current_floor\n",
    "\n",
    "if difference < 0 : \n",
    "    current_floor = user_floor\n",
    "    print ( \" Move down \")\n",
    "    \n",
    "elif difference > 0 : \n",
    "    current_floor = user_floor\n",
    "    print ( \" Move up \")    \n",
    "    \n",
    "else :\n",
    "    print ( \" Open door \")"
   ]
  },
  {
   "cell_type": "markdown",
   "metadata": {},
   "source": [
    "<img src=\"./pics/else-statement-picture.png\"/>"
   ]
  },
  {
   "cell_type": "markdown",
   "metadata": {},
   "source": [
    "**Quiz**"
   ]
  },
  {
   "cell_type": "code",
   "execution_count": 30,
   "metadata": {},
   "outputs": [
    {
     "name": "stdout",
     "output_type": "stream",
     "text": [
      " positive number \n"
     ]
    }
   ],
   "source": [
    "number = 10 \n",
    "if number > 0 ,\n",
    "   print ( \" positive number \")"
   ]
  },
  {
   "cell_type": "markdown",
   "metadata": {},
   "source": [
    "**Question** : The program snippet above is syntactically correct. "
   ]
  },
  {
   "cell_type": "markdown",
   "metadata": {},
   "source": [
    "- True\n",
    "- False"
   ]
  },
  {
   "cell_type": "code",
   "execution_count": 33,
   "metadata": {},
   "outputs": [
    {
     "name": "stdout",
     "output_type": "stream",
     "text": [
      " teenage \n"
     ]
    }
   ],
   "source": [
    "age = 10 \n",
    "\n",
    "if ___________ :\n",
    "    print ( \" teenage \")"
   ]
  },
  {
   "cell_type": "code",
   "execution_count": null,
   "metadata": {},
   "outputs": [],
   "source": []
  }
 ],
 "metadata": {
  "kernelspec": {
   "display_name": "Python 3",
   "language": "python",
   "name": "python3"
  },
  "language_info": {
   "codemirror_mode": {
    "name": "ipython",
    "version": 3
   },
   "file_extension": ".py",
   "mimetype": "text/x-python",
   "name": "python",
   "nbconvert_exporter": "python",
   "pygments_lexer": "ipython3",
   "version": "3.7.3"
  }
 },
 "nbformat": 4,
 "nbformat_minor": 2
}
