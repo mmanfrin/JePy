{
 "cells": [
  {
   "cell_type": "markdown",
   "metadata": {},
   "source": [
    "Notebook is copyright &copy; of <a href=\"https://ajaytech.co\">Ajay Tech </a>"
   ]
  },
  {
   "cell_type": "markdown",
   "metadata": {},
   "source": [
    "# User defined functions"
   ]
  },
  {
   "cell_type": "markdown",
   "metadata": {},
   "source": [
    "## Contents"
   ]
  },
  {
   "cell_type": "markdown",
   "metadata": {},
   "source": [
    "- What is a user defined functions\n",
    "- docstring\n",
    "- variable scope\n",
    "- Arguments\n",
    "  - Required arguments\n",
    "  - Named arguments\n",
    "  - Default arguments\n",
    "  - Variable number of arguments"
   ]
  },
  {
   "cell_type": "markdown",
   "metadata": {},
   "source": [
    "### What is a user defined function"
   ]
  },
  {
   "cell_type": "markdown",
   "metadata": {},
   "source": [
    "Let's take a simple task - Calculate the interest on the balance in your bank account since the beginning of the year. In order to do that, you first need 3 things\n",
    "\n",
    "- account balance\n",
    "- interest rate\n",
    "- days since Jan 1st of the current year"
   ]
  },
  {
   "cell_type": "markdown",
   "metadata": {},
   "source": [
    "<img src=\"./pics/python-function.png\"/>"
   ]
  },
  {
   "cell_type": "code",
   "execution_count": 20,
   "metadata": {},
   "outputs": [],
   "source": [
    "def calculate_interest(balance,interest,days) :\n",
    "    \n",
    "    interest_amount = balance * ( interest / 100 ) * ( days/365 )\n",
    "    \n",
    "    return interest_amount"
   ]
  },
  {
   "cell_type": "markdown",
   "metadata": {},
   "source": [
    "<img src=\"./pics/function-code.png\"/>"
   ]
  },
  {
   "cell_type": "markdown",
   "metadata": {},
   "source": [
    "To call the function, all you have to do is to just follow the signature of the function. "
   ]
  },
  {
   "cell_type": "code",
   "execution_count": 3,
   "metadata": {},
   "outputs": [
    {
     "name": "stdout",
     "output_type": "stream",
     "text": [
      "32.87671232876712\n"
     ]
    }
   ],
   "source": [
    "interest_amount = calculate_interest(1200,10,100)\n",
    "print ( interest_amount )"
   ]
  },
  {
   "cell_type": "markdown",
   "metadata": {},
   "source": [
    "Think of functions as essentially outsourcing the processing to a different place. In a large project, each developer works on developing his/her own piece of logic. Eventually, all of them need to be linked together. Functions provide the most fundamental way in which logic can be clealy separated. Ofcourse, there are other things like modules, libraries etc that do the same at a much higher level, but that is a topic for another day. \n",
    "\n",
    "Now, since the logic is separated into a separate function, the developer writing the function has to provide some kind of documentation on how to use the function. For example, in this case, the developer would have to provide some basic info on how to pass the arguments. For example, should the interest rate be passed as a percentage or value. How should the days be calculated - since the beginning of the fiscal year or the beginning of financial year etc.\n",
    "\n",
    "In order to do this, python provides something called as a docstring."
   ]
  },
  {
   "cell_type": "markdown",
   "metadata": {},
   "source": [
    "### docstring"
   ]
  },
  {
   "cell_type": "markdown",
   "metadata": {},
   "source": [
    "docstring is a simple way to provide documentation on the function. It can also be used for providing documentation on classes of modules as we will see when we get to them. Providing a docstring in a function is very simple - just provide the text enclosed in **triple quotes**."
   ]
  },
  {
   "cell_type": "markdown",
   "metadata": {},
   "source": [
    "<img src=\"./pics/docstring-prompt.png\"/>"
   ]
  },
  {
   "cell_type": "code",
   "execution_count": 8,
   "metadata": {},
   "outputs": [],
   "source": [
    "def calculate_interest(balance,interest,days) :\n",
    "    \"\"\"\n",
    "    Calculates interest on a given balance. The key arguments are\n",
    "    1. Balance  - Amount on which balance needs to be calculated\n",
    "    2. Interest - Annual interest in percentage\n",
    "    3. Days     - Number of days since the beginning of the year\n",
    "    \"\"\"\n",
    "    interest_amount = balance * ( interest / 100 ) * ( days/365 )\n",
    "    return interest_amount"
   ]
  },
  {
   "cell_type": "code",
   "execution_count": 20,
   "metadata": {},
   "outputs": [
    {
     "data": {
      "text/plain": [
       "<function __main__.calculate_interest(balance, interest, days)>"
      ]
     },
     "execution_count": 20,
     "metadata": {},
     "output_type": "execute_result"
    }
   ],
   "source": [
    "calculate_interest"
   ]
  },
  {
   "cell_type": "markdown",
   "metadata": {},
   "source": [
    "<img src=\"./pics/docstring.png\"/>"
   ]
  },
  {
   "cell_type": "markdown",
   "metadata": {},
   "source": [
    "You can also get the same programmatically using the __doc__ function."
   ]
  },
  {
   "cell_type": "code",
   "execution_count": 12,
   "metadata": {},
   "outputs": [
    {
     "name": "stdout",
     "output_type": "stream",
     "text": [
      "\n",
      "    Calculates interest on a given balance. The key arguments are\n",
      "    1. Balance  - Amount on which balance needs to be calculated\n",
      "    2. Interest - Annual interest in percentage\n",
      "    3. Days     - Number of days since the beginning of the year\n",
      "    \n"
     ]
    }
   ],
   "source": [
    "print ( calculate_interest.__doc__ )"
   ]
  },
  {
   "cell_type": "markdown",
   "metadata": {},
   "source": [
    "### Arguments"
   ]
  },
  {
   "cell_type": "markdown",
   "metadata": {},
   "source": [
    "Arguments are how the function receives information from the caller. There are many variations in the way the arguments can be passed. For example, you can\n",
    "- specify mandatory arguments\n",
    "- pass default values to arguments\n",
    "- have variable number of arguments and so on. \n",
    "\n",
    "Let's discvoer each of these variations."
   ]
  },
  {
   "cell_type": "markdown",
   "metadata": {},
   "source": [
    "#### Required arguments"
   ]
  },
  {
   "cell_type": "markdown",
   "metadata": {},
   "source": [
    "Most of the times some of the arguments to a function are required and some are not. Let's take the **calculate_interest** example that we have seen above. There are 3 arguments. "
   ]
  },
  {
   "cell_type": "code",
   "execution_count": 8,
   "metadata": {},
   "outputs": [],
   "source": [
    "def calculate_interest(balance,interest,days) :\n",
    "    \n",
    "    interest_amount = balance * ( interest / 100 ) * ( days/365 )\n",
    "    \n",
    "    return interest_amount"
   ]
  },
  {
   "cell_type": "markdown",
   "metadata": {},
   "source": [
    "What happens when you call the function with just 2 arguments ? Python throws a **TypeError**. "
   ]
  },
  {
   "cell_type": "code",
   "execution_count": 22,
   "metadata": {},
   "outputs": [
    {
     "ename": "TypeError",
     "evalue": "calculate_interest() missing 1 required positional argument: 'days'",
     "output_type": "error",
     "traceback": [
      "\u001b[1;31m---------------------------------------------------------------------------\u001b[0m",
      "\u001b[1;31mTypeError\u001b[0m                                 Traceback (most recent call last)",
      "\u001b[1;32m<ipython-input-22-b464ba338fc0>\u001b[0m in \u001b[0;36m<module>\u001b[1;34m\u001b[0m\n\u001b[1;32m----> 1\u001b[1;33m \u001b[0minterest_amount\u001b[0m \u001b[1;33m=\u001b[0m \u001b[0mcalculate_interest\u001b[0m\u001b[1;33m(\u001b[0m\u001b[1;36m1000\u001b[0m\u001b[1;33m,\u001b[0m \u001b[1;36m5\u001b[0m\u001b[1;33m)\u001b[0m\u001b[1;33m\u001b[0m\u001b[1;33m\u001b[0m\u001b[0m\n\u001b[0m",
      "\u001b[1;31mTypeError\u001b[0m: calculate_interest() missing 1 required positional argument: 'days'"
     ]
    }
   ],
   "source": [
    "interest_amount = calculate_interest(1000, 5)"
   ]
  },
  {
   "cell_type": "markdown",
   "metadata": {},
   "source": [
    "When you don't specify argument names, the position of the arguments is important. "
   ]
  },
  {
   "cell_type": "markdown",
   "metadata": {},
   "source": [
    "<img src=\"./pics/arguments-order.png\"/>"
   ]
  },
  {
   "cell_type": "code",
   "execution_count": 26,
   "metadata": {},
   "outputs": [],
   "source": [
    "interest_amount = calculate_interest(1000, 5,100)"
   ]
  },
  {
   "cell_type": "markdown",
   "metadata": {},
   "source": [
    "#### Named Arguments"
   ]
  },
  {
   "cell_type": "markdown",
   "metadata": {},
   "source": [
    "Named arguments can be passed in any order you like - as long as you specify the argument name Python does the matching automatically. "
   ]
  },
  {
   "cell_type": "markdown",
   "metadata": {},
   "source": [
    "<img src=\"./pics/named-arguments.png\"/>"
   ]
  },
  {
   "cell_type": "code",
   "execution_count": 25,
   "metadata": {},
   "outputs": [],
   "source": [
    "interest_amount = calculate_interest(interest = 5, days = 100, balance = 1000)"
   ]
  },
  {
   "cell_type": "markdown",
   "metadata": {},
   "source": [
    "This would result in the sa"
   ]
  },
  {
   "cell_type": "markdown",
   "metadata": {},
   "source": [
    "The reason is because, unless specified otherwise, all arguments to a function are mandatory. Sometimes, to simplify things, we might make it easy on the user of the function to default an argument to a fixed value. "
   ]
  },
  {
   "cell_type": "markdown",
   "metadata": {},
   "source": [
    "#### Default arguments"
   ]
  },
  {
   "cell_type": "markdown",
   "metadata": {},
   "source": [
    "Say, the interest rate is 5% unless specified otherwise. This is how we would define that function."
   ]
  },
  {
   "cell_type": "code",
   "execution_count": 11,
   "metadata": {},
   "outputs": [
    {
     "ename": "SyntaxError",
     "evalue": "non-default argument follows default argument (<ipython-input-11-c745ff0a87a1>, line 1)",
     "output_type": "error",
     "traceback": [
      "\u001b[1;36m  File \u001b[1;32m\"<ipython-input-11-c745ff0a87a1>\"\u001b[1;36m, line \u001b[1;32m1\u001b[0m\n\u001b[1;33m    def calculate_interest (balance,interest = 5,days) :\u001b[0m\n\u001b[1;37m                           ^\u001b[0m\n\u001b[1;31mSyntaxError\u001b[0m\u001b[1;31m:\u001b[0m non-default argument follows default argument\n"
     ]
    }
   ],
   "source": [
    "def calculate_interest (balance,interest = 5,days) :\n",
    "    \n",
    "    interest_amount = balance * ( interest / 100 ) * ( days/365 )\n",
    "    \n",
    "    return interest_amount"
   ]
  },
  {
   "cell_type": "markdown",
   "metadata": {},
   "source": [
    "That didn't seem to work, right ? What python is saying is that default arguments should be specified at the end (before the non-default argument begins). In this case, specify the _days_ argument before the _interest_ argument."
   ]
  },
  {
   "cell_type": "code",
   "execution_count": 12,
   "metadata": {},
   "outputs": [],
   "source": [
    "def calculate_interest (balance,days, interest = 5) :\n",
    "    \n",
    "    interest_amount = balance * ( interest / 100 ) * ( days/365 )\n",
    "    \n",
    "    return interest_amount"
   ]
  },
  {
   "cell_type": "markdown",
   "metadata": {},
   "source": [
    "Now, if we call the function, we don't need to pass the argument for _interest_. "
   ]
  },
  {
   "cell_type": "code",
   "execution_count": 14,
   "metadata": {},
   "outputs": [
    {
     "data": {
      "text/plain": [
       "16.43835616438356"
      ]
     },
     "execution_count": 14,
     "metadata": {},
     "output_type": "execute_result"
    }
   ],
   "source": [
    "interest_amount = calculate_interest(1200, 100)\n",
    "interest_amount"
   ]
  },
  {
   "cell_type": "markdown",
   "metadata": {},
   "source": [
    "However, if you want, you can very well pass the argument for interest as well. The function works either way. Very convenient, isn't it ? "
   ]
  },
  {
   "cell_type": "markdown",
   "metadata": {},
   "source": [
    "A good example for this is the **print** function. Look at the signature of it. "
   ]
  },
  {
   "cell_type": "markdown",
   "metadata": {},
   "source": [
    "<pre>\n",
    "print(*objects, sep=' ', end='\\n', file=sys.stdout, flush=False)\n",
    "</pre>"
   ]
  },
  {
   "cell_type": "markdown",
   "metadata": {},
   "source": [
    "The arguments for separator (sep), end of line (end), output stream (file) etc are all defaulted to some values so that you don't have to specify them everytime. However, you can very well send them in based on your requirements. For example, if you don't want the newline to be printed for everytime the print function is used, send in a blank for the _end_ argument. "
   ]
  },
  {
   "cell_type": "code",
   "execution_count": 17,
   "metadata": {},
   "outputs": [
    {
     "name": "stdout",
     "output_type": "stream",
     "text": [
      "AjayTech\n"
     ]
    }
   ],
   "source": [
    "print ( \"Ajay\", end=\"\")\n",
    "print ( \"Tech\")"
   ]
  },
  {
   "cell_type": "markdown",
   "metadata": {},
   "source": [
    "If not for that, this is how the default behaviour would look like. "
   ]
  },
  {
   "cell_type": "code",
   "execution_count": 19,
   "metadata": {},
   "outputs": [
    {
     "name": "stdout",
     "output_type": "stream",
     "text": [
      "Ajay\n",
      "Tech\n"
     ]
    }
   ],
   "source": [
    "print ( \"Ajay\")\n",
    "print ( \"Tech\")"
   ]
  },
  {
   "cell_type": "markdown",
   "metadata": {},
   "source": [
    "#### Variable number of arguments"
   ]
  },
  {
   "cell_type": "markdown",
   "metadata": {},
   "source": [
    "The print function is a good example of a function with variable number of arguments. It can take as many strings as you want and still print all of them sequentially. "
   ]
  },
  {
   "cell_type": "markdown",
   "metadata": {},
   "source": [
    "<img src=\"./pics/variable-arguments.png\"/>"
   ]
  },
  {
   "cell_type": "code",
   "execution_count": 3,
   "metadata": {},
   "outputs": [
    {
     "name": "stdout",
     "output_type": "stream",
     "text": [
      "Ajay Tech is a tech company\n"
     ]
    }
   ],
   "source": [
    "print ( \"Ajay\", \"Tech\", \"is\", \"a\",\"tech\",\"company\")"
   ]
  },
  {
   "cell_type": "markdown",
   "metadata": {},
   "source": [
    "The way to define a function like this is by using a star ( __*__ ) before the parameter name.  Here is an example of a function that takes in a variable number of grades and computes the average of them. "
   ]
  },
  {
   "cell_type": "code",
   "execution_count": 4,
   "metadata": {},
   "outputs": [],
   "source": [
    "def avg_grade(*grades) :\n",
    "    \n",
    "    i   = 0\n",
    "    sum = 0.0\n",
    "    for grade in grades :\n",
    "        sum = sum + grade\n",
    "        i   = i + 1\n",
    "    \n",
    "    avg = sum / i\n",
    "    return avg"
   ]
  },
  {
   "cell_type": "code",
   "execution_count": 7,
   "metadata": {},
   "outputs": [
    {
     "data": {
      "text/plain": [
       "3.0"
      ]
     },
     "execution_count": 7,
     "metadata": {},
     "output_type": "execute_result"
    }
   ],
   "source": [
    "avg = avg_grade(2.5,3.0,3.5) # as many arguments as you like\n",
    "avg"
   ]
  },
  {
   "cell_type": "markdown",
   "metadata": {},
   "source": [
    "Internally, python takes in these arguments as a tuple. We will discuss <a href=\"https://ajaytech.co/python-tuples\">tuples in python</a> in a later section."
   ]
  }
 ],
 "metadata": {
  "kernelspec": {
   "display_name": "Python 3",
   "language": "python",
   "name": "python3"
  },
  "language_info": {
   "codemirror_mode": {
    "name": "ipython",
    "version": 3
   },
   "file_extension": ".py",
   "mimetype": "text/x-python",
   "name": "python",
   "nbconvert_exporter": "python",
   "pygments_lexer": "ipython3",
   "version": "3.7.3"
  }
 },
 "nbformat": 4,
 "nbformat_minor": 2
}
