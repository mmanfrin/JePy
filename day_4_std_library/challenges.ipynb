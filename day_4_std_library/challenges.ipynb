{
 "cells": [
  {
   "cell_type": "markdown",
   "metadata": {},
   "source": [
    "Notebook is copyright &copy; of <a href=\"https://ajaytech.co\"> Ajay Tech </a>"
   ]
  },
  {
   "cell_type": "markdown",
   "metadata": {},
   "source": [
    "# Python Standard Library Challenges"
   ]
  },
  {
   "cell_type": "markdown",
   "metadata": {},
   "source": [
    "## Contents"
   ]
  },
  {
   "cell_type": "markdown",
   "metadata": {},
   "source": [
    "- Dice Class\n",
    "- Loaded Dice Class\n",
    "- Prove that a dice is loaded\n",
    "- Hangman game\n",
    "  - Hangman game with words in file\n",
    "- Calculate Factorial\n",
    "- Calculate sin(x)"
   ]
  },
  {
   "cell_type": "markdown",
   "metadata": {},
   "source": [
    "### Dice Class"
   ]
  },
  {
   "cell_type": "markdown",
   "metadata": {},
   "source": [
    "#### Challenge"
   ]
  },
  {
   "cell_type": "markdown",
   "metadata": {},
   "source": [
    "Create a **Dice** class with the following characteristics\n",
    "\n",
    "- When you _roll_ the dice, you get a random number between 1 and 6"
   ]
  },
  {
   "cell_type": "markdown",
   "metadata": {},
   "source": [
    "#### Solution"
   ]
  },
  {
   "cell_type": "code",
   "execution_count": 2,
   "metadata": {},
   "outputs": [],
   "source": [
    "from random import uniform\n",
    "\n",
    "class Dice:\n",
    "    \n",
    "    def __init__ (self) :\n",
    "        pass\n",
    "    def roll (self) :\n",
    "        return round(uniform (1,7))\n",
    "        "
   ]
  },
  {
   "cell_type": "code",
   "execution_count": 3,
   "metadata": {},
   "outputs": [
    {
     "data": {
      "text/plain": [
       "3"
      ]
     },
     "execution_count": 3,
     "metadata": {},
     "output_type": "execute_result"
    }
   ],
   "source": [
    "d = Dice()\n",
    "d.roll()"
   ]
  },
  {
   "cell_type": "markdown",
   "metadata": {},
   "source": [
    "#### Challenge"
   ]
  },
  {
   "cell_type": "markdown",
   "metadata": {},
   "source": [
    "Create a **Loaded Dice** with the following characteristics\n",
    "\n",
    "- Dice should be _initialized_ with the load number ( Meaning, if the dice is loaded to show the number 5 higher number of times than the rest, it should be set at the time of initializing ).\n",
    "- When you _roll_ the dice, you get a random number between 1 and 6. However 50% of the time the dice should always return the loaded number."
   ]
  },
  {
   "cell_type": "code",
   "execution_count": 4,
   "metadata": {},
   "outputs": [],
   "source": [
    "from random import uniform\n",
    "\n",
    "class LoadedDice:\n",
    "    \n",
    "    def __init__ (self, load) :\n",
    "        self.load = load\n",
    "\n",
    "    def roll (self) :\n",
    "        r = round(uniform(1,7))\n",
    "        if round(uniform(0,2)) == 1 :\n",
    "            return r\n",
    "        else :\n",
    "            return self.load"
   ]
  },
  {
   "cell_type": "code",
   "execution_count": 5,
   "metadata": {},
   "outputs": [
    {
     "data": {
      "text/plain": [
       "5"
      ]
     },
     "execution_count": 5,
     "metadata": {},
     "output_type": "execute_result"
    }
   ],
   "source": [
    "d = LoadedDice(3)\n",
    "d.roll()"
   ]
  },
  {
   "cell_type": "markdown",
   "metadata": {},
   "source": [
    "#### Challenge"
   ]
  },
  {
   "cell_type": "markdown",
   "metadata": {},
   "source": [
    "Test the **Dice** and **LoadedDice** and prove that statistically one class is unloaded and the other is loaded. Ideally, you should look at the histogram and verify that it is a normal distribution or not. However, for now just check that the mean of __Dice__ is 3 or close to 3, while the mean of __LoadedDice__ is not.\n",
    "\n",
    "- Take the output of each of the classes a large number( say 10,000 ) times\n",
    "- Calculate the mean of each of the samples."
   ]
  },
  {
   "cell_type": "markdown",
   "metadata": {},
   "source": [
    "#### Solution"
   ]
  },
  {
   "cell_type": "code",
   "execution_count": 6,
   "metadata": {},
   "outputs": [],
   "source": [
    "# holds the output of dice\n",
    "d_list  = [] \n",
    "\n",
    "# holds the output of loaded dice\n",
    "ld_list = []\n",
    "\n",
    "\n",
    "d = Dice()\n",
    "ld = LoadedDice(6)\n",
    "\n",
    "for i in range(10000) :\n",
    "    d_list.append(d.roll())\n",
    "    ld_list.append(ld.roll())\n"
   ]
  },
  {
   "cell_type": "code",
   "execution_count": 7,
   "metadata": {},
   "outputs": [
    {
     "name": "stdout",
     "output_type": "stream",
     "text": [
      "3.9649\n",
      "4.9868\n"
     ]
    }
   ],
   "source": [
    "from statistics import mean\n",
    "\n",
    "print ( mean(d_list) )\n",
    "print ( mean(ld_list) )"
   ]
  },
  {
   "cell_type": "markdown",
   "metadata": {},
   "source": [
    "#### Challenge - Calculate Factorial"
   ]
  },
  {
   "cell_type": "markdown",
   "metadata": {},
   "source": [
    "Calculate **Factorial** of a number without using the built-in factorial function."
   ]
  },
  {
   "cell_type": "code",
   "execution_count": 29,
   "metadata": {},
   "outputs": [
    {
     "name": "stdin",
     "output_type": "stream",
     "text": [
      "enter number - 30\n"
     ]
    },
    {
     "name": "stdout",
     "output_type": "stream",
     "text": [
      "Factorial of 30  is 265252859812191058636308480000000\n"
     ]
    }
   ],
   "source": [
    "number = int(input(\"enter number -\"))\n",
    "factorial = 1\n",
    "if number < 0 :\n",
    "    print (\"enter a positive number\")\n",
    "elif number == 0 :\n",
    "    print ( \" factorial of 0 is 1\")\n",
    "else :\n",
    "    # assuming it is a positive integer ( and not a float )\n",
    "    for i in range(1, number + 1) :\n",
    "        factorial = factorial * i\n",
    "    print ( \"Factorial of\", number, \" is\", factorial)"
   ]
  },
  {
   "cell_type": "markdown",
   "metadata": {},
   "source": [
    "#### Challenge - Hangman game"
   ]
  },
  {
   "cell_type": "markdown",
   "metadata": {},
   "source": [
    "Hangman is a word guessing game. The computer guesses a word (you can either use a list of words from a file or use a third party library like _RandomWords_) and asks you to guess the word one letter at a time. If you have guessed a correct letter, it shows you that you have guessed the letter correctly and positions the letter in the correct sequence in the word and shows it to you ( ofcourse keeping the remaining letters blank). As you get progressively closer to finding the correct letters in the word, the more easier it becomes. Of course the catch being that there are a limited number of tries. You can get more information on the wikipedia page. "
   ]
  },
  {
   "cell_type": "markdown",
   "metadata": {},
   "source": [
    "#### Solution"
   ]
  },
  {
   "cell_type": "code",
   "execution_count": 2,
   "metadata": {},
   "outputs": [
    {
     "name": "stdout",
     "output_type": "stream",
     "text": [
      "Hangman game :\n",
      "Type 'exit' to quit the game\n",
      "['T', 'R', 'E', 'P', 'I', 'D', 'A', 'N', 'C', 'Y']\n",
      "_ _ _ _ _ _ _ _ _ _\n"
     ]
    },
    {
     "name": "stdin",
     "output_type": "stream",
     "text": [
      "\n",
      "Take a guess-->  exit\n"
     ]
    },
    {
     "ename": "SystemExit",
     "evalue": "0",
     "output_type": "error",
     "traceback": [
      "An exception has occurred, use %tb to see the full traceback.\n",
      "\u001b[1;31mSystemExit\u001b[0m\u001b[1;31m:\u001b[0m 0\n"
     ]
    }
   ],
   "source": [
    "# Play the game continously until the user enters Ctrl + C\n",
    "\n",
    "import sys\n",
    "from random_word import RandomWords\n",
    "\n",
    "rw = RandomWords()\n",
    "\n",
    "print (\"Hangman game :\")\n",
    "print (\"Type 'exit' to quit the game\")\n",
    "\n",
    "def get_indices (list_word, letter ) :\n",
    "\n",
    "    indices = []\n",
    "    # iterate over the list\n",
    "    for index, l in enumerate(list_word) :\n",
    "        if letter == l :\n",
    "            indices.append(index)\n",
    "    \n",
    "    print (indices)\n",
    "    return indices\n",
    "\n",
    "try :\n",
    "    # Play the game continously until the user enters Ctrl + C\n",
    "    while True :\n",
    "        word  = rw.get_random_word(hasDictionaryDef = True, maxLength = 10)\n",
    "        word  = list(word.upper())\n",
    "\n",
    "        guessed_word = [\" \"] * len(word)\n",
    "\n",
    "        print (word)\n",
    "\n",
    "        # maximum of 20 tries\n",
    "        for tries in range(20):\n",
    "            \n",
    "            if guessed_word == word :\n",
    "                print (\"Good job !! Lets move on to the next word\")\n",
    "                break\n",
    "            # display the word with all blanks\n",
    "            for index, val in enumerate(guessed_word) :\n",
    "                if index == len(guessed_word) -1  :\n",
    "                    if val == \" \" :\n",
    "                        print (\"_\")\n",
    "                    else :\n",
    "                        print (val)\n",
    "                else :\n",
    "                    if val == \" \" :\n",
    "                        print (\"_\",end=\" \")\n",
    "                    else :\n",
    "                        print (val, end=\" \")\n",
    "            \n",
    "            # ask the user to take a guess\n",
    "            letter = input(\"\\nTake a guess--> \").upper()\n",
    "            if letter.upper() == \"EXIT\" :\n",
    "                sys.exit(0)\n",
    "\n",
    "            # if the letter the user entered is in the random word, remake the display_word to show it.\n",
    "            if letter in word :\n",
    "                indices = get_indices(word, letter)\n",
    "                for index in indices :\n",
    "                    guessed_word[index] = letter\n",
    "        \n",
    "        else :\n",
    "            print (\"You have exceeded 20 tries. Try another word\")\n",
    "\n",
    "# exit the game when the user presses Ctrl + c\n",
    "except KeyboardInterrupt :\n",
    "    sys.exit(0)\n",
    "    "
   ]
  },
  {
   "cell_type": "markdown",
   "metadata": {},
   "source": [
    "#### Challenge "
   ]
  },
  {
   "cell_type": "markdown",
   "metadata": {},
   "source": [
    "Modify the Hangman game above to read the words from the file words.txt (location - ./data/words.txt)."
   ]
  },
  {
   "cell_type": "code",
   "execution_count": null,
   "metadata": {},
   "outputs": [],
   "source": [
    "# Play the game continously until the user enters Ctrl + C\n",
    "\n",
    "import sys\n",
    "from random import uniform\n",
    "\n",
    "\n",
    "# read the data from file\n",
    "words = []\n",
    "f = open(\"./data/words.txt\",\"r\")\n",
    "for line in f :\n",
    "    words.append(line)\n",
    "\n",
    "print (\"Hangman game :\")\n",
    "print (\"Type 'exit' to quit the game\")\n",
    "\n",
    "def get_indices (list_word, letter ) :\n",
    "\n",
    "    indices = []\n",
    "    # iterate over the list\n",
    "    for index, l in enumerate(list_word) :\n",
    "        if letter == l :\n",
    "            indices.append(index)\n",
    "    \n",
    "    return indices\n",
    "\n",
    "try :\n",
    "    # Play the game continously until the user enters Ctrl + C\n",
    "    while True :\n",
    "\n",
    "        word  = words[round(uniform(1,len(words)))]\n",
    "        #strip the last letter (\"\\n\")\n",
    "        word  = word.rstrip()\n",
    "        word  = list(word.upper())\n",
    "\n",
    "        guessed_word = [\" \"] * len(word)\n",
    "\n",
    "        print (word)\n",
    "\n",
    "        # maximum of 20 tries\n",
    "        for tries in range(20):\n",
    "            \n",
    "            if guessed_word == word :\n",
    "                print (\"Good job !! Lets move on to the next word\")\n",
    "                break\n",
    "            # display the word with all blanks\n",
    "            for index, val in enumerate(guessed_word) :\n",
    "                if index == len(guessed_word) -1  :\n",
    "                    if val == \" \" :\n",
    "                        print (\"_\")\n",
    "                    else :\n",
    "                        print (val)\n",
    "                else :\n",
    "                    if val == \" \" :\n",
    "                        print (\"_\",end=\" \")\n",
    "                    else :\n",
    "                        print (val, end=\" \")\n",
    "            \n",
    "            # ask the user to take a guess\n",
    "            letter = input(\"\\nTake a guess--> \").upper()\n",
    "            if letter.upper() == \"EXIT\" :\n",
    "                sys.exit(0)\n",
    "\n",
    "            # if the letter the user entered is in the random word, remake the display_word to show it.\n",
    "            if letter in word :\n",
    "                indices = get_indices(word, letter)\n",
    "                for index in indices :\n",
    "                    guessed_word[index] = letter\n",
    "        \n",
    "        else :\n",
    "            print (\"You have exceeded 20 tries. Try another word\")\n",
    "\n",
    "# exit the game when the user presses Ctrl + c\n",
    "except KeyboardInterrupt :\n",
    "    sys.exit(0)"
   ]
  },
  {
   "cell_type": "markdown",
   "metadata": {},
   "source": [
    "#### Challenge"
   ]
  },
  {
   "cell_type": "markdown",
   "metadata": {},
   "source": [
    "#### Calculate sin(x)"
   ]
  },
  {
   "cell_type": "markdown",
   "metadata": {},
   "source": [
    "Python's _Math_ module has a built-in **sin ( )** function. However, it can be calculated as follows. ( approximation)"
   ]
  },
  {
   "cell_type": "markdown",
   "metadata": {},
   "source": [
    "# $sin(x) = \\frac{x^1}{1!} - \\frac{x^3}{3!} + \\frac{x^5}{5!} - \\frac{x^7}{7!} ... $"
   ]
  },
  {
   "cell_type": "markdown",
   "metadata": {},
   "source": [
    "Calculate **sin (x)** using the above forumula upto 4 terms."
   ]
  },
  {
   "cell_type": "markdown",
   "metadata": {},
   "source": [
    "#### Solution"
   ]
  },
  {
   "cell_type": "code",
   "execution_count": 23,
   "metadata": {},
   "outputs": [
    {
     "name": "stdin",
     "output_type": "stream",
     "text": [
      "Enter degrees to calculate sin(x) -  360\n"
     ]
    },
    {
     "name": "stdout",
     "output_type": "stream",
     "text": [
      "6.283185307179586\n",
      "41.341702240399755\n",
      "81.60524927607504\n",
      "76.70585975306136\n",
      "42.058693944897634\n",
      "15.094642576822984\n",
      "3.8199525848482803\n",
      "0.7181223017785001\n",
      "0.10422916220813978\n",
      "0.012031585942120619\n",
      "-0.001048182796038511\n"
     ]
    }
   ],
   "source": [
    "from math import factorial, pow, radians\n",
    "\n",
    "degrees = radians(float(input(\"Enter degrees to calculate sin(x) - \")))\n",
    "\n",
    "sign = \"positive\"\n",
    "sin_x = 0\n",
    "for i in range(1,20) :\n",
    "    \n",
    "    if i%2 == 0 :\n",
    "        continue\n",
    "    else :\n",
    "        value =  pow(degrees, i) / factorial(i)\n",
    "        if sign == \"positive\":\n",
    "            sin_x = sin_x + value\n",
    "            sign =\"negative\"\n",
    "        else :\n",
    "            sin_x = sin_x - value\n",
    "            sign = \"positive\"\n",
    "        print (value)\n",
    "        \n",
    "print(sin_x)\n",
    "\n"
   ]
  },
  {
   "cell_type": "code",
   "execution_count": null,
   "metadata": {},
   "outputs": [],
   "source": []
  }
 ],
 "metadata": {
  "kernelspec": {
   "display_name": "Python 3",
   "language": "python",
   "name": "python3"
  },
  "language_info": {
   "codemirror_mode": {
    "name": "ipython",
    "version": 3
   },
   "file_extension": ".py",
   "mimetype": "text/x-python",
   "name": "python",
   "nbconvert_exporter": "python",
   "pygments_lexer": "ipython3",
   "version": "3.7.3"
  }
 },
 "nbformat": 4,
 "nbformat_minor": 2
}
