{
 "cells": [
  {
   "cell_type": "markdown",
   "metadata": {},
   "source": [
    "Notebook is copyright &copy; of <a href=\"https://ajaytech.co\"> Ajay Tech </a>"
   ]
  },
  {
   "cell_type": "markdown",
   "metadata": {},
   "source": [
    "# Random Numbers"
   ]
  },
  {
   "cell_type": "markdown",
   "metadata": {},
   "source": [
    "## Contents"
   ]
  },
  {
   "cell_type": "markdown",
   "metadata": {},
   "source": [
    "- Introduction\n",
    "- Basic random number generation\n",
    "  - random()\n",
    "  - seed ()\n",
    "- Random number between a range\n",
    "  - uniform ()\n",
    "  - randrange ()\n",
    "- Sampling\n",
    "  - shuffle ()\n",
    "  - choice ()\n",
    "  - sample ()"
   ]
  },
  {
   "cell_type": "markdown",
   "metadata": {},
   "source": [
    "### Introduction"
   ]
  },
  {
   "cell_type": "markdown",
   "metadata": {},
   "source": [
    "Random Numbers is the basis for sampling data in machine learning. Although we will be typically using higher level functions ( like scikit-learn ) to do sampling, the underlying mechanism is still the same. Python has random number generation function as part of its standard library. You can use random numbers to do sampling, shuffling etc. In this section, we will learn the most used random number generation functions in the Python's random library. "
   ]
  },
  {
   "cell_type": "markdown",
   "metadata": {},
   "source": [
    "### Basic Random number generation"
   ]
  },
  {
   "cell_type": "markdown",
   "metadata": {},
   "source": [
    "#### random ()"
   ]
  },
  {
   "cell_type": "markdown",
   "metadata": {},
   "source": [
    "The most fundamental function in it is the **random ( )** function. It basically generates a random floating point number between 0 and 1"
   ]
  },
  {
   "cell_type": "markdown",
   "metadata": {},
   "source": [
    "<img src=\"./pics/random-function.png\"/>"
   ]
  },
  {
   "cell_type": "code",
   "execution_count": 2,
   "metadata": {},
   "outputs": [
    {
     "data": {
      "text/plain": [
       "0.18226497796545615"
      ]
     },
     "execution_count": 2,
     "metadata": {},
     "output_type": "execute_result"
    }
   ],
   "source": [
    "from random import random\n",
    "\n",
    "random()"
   ]
  },
  {
   "cell_type": "markdown",
   "metadata": {},
   "source": [
    "Let's try generating a bunch of them in a for loop."
   ]
  },
  {
   "cell_type": "code",
   "execution_count": 3,
   "metadata": {},
   "outputs": [
    {
     "name": "stdout",
     "output_type": "stream",
     "text": [
      "0.9120636021650675\n",
      "0.5162386683119591\n",
      "0.5702145169943453\n",
      "0.925384117526444\n",
      "0.48514511402663685\n",
      "0.37683001524891946\n",
      "0.11792954513490983\n",
      "0.41292273179063366\n",
      "0.11131059345234051\n",
      "0.04762179898672436\n"
     ]
    }
   ],
   "source": [
    "for i in range(10) :\n",
    "    print ( random () )"
   ]
  },
  {
   "cell_type": "markdown",
   "metadata": {},
   "source": [
    "As you can see, each time a new random number is generated. "
   ]
  },
  {
   "cell_type": "markdown",
   "metadata": {},
   "source": [
    "#### seed ()"
   ]
  },
  {
   "cell_type": "markdown",
   "metadata": {},
   "source": [
    "Sometimes, to be able to predictably generate random numbers ( especially when running test cases ) you might want to generate the same set of random numbers every time. In cases like this, you can use the **seed ( )** fuction. You can set a seed to any value . For every  seed value, you get the same random number again and again. "
   ]
  },
  {
   "cell_type": "markdown",
   "metadata": {},
   "source": [
    "<img src=\"./pics/seed-function-python.png\"/>"
   ]
  },
  {
   "cell_type": "code",
   "execution_count": 5,
   "metadata": {},
   "outputs": [
    {
     "name": "stdout",
     "output_type": "stream",
     "text": [
      "0.13436424411240122\n",
      "0.13436424411240122\n",
      "0.13436424411240122\n",
      "0.13436424411240122\n",
      "0.13436424411240122\n",
      "0.13436424411240122\n",
      "0.13436424411240122\n",
      "0.13436424411240122\n",
      "0.13436424411240122\n",
      "0.13436424411240122\n"
     ]
    }
   ],
   "source": [
    "from random import seed\n",
    "\n",
    "for i in range(10) :\n",
    "    seed(1)\n",
    "    print ( random () )"
   ]
  },
  {
   "cell_type": "markdown",
   "metadata": {},
   "source": [
    "### Random number between a range"
   ]
  },
  {
   "cell_type": "markdown",
   "metadata": {},
   "source": [
    "Sometimes you want to select a random number between a range of numbers. For example, pick a random number between 10 and 20. In such cases, use the **uniform ( )** function."
   ]
  },
  {
   "cell_type": "markdown",
   "metadata": {},
   "source": [
    "#### uniform ( )"
   ]
  },
  {
   "cell_type": "markdown",
   "metadata": {},
   "source": [
    "Generates a random number in between a user specified range of numbers."
   ]
  },
  {
   "cell_type": "markdown",
   "metadata": {},
   "source": [
    "<img src=\"./pics/uniform-function-python.png\"/>"
   ]
  },
  {
   "cell_type": "code",
   "execution_count": 7,
   "metadata": {},
   "outputs": [
    {
     "name": "stdout",
     "output_type": "stream",
     "text": [
      "14.327670679050534\n",
      "17.62280082457942\n",
      "10.021060533511108\n",
      "14.453871940548014\n",
      "17.215400323407827\n",
      "12.287622212704527\n",
      "19.452706955539224\n",
      "19.014274576114836\n",
      "10.305899830335536\n",
      "10.254458609934607\n"
     ]
    }
   ],
   "source": [
    "from random import uniform\n",
    "\n",
    "for i in range(10):\n",
    "    print (uniform(10,20))"
   ]
  },
  {
   "cell_type": "markdown",
   "metadata": {},
   "source": [
    "#### randrange ()"
   ]
  },
  {
   "cell_type": "markdown",
   "metadata": {},
   "source": [
    "This function is exactly similar to the uniform function, except the random number generated is an integer and not a floating point function."
   ]
  },
  {
   "cell_type": "markdown",
   "metadata": {},
   "source": [
    "<img src=\"./pics/randrange-function-python.png\"/>"
   ]
  },
  {
   "cell_type": "code",
   "execution_count": 9,
   "metadata": {},
   "outputs": [
    {
     "name": "stdout",
     "output_type": "stream",
     "text": [
      "18\n",
      "10\n",
      "16\n",
      "13\n",
      "16\n",
      "10\n",
      "18\n",
      "13\n",
      "17\n",
      "17\n"
     ]
    }
   ],
   "source": [
    "from random import randrange\n",
    "\n",
    "for i in range(10):\n",
    "    print (randrange(10,20))"
   ]
  },
  {
   "cell_type": "markdown",
   "metadata": {},
   "source": [
    "**Challenge** - Pick a random element from a list. Example of a list given below.\n",
    "\n",
    "<pre>\n",
    "cities = [\"Hyderabad\",\"San Francisco\",\"London\",\"Sydney\",\"Tokyo\"]\n",
    "</pre>\n"
   ]
  },
  {
   "cell_type": "markdown",
   "metadata": {},
   "source": [
    "**Solution** - "
   ]
  },
  {
   "cell_type": "code",
   "execution_count": 36,
   "metadata": {},
   "outputs": [
    {
     "data": {
      "text/plain": [
       "'Tokyo'"
      ]
     },
     "execution_count": 36,
     "metadata": {},
     "output_type": "execute_result"
    }
   ],
   "source": [
    "cities = [\"Hyderabad\",\"San Francisco\",\"London\",\"Sydney\",\"Tokyo\"]\n",
    "\n",
    "index = randrange(0,len(cities))\n",
    "\n",
    "cities[index]"
   ]
  },
  {
   "cell_type": "markdown",
   "metadata": {},
   "source": [
    "**Challenge** - Pick a sample of 3 elements from a list. Example of a list given below.\n",
    "\n",
    "<pre>\n",
    "cities = [\"Hyderabad\",\"San Francisco\",\"London\",\"Sydney\",\"Tokyo\"]\n",
    "</pre>\n"
   ]
  },
  {
   "cell_type": "markdown",
   "metadata": {},
   "source": [
    "**Solution**"
   ]
  },
  {
   "cell_type": "code",
   "execution_count": 49,
   "metadata": {},
   "outputs": [
    {
     "name": "stdout",
     "output_type": "stream",
     "text": [
      "San Francisco\n",
      "Tokyo\n",
      "Sydney\n"
     ]
    }
   ],
   "source": [
    "sample_size = 3\n",
    "indices = []\n",
    "\n",
    "cities = [\"Hyderabad\",\"San Francisco\",\"London\",\"Sydney\",\"Tokyo\"]\n",
    "\n",
    "# pick 3 random numbers\n",
    "while len(indices) < 3 :\n",
    "    i = randrange(0,len(cities))\n",
    "    \n",
    "    # if the index has already been added, ignore it. \n",
    "    if i in indices :\n",
    "        continue\n",
    "    \n",
    "    # else add it to the indices list\n",
    "    indices.append(i)\n",
    "    \n",
    "for i in indices :\n",
    "    print ( cities[i])"
   ]
  },
  {
   "cell_type": "markdown",
   "metadata": {},
   "source": [
    "**Challenge** - Shuffle the list of cities given below.\n",
    "\n",
    "<pre>\n",
    "cities = [\"Hyderabad\",\"San Francisco\",\"London\",\"Sydney\",\"Tokyo\"]\n",
    "</pre>"
   ]
  },
  {
   "cell_type": "markdown",
   "metadata": {},
   "source": [
    "**Solution** - "
   ]
  },
  {
   "cell_type": "code",
   "execution_count": 29,
   "metadata": {},
   "outputs": [
    {
     "name": "stdout",
     "output_type": "stream",
     "text": [
      "['Tokyo', 'San Francisco', 'Sydney', 'London', 'Hyderabad']\n"
     ]
    }
   ],
   "source": [
    "shuffled_cities = []\n",
    "\n",
    "while len(shuffled_cities) != len(cities) :\n",
    "    # pick a random element from the list\n",
    "    index = randrange(len(cities))\n",
    "    \n",
    "    # if the city is already added, don't add it\n",
    "    if cities[index] in shuffled_cities :\n",
    "        continue\n",
    "    \n",
    "    # if not already added, add it to the shuffled cities list\n",
    "    shuffled_cities.append(cities[index])\n",
    "    \n",
    "print ( shuffled_cities )"
   ]
  },
  {
   "cell_type": "markdown",
   "metadata": {},
   "source": [
    "### Sampling"
   ]
  },
  {
   "cell_type": "markdown",
   "metadata": {},
   "source": [
    "Like we discussed at the beginning of this section, the key use of random numbers in machine learning is to sample data (and using statistics to draw conclusions). Python's random library provides a couple of in-built functions to do all of this without having to write wrappers around the **random ()** function like we have done in the previous step."
   ]
  },
  {
   "cell_type": "markdown",
   "metadata": {},
   "source": [
    "#### shuffle ()"
   ]
  },
  {
   "cell_type": "markdown",
   "metadata": {},
   "source": [
    "<img src=\"./pics/shuffle-function-python.png\"/>"
   ]
  },
  {
   "cell_type": "code",
   "execution_count": 16,
   "metadata": {},
   "outputs": [
    {
     "data": {
      "text/plain": [
       "['London', 'San Francisco', 'Tokyo', 'Hyderabad', 'Sydney']"
      ]
     },
     "execution_count": 16,
     "metadata": {},
     "output_type": "execute_result"
    }
   ],
   "source": [
    "from random import shuffle\n",
    "\n",
    "names = [\"Hyderabad\",\"San Francisco\",\"London\",\"Sydney\",\"Tokyo\"]\n",
    "shuffle(names)\n",
    "names"
   ]
  },
  {
   "cell_type": "markdown",
   "metadata": {},
   "source": [
    "#### choice ( )"
   ]
  },
  {
   "cell_type": "markdown",
   "metadata": {},
   "source": [
    "Choice function is used to pick a random choice of elements among a sequence. Once again, this is essentially another wrapper function around the _random( )_ function."
   ]
  },
  {
   "cell_type": "markdown",
   "metadata": {},
   "source": [
    "<img src=\"./pics/choice-function-python.png\"/>"
   ]
  },
  {
   "cell_type": "code",
   "execution_count": 30,
   "metadata": {},
   "outputs": [
    {
     "data": {
      "text/plain": [
       "'Tokyo'"
      ]
     },
     "execution_count": 30,
     "metadata": {},
     "output_type": "execute_result"
    }
   ],
   "source": [
    "from random import choice\n",
    "\n",
    "names = [\"Hyderabad\",\"San Francisco\",\"London\",\"Sydney\",\"Tokyo\"]\n",
    "choice(names)"
   ]
  },
  {
   "cell_type": "markdown",
   "metadata": {},
   "source": [
    "#### sample ( )"
   ]
  },
  {
   "cell_type": "markdown",
   "metadata": {},
   "source": [
    "The **sample ( )** function returns a random subset of elements from the list. You can specify how many elements you want in one of its arguments. "
   ]
  },
  {
   "cell_type": "markdown",
   "metadata": {},
   "source": [
    "<img src=\"./pics/sample-function-python.png\"/>"
   ]
  },
  {
   "cell_type": "code",
   "execution_count": 52,
   "metadata": {},
   "outputs": [
    {
     "data": {
      "text/plain": [
       "['San Francisco', 'Sydney']"
      ]
     },
     "execution_count": 52,
     "metadata": {},
     "output_type": "execute_result"
    }
   ],
   "source": [
    "from random import sample\n",
    "\n",
    "names = [\"Hyderabad\",\"San Francisco\",\"London\",\"Sydney\",\"Tokyo\"]\n",
    "sample(names,2) # sample without replacement"
   ]
  },
  {
   "cell_type": "code",
   "execution_count": null,
   "metadata": {},
   "outputs": [],
   "source": []
  }
 ],
 "metadata": {
  "kernelspec": {
   "display_name": "Python 3",
   "language": "python",
   "name": "python3"
  },
  "language_info": {
   "codemirror_mode": {
    "name": "ipython",
    "version": 3
   },
   "file_extension": ".py",
   "mimetype": "text/x-python",
   "name": "python",
   "nbconvert_exporter": "python",
   "pygments_lexer": "ipython3",
   "version": "3.7.3"
  }
 },
 "nbformat": 4,
 "nbformat_minor": 2
}
