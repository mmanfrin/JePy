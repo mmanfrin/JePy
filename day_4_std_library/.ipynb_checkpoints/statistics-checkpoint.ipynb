{
 "cells": [
  {
   "cell_type": "markdown",
   "metadata": {},
   "source": [
    "Copyright &copy; of Ajay Tech @ https://ajaytech.co"
   ]
  },
  {
   "cell_type": "markdown",
   "metadata": {},
   "source": [
    "<h1>Statistics</h1>"
   ]
  },
  {
   "cell_type": "markdown",
   "metadata": {},
   "source": [
    "## Table of Contents\n",
    "- #### [Central Tendency](#Central-Tendency) \n",
    "  - ##### [Mean](#Mean)\n",
    "  - ##### [Median](#Median)\n",
    "  - ##### [Mode](#Mode)   \n",
    "- #### [Spread](#Spread)\n",
    "  - ##### [Standard Deviation](#Standard-Deviation)      \n",
    "  - ##### [Variance](#Variance)"
   ]
  },
  {
   "cell_type": "markdown",
   "metadata": {},
   "source": [
    "## Central Tendency"
   ]
  },
  {
   "cell_type": "markdown",
   "metadata": {},
   "source": [
    "### Mean"
   ]
  },
  {
   "cell_type": "markdown",
   "metadata": {},
   "source": [
    "One of the most basic properties of a data set is it's mean. Mean is a measure of the **_Central Tendency_** of data. In layman terms, if you were to pick one point in a dataset that is representative of the entire dataset, it would be the mean. Also called \"average\" in common vocabulary, calculating the mean is really simple. Just add up all the values in a particular variable of a dataset and divide it by the total number of values in it. \n",
    "\n",
    "For example, if there are 5 Uber drivers with 5 different ratings, what is their mean ?"
   ]
  },
  {
   "cell_type": "markdown",
   "metadata": {},
   "source": [
    "<img src=\"./pics/mean.png\"/>"
   ]
  },
  {
   "cell_type": "code",
   "execution_count": 2,
   "metadata": {},
   "outputs": [
    {
     "data": {
      "text/plain": [
       "4.34"
      ]
     },
     "execution_count": 2,
     "metadata": {},
     "output_type": "execute_result"
    }
   ],
   "source": [
    "from statistics import mean\n",
    "\n",
    "ratings = [4.5, 3.9, 4.6, 4.8, 3.9]\n",
    "\n",
    "mean(ratings)\n"
   ]
  },
  {
   "cell_type": "markdown",
   "metadata": {},
   "source": [
    "#### Median"
   ]
  },
  {
   "cell_type": "markdown",
   "metadata": {},
   "source": [
    "Mean does not always represent the _average_ of the data. For normal distributions it typically does. However, for many other data distributions, mean does not represent the _average_. For example, take the US income distribution data. Since the number of housholds is huge, the data has been bucketed into income brackets for easy analysis. "
   ]
  },
  {
   "cell_type": "markdown",
   "metadata": {},
   "source": [
    "<pre>\n",
    "income_bracket\thouseholds\n",
    "10-15k\t        5700000\n",
    "15-20k\t        5620000\n",
    "20-25k\t        5930000\n",
    "25-30k\t        5500000\n",
    "30-35k\t        5780000\n",
    "35-40k\t        5340000\n",
    "40-45k\t        5380000\n",
    "45-50k\t        4730000\n",
    "50-60k\t        9210000\n",
    "60-75k\t       11900000\n",
    "75-100k\t      14700000\n",
    "100-125k\t     10300000\n",
    "125-150k\t      6360000\n",
    "150-200k\t      6920000\n",
    "200k-plus\t     7600000\n",
    "</pre>"
   ]
  },
  {
   "cell_type": "code",
   "execution_count": 9,
   "metadata": {},
   "outputs": [
    {
     "name": "stdout",
     "output_type": "stream",
     "text": [
      "mean = 7398000\n",
      "median = 5930000\n"
     ]
    }
   ],
   "source": [
    "from statistics import mean, median\n",
    "\n",
    "income = [5700000,5620000, 5930000, 5500000, 5780000, 5340000, 5380000, \n",
    "          4730000, 9210000, 11900000, 14700000, 10300000, 6360000, 6920000,7600000 ]\n",
    "\n",
    "print ( \"mean =\", mean(income) )\n",
    "print ( \"median =\", median(income) )\n"
   ]
  },
  {
   "cell_type": "markdown",
   "metadata": {},
   "source": [
    "As you can see, depending on the data distribution, mean and median could be totally different from each other. "
   ]
  },
  {
   "cell_type": "markdown",
   "metadata": {},
   "source": [
    "#### Mode"
   ]
  },
  {
   "cell_type": "markdown",
   "metadata": {},
   "source": [
    "Mode is just the highest value in the dataset. If the dataset follows a gaussian distribution, it is the peak of the histogram. Think of **mode** of a dataset as the most commonly occuring number."
   ]
  },
  {
   "cell_type": "code",
   "execution_count": 15,
   "metadata": {},
   "outputs": [
    {
     "data": {
      "text/plain": [
       "13"
      ]
     },
     "execution_count": 15,
     "metadata": {},
     "output_type": "execute_result"
    }
   ],
   "source": [
    "from statistics import mode\n",
    "\n",
    "ages = [12,13,14,11,12,13,15,10,13 ]\n",
    "\n",
    "mode(ages)"
   ]
  },
  {
   "cell_type": "markdown",
   "metadata": {},
   "source": [
    "##### Mean vs Median vs Mode"
   ]
  },
  {
   "cell_type": "markdown",
   "metadata": {},
   "source": [
    "The reason why these terms exist is that, there is no one way to define the _Central Tendency_ of a dataset. It depends on the nature of the distribution that the dataset conforms to. For example, if the dataset is a normal distribution, then most of the time the mean, median and mode are pretty close together. The relationship is beautifully visualized in this wikipedia diagram. "
   ]
  },
  {
   "cell_type": "markdown",
   "metadata": {},
   "source": [
    "<img src=\"./pics/mean-median-mode.png\"/>"
   ]
  },
  {
   "cell_type": "markdown",
   "metadata": {},
   "source": [
    "For a normal distribution, the 3 parameters ( mean, median, mode ) are pretty close together. For a skewed distribution, they are pretty staggered."
   ]
  },
  {
   "cell_type": "markdown",
   "metadata": {},
   "source": [
    "## Spread"
   ]
  },
  {
   "cell_type": "markdown",
   "metadata": {},
   "source": [
    "### Standard Deviation"
   ]
  },
  {
   "cell_type": "markdown",
   "metadata": {},
   "source": [
    "While mean represents the \"Central\" or \"Average\" value of a dataset, variance represents how spread out the data is. For example, look at the 3 _histograms_ below. They represent histograms of GRE scores among 3 different groups."
   ]
  },
  {
   "cell_type": "markdown",
   "metadata": {},
   "source": [
    "<img src=\"./pics/variance_example.png\"/>"
   ]
  },
  {
   "cell_type": "markdown",
   "metadata": {},
   "source": [
    "All these 3 graphs represent 10K rows of GRE scores from 3 different groups. All 3 of them have the same mean - 300. However, they are different, right ? What I want you to focus on is the shape of the distribution, not the height. Specifically, look at the x-axis. In the first plot, the data is focussed, pretty much around the average(300) mark. In the second plot, it is a bit spread out ( hence the reduction in size ) and the third plot is pretty spread out. \n",
    "\n",
    "The green line represents the mean and the red line represents the **_Standard Deviation_** or σ ( represented by the Greek symbol sigma ). It is a measure of how spread out the distribution is. The more spread out the distribution is, the more flatter the bell curve is."
   ]
  },
  {
   "cell_type": "markdown",
   "metadata": {},
   "source": [
    "<img src=\"./pics/mean-vs-sd.png\"/>"
   ]
  },
  {
   "cell_type": "markdown",
   "metadata": {},
   "source": [
    "You can also think of _Standard Deviation_ as a measure of uncertianity in Data Science. Imagine a drug trail working on reducing blood pressure. Say, on an average 3 different trails produce an average reduction of 30 points. However, trail 1 has very low standard deviation. Obviously, you would want to go with the first drug - because the third drug is more uncertain about the result. "
   ]
  },
  {
   "cell_type": "code",
   "execution_count": 16,
   "metadata": {},
   "outputs": [
    {
     "data": {
      "text/plain": [
       "2884498.470890811"
      ]
     },
     "execution_count": 16,
     "metadata": {},
     "output_type": "execute_result"
    }
   ],
   "source": [
    "from statistics import stdev\n",
    "\n",
    "income = [5700000,5620000, 5930000, 5500000, 5780000, 5340000, 5380000, \n",
    "          4730000, 9210000, 11900000, 14700000, 10300000, 6360000, 6920000,7600000 ]\n",
    "\n",
    "stdev(income)"
   ]
  },
  {
   "cell_type": "markdown",
   "metadata": {},
   "source": [
    "### Variance"
   ]
  },
  {
   "cell_type": "markdown",
   "metadata": {},
   "source": [
    "**_Standard Deviation_** is actually a derivative of variance. So, variance is calculated first. However, to illustrate that variance or standard deviation represents spread on the plot, we have learnt _standard deviation_ first. However, we have to understand how variance is calculated, because this is the basis for calculating _standard deviation_ . \n",
    "\n",
    "Let's calculate variance of a small dataset in excel to understand the process better. \n",
    "\n",
    "[variance_calculation](../data/variance_calculation.xlsx)"
   ]
  },
  {
   "cell_type": "markdown",
   "metadata": {},
   "source": [
    "<img src=\"./pics/variance_calculation_excel.png\"/>"
   ]
  },
  {
   "cell_type": "markdown",
   "metadata": {},
   "source": [
    "### What does Standard Deviation represent"
   ]
  },
  {
   "cell_type": "markdown",
   "metadata": {},
   "source": [
    "Now that we know the basic definitions of **_Variance_** and **_Standard Deviation_**, let's look at what it really represents."
   ]
  },
  {
   "cell_type": "markdown",
   "metadata": {},
   "source": [
    "#### How far from the mean"
   ]
  },
  {
   "cell_type": "markdown",
   "metadata": {},
   "source": [
    " Wikipedia has a nice picture to show this in the context of Gaussian distribution. "
   ]
  },
  {
   "cell_type": "markdown",
   "metadata": {},
   "source": [
    "<img src=\"./pics/what-does-standard-deviation-represent.png\"/>"
   ]
  },
  {
   "cell_type": "markdown",
   "metadata": {},
   "source": [
    "#### How spread out "
   ]
  },
  {
   "cell_type": "markdown",
   "metadata": {},
   "source": [
    "Another way to look at the _Standard Deviation_ is , how spread out the distribution is. Once again, there is a nice representation of this in Wikipedia. "
   ]
  },
  {
   "cell_type": "markdown",
   "metadata": {},
   "source": [
    "<img src=\"./pics/sd_more_less.png\"/>"
   ]
  },
  {
   "cell_type": "markdown",
   "metadata": {},
   "source": [
    "The more the _Standard Deviation_ , the more the distribution is spread out. "
   ]
  },
  {
   "cell_type": "markdown",
   "metadata": {},
   "source": [
    "#### Why 2 different metrics to measure spread"
   ]
  },
  {
   "cell_type": "markdown",
   "metadata": {},
   "source": [
    "Why are we using 2 different metircs (Variance & Standard Deviation) to measure the same parameter - spread ? \n",
    "\n",
    "For one, you can only calculate _Standard Deviation_ from _Mean. Also, **_Variance_** is used to measure how far the data is spread out, while **_Standard Deviation_** is used to measure how the data differs from its mean. However, since _Standard Deviation_ is in the same metric as the data, it is used more often than Variance. "
   ]
  }
 ],
 "metadata": {
  "kernelspec": {
   "display_name": "Python 3",
   "language": "python",
   "name": "python3"
  },
  "language_info": {
   "codemirror_mode": {
    "name": "ipython",
    "version": 3
   },
   "file_extension": ".py",
   "mimetype": "text/x-python",
   "name": "python",
   "nbconvert_exporter": "python",
   "pygments_lexer": "ipython3",
   "version": "3.7.3"
  }
 },
 "nbformat": 4,
 "nbformat_minor": 2
}
