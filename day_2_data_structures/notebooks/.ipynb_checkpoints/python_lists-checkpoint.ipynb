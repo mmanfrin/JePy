{
 "cells": [
  {
   "cell_type": "markdown",
   "metadata": {},
   "source": [
    "Copyright &copy; of Ajay Tech @ https://ajaytech.co"
   ]
  },
  {
   "cell_type": "markdown",
   "metadata": {},
   "source": [
    "Lists are probably the most used data structure in Python. A list is data structure that can hold a sequence of data. To understand this better, let's rewrite the **average grade** program with lists. Just to recap, the professor enters all the grades in the class, one by one. After that, we need to calculate the average of all grades in the class. "
   ]
  },
  {
   "cell_type": "markdown",
   "metadata": {},
   "source": [
    "<img src=\"./pics/user-enters-grades.png\"/>"
   ]
  },
  {
   "cell_type": "markdown",
   "metadata": {},
   "source": [
    "Previously, we were just summing up the grades as the user enters them and finally divide the sum by the number of grades entered to get the average of the grades. This was OK for simpler cases. However, we need to be able to store all the grades that the user has entered in a data structure to manipulate them further - like\n",
    "\n",
    "- change grades\n",
    "- add more grades later\n",
    "- delete wrong grades\n",
    "\n",
    "etc\n",
    "\n",
    "Once the user is finally satisfied with all the grades, then he will ask the program to calculate the average. "
   ]
  },
  {
   "cell_type": "markdown",
   "metadata": {},
   "source": [
    "Standard python data types like int, float, string, can only store a single element. What we want is a structure that holds multiple elements together. That is where lists come in. Before we rewrite the program, let's understand a couple of things about lists. "
   ]
  },
  {
   "cell_type": "markdown",
   "metadata": {},
   "source": [
    "**Create** an empty list"
   ]
  },
  {
   "cell_type": "markdown",
   "metadata": {},
   "source": [
    "<img src=\"./pics/create-empty-list.png\"/>"
   ]
  },
  {
   "cell_type": "code",
   "execution_count": 8,
   "metadata": {},
   "outputs": [],
   "source": [
    "odd_numbers = []"
   ]
  },
  {
   "cell_type": "markdown",
   "metadata": {},
   "source": [
    "Add elements to a list"
   ]
  },
  {
   "cell_type": "markdown",
   "metadata": {},
   "source": [
    "<img src=\"./pics/append-elements-to-list.png\"/>"
   ]
  },
  {
   "cell_type": "code",
   "execution_count": 20,
   "metadata": {},
   "outputs": [],
   "source": [
    "odd_numbers.append(1)\n",
    "odd_numbers.append(3)"
   ]
  },
  {
   "cell_type": "code",
   "execution_count": 9,
   "metadata": {},
   "outputs": [
    {
     "data": {
      "text/plain": [
       "[1, 3, 5, 7]"
      ]
     },
     "execution_count": 9,
     "metadata": {},
     "output_type": "execute_result"
    }
   ],
   "source": [
    "odd_numbers"
   ]
  },
  {
   "cell_type": "markdown",
   "metadata": {},
   "source": [
    "That should be good enough. Let's rewrite the program. "
   ]
  },
  {
   "cell_type": "code",
   "execution_count": 13,
   "metadata": {},
   "outputs": [
    {
     "name": "stdout",
     "output_type": "stream",
     "text": [
      "Enter grades to calculate mean/average grade. type e to exit\n"
     ]
    }
   ],
   "source": [
    "print ( \"Enter grades to calculate mean/average grade. type e to exit\")\n",
    "\n",
    "# Create an empty list\n",
    "grades = []\n",
    "sum    = 0"
   ]
  },
  {
   "cell_type": "code",
   "execution_count": 14,
   "metadata": {},
   "outputs": [
    {
     "name": "stdin",
     "output_type": "stream",
     "text": [
      " -  1\n",
      " -  2\n",
      " -  e\n"
     ]
    },
    {
     "name": "stdout",
     "output_type": "stream",
     "text": [
      "[1.0, 2.0]\n"
     ]
    }
   ],
   "source": [
    "while True :\n",
    "    grade = input ( \" - \")\n",
    "    if grade == \"e\" :\n",
    "        break\n",
    "    else :\n",
    "        grade   = float(grade)\n",
    "        grades.append(grade)\n",
    "\n",
    "print ( grades)"
   ]
  },
  {
   "cell_type": "markdown",
   "metadata": {},
   "source": [
    "## **Iterate** through a list"
   ]
  },
  {
   "cell_type": "markdown",
   "metadata": {},
   "source": [
    "Once you have a list, you would want to **iterate** through it. A simple way to iterate over a list is to run it through a **for** loop. "
   ]
  },
  {
   "cell_type": "code",
   "execution_count": 16,
   "metadata": {},
   "outputs": [
    {
     "name": "stdout",
     "output_type": "stream",
     "text": [
      "sum =  3.0\n"
     ]
    }
   ],
   "source": [
    "for grade in grades :\n",
    "    sum = sum + grade\n",
    "\n",
    "print( \"sum = \", sum)"
   ]
  },
  {
   "cell_type": "markdown",
   "metadata": {},
   "source": [
    "## Challenge\n",
    "\n",
    "**Logic** Find out how many _vowels_ are there in a sentence. \n"
   ]
  },
  {
   "cell_type": "code",
   "execution_count": 3,
   "metadata": {},
   "outputs": [
    {
     "name": "stdin",
     "output_type": "stream",
     "text": [
      "Enter a sentence - hi there\n"
     ]
    },
    {
     "name": "stdout",
     "output_type": "stream",
     "text": [
      " The number of vowels in the sentence is -  3\n"
     ]
    }
   ],
   "source": [
    "sentence = input ( \"Enter a sentence -\")\n",
    "\n",
    "vowels = ['a','e','i','o','u']\n",
    "vowel_count = 0\n",
    "\n",
    "for i in list(sentence) :\n",
    "    if i in vowels :\n",
    "        vowel_count += 1\n",
    "\n",
    "print (\" The number of vowels in the sentence is - \", vowel_count)"
   ]
  },
  {
   "cell_type": "markdown",
   "metadata": {},
   "source": [
    "## Length of a list "
   ]
  },
  {
   "cell_type": "markdown",
   "metadata": {},
   "source": [
    "To compute the average, we have to also understand how long ( how many grades ) the list is ? You can do that using python's inbuilt function **len ( )** . "
   ]
  },
  {
   "cell_type": "code",
   "execution_count": 24,
   "metadata": {},
   "outputs": [
    {
     "name": "stdout",
     "output_type": "stream",
     "text": [
      "Average class grade is  1.5\n"
     ]
    }
   ],
   "source": [
    "average = sum / len(grades)\n",
    "print ( \"Average class grade is \",average)"
   ]
  },
  {
   "cell_type": "markdown",
   "metadata": {},
   "source": [
    "There you go - we have just calculated the average grade using list. Now that we have a powerful data structure, we can do many more things with lists making our lives much more easy. For example, you need not iterate over a list to calculate the sum. You can use the math module's inbuilt function **fsum** to do so. "
   ]
  },
  {
   "cell_type": "markdown",
   "metadata": {},
   "source": [
    "## Aggregate functions on list"
   ]
  },
  {
   "cell_type": "code",
   "execution_count": 25,
   "metadata": {},
   "outputs": [
    {
     "name": "stdout",
     "output_type": "stream",
     "text": [
      "Average class grade is  1.5\n"
     ]
    }
   ],
   "source": [
    "import math \n",
    "\n",
    "average = math.fsum(grades) / len(grades)\n",
    "print ( \"Average class grade is \",average)"
   ]
  },
  {
   "cell_type": "markdown",
   "metadata": {},
   "source": [
    "**fsum** stands for floating point sum. If you wanted sum of just numbers ( and not floats ), you could use **math.sum ( )**"
   ]
  },
  {
   "cell_type": "markdown",
   "metadata": {},
   "source": [
    "Before we write the next version of program, let's learn a couple more aspects obout lists. "
   ]
  },
  {
   "cell_type": "markdown",
   "metadata": {},
   "source": [
    "## Merge lists"
   ]
  },
  {
   "cell_type": "markdown",
   "metadata": {},
   "source": [
    "Add a bunch of elements to a list - **extend ( )** function"
   ]
  },
  {
   "cell_type": "markdown",
   "metadata": {},
   "source": [
    "<img src=\"./pics/extend-list.png\"/>"
   ]
  },
  {
   "cell_type": "code",
   "execution_count": null,
   "metadata": {},
   "outputs": [],
   "source": [
    "odd_numbers = [1,3,5]\n",
    "odd_numbers.extend([7,9,11])\n",
    "print( odd_numbers )"
   ]
  },
  {
   "cell_type": "markdown",
   "metadata": {},
   "source": [
    "Initialize a list"
   ]
  },
  {
   "cell_type": "markdown",
   "metadata": {},
   "source": [
    "<img src=\"./pics/initialize-new-list.png\"/>"
   ]
  },
  {
   "cell_type": "code",
   "execution_count": 23,
   "metadata": {},
   "outputs": [],
   "source": [
    "odd_numbers  = [1,3,5,7,9]"
   ]
  },
  {
   "cell_type": "code",
   "execution_count": 24,
   "metadata": {},
   "outputs": [
    {
     "data": {
      "text/plain": [
       "[1, 3, 5, 7, 9]"
      ]
     },
     "execution_count": 24,
     "metadata": {},
     "output_type": "execute_result"
    }
   ],
   "source": [
    "odd_numbers"
   ]
  },
  {
   "cell_type": "markdown",
   "metadata": {},
   "source": [
    "# Indexing a list"
   ]
  },
  {
   "cell_type": "markdown",
   "metadata": {},
   "source": [
    "Indexing is how you access elements in a list. We will learn more about negative indexing in a bit. However, for now, we will use positive indexing to understand how to manipulate lists. "
   ]
  },
  {
   "cell_type": "markdown",
   "metadata": {},
   "source": [
    "<img src=\"pics/list_indexing.png\">"
   ]
  },
  {
   "cell_type": "markdown",
   "metadata": {},
   "source": [
    "### **Insert** an element in a list"
   ]
  },
  {
   "cell_type": "markdown",
   "metadata": {},
   "source": [
    "<img src=\"./pics/insert-into-list.png\"/>"
   ]
  },
  {
   "cell_type": "code",
   "execution_count": 47,
   "metadata": {},
   "outputs": [
    {
     "name": "stdout",
     "output_type": "stream",
     "text": [
      "[1, 3, 5, 7, 9]\n"
     ]
    }
   ],
   "source": [
    "odd_numbers = [1,3,7,9]\n",
    "odd_numbers.insert(2,5)\n",
    "print( odd_numbers )"
   ]
  },
  {
   "cell_type": "code",
   "execution_count": null,
   "metadata": {},
   "outputs": [],
   "source": []
  },
  {
   "cell_type": "markdown",
   "metadata": {},
   "source": [
    "### Change elements in a list"
   ]
  },
  {
   "cell_type": "markdown",
   "metadata": {},
   "source": [
    "<img src=\"./pics/change-list-element.png\"/>"
   ]
  },
  {
   "cell_type": "code",
   "execution_count": 2,
   "metadata": {},
   "outputs": [
    {
     "name": "stdout",
     "output_type": "stream",
     "text": [
      "[1, 3, 5, 7, 9]\n"
     ]
    }
   ],
   "source": [
    "odd_numbers = [1,3,5,8,9]\n",
    "odd_numbers[3] = 7\n",
    "print ( odd_numbers)"
   ]
  },
  {
   "cell_type": "markdown",
   "metadata": {},
   "source": [
    "### **pop ( )** removes the specified data element from the list"
   ]
  },
  {
   "cell_type": "markdown",
   "metadata": {},
   "source": [
    "<img src=\"./pics/list-pop.png\"/>"
   ]
  },
  {
   "cell_type": "code",
   "execution_count": 71,
   "metadata": {},
   "outputs": [
    {
     "name": "stdout",
     "output_type": "stream",
     "text": [
      "[1, 3, 5, 7, 9]\n"
     ]
    }
   ],
   "source": [
    "odd_numbers = [1,3,5,7,9]\n",
    "print ( odd_numbers)"
   ]
  },
  {
   "cell_type": "code",
   "execution_count": 72,
   "metadata": {},
   "outputs": [
    {
     "name": "stdout",
     "output_type": "stream",
     "text": [
      "[1, 3, 7, 9]\n"
     ]
    }
   ],
   "source": [
    "odd_numbers.pop(2)\n",
    "print ( odd_numbers )"
   ]
  },
  {
   "cell_type": "markdown",
   "metadata": {},
   "source": [
    "**pop ( )** without specifying an argument, removes the last element if you don't specify an index"
   ]
  },
  {
   "cell_type": "markdown",
   "metadata": {},
   "source": [
    "<img src=\"./pics/list-pop-last.png\"/>"
   ]
  },
  {
   "cell_type": "code",
   "execution_count": 3,
   "metadata": {},
   "outputs": [
    {
     "name": "stdout",
     "output_type": "stream",
     "text": [
      "[1, 3, 5, 7]\n"
     ]
    }
   ],
   "source": [
    "odd_numbers.pop() \n",
    "print ( odd_numbers )"
   ]
  },
  {
   "cell_type": "markdown",
   "metadata": {},
   "source": [
    "### **remove ( )** removes a specified element "
   ]
  },
  {
   "cell_type": "markdown",
   "metadata": {},
   "source": [
    "**remove** does not remove elements by index. Instead it does by the actual content.. It removes the first occurance of a value"
   ]
  },
  {
   "cell_type": "markdown",
   "metadata": {},
   "source": [
    "<img src=\"./pics/list-remove-element.png\"/>"
   ]
  },
  {
   "cell_type": "code",
   "execution_count": 76,
   "metadata": {},
   "outputs": [
    {
     "name": "stdout",
     "output_type": "stream",
     "text": [
      "[1, 3, 5, 7, 9]\n"
     ]
    }
   ],
   "source": [
    "odd_numbers = [1,3,5,7,9]\n",
    "print ( odd_numbers)"
   ]
  },
  {
   "cell_type": "code",
   "execution_count": 77,
   "metadata": {},
   "outputs": [
    {
     "name": "stdout",
     "output_type": "stream",
     "text": [
      "[1, 3, 5, 7]\n"
     ]
    }
   ],
   "source": [
    "odd_numbers.remove (9) # removes the first occurance of a value\n",
    "print ( odd_numbers )"
   ]
  },
  {
   "cell_type": "markdown",
   "metadata": {},
   "source": [
    "### **clear ( )** - Clear the list "
   ]
  },
  {
   "cell_type": "markdown",
   "metadata": {},
   "source": [
    "<img src=\"./pics/list-clear.png\"/>"
   ]
  },
  {
   "cell_type": "code",
   "execution_count": 64,
   "metadata": {},
   "outputs": [
    {
     "name": "stdout",
     "output_type": "stream",
     "text": [
      "[1, 3, 5, 7, 9]\n"
     ]
    }
   ],
   "source": [
    "odd_numbers = [1,3,5,7,9]\n",
    "print ( odd_numbers )"
   ]
  },
  {
   "cell_type": "code",
   "execution_count": null,
   "metadata": {},
   "outputs": [],
   "source": [
    "odd_numbers.clear()\n",
    "print ( odd_numbers )"
   ]
  },
  {
   "cell_type": "markdown",
   "metadata": {},
   "source": [
    "Now, let's put these new functions to use on the next version of the program. We will modify the program in such a way that the user can\n",
    "- enter new grades\n",
    "- modify any existing grade\n",
    "- remove any grades\n",
    "- clear all grades\n",
    "\n",
    "In order to do this, we need to modify the interface a little bit. "
   ]
  },
  {
   "cell_type": "markdown",
   "metadata": {},
   "source": [
    "<img src=\"./pics/overall-program-structure.png\"/>"
   ]
  },
  {
   "cell_type": "markdown",
   "metadata": {},
   "source": [
    "and here are the list functions we will be using that we have learnt so far. "
   ]
  },
  {
   "cell_type": "markdown",
   "metadata": {},
   "source": [
    "<img src=\"./pics/list-functions.png\"/>"
   ]
  },
  {
   "cell_type": "code",
   "execution_count": null,
   "metadata": {},
   "outputs": [
    {
     "name": "stdout",
     "output_type": "stream",
     "text": [
      " enter your choices - \n",
      "Enter your choice - \n",
      "- 'enter' grades\n",
      "- 'delete' grades\n",
      "- 'update' grades\n",
      "- 'clear' grades\n",
      "- calculate 'average'\n",
      "- 'exit'\n"
     ]
    },
    {
     "name": "stdin",
     "output_type": "stream",
     "text": [
      "-  enter\n"
     ]
    },
    {
     "name": "stdout",
     "output_type": "stream",
     "text": [
      "Enter grades. type e to exit\n"
     ]
    },
    {
     "name": "stdin",
     "output_type": "stream",
     "text": [
      " -->  1\n",
      " -->  2\n",
      " -->  3\n",
      " -->  4\n",
      " -->  5\n",
      " -->  e\n"
     ]
    },
    {
     "name": "stdout",
     "output_type": "stream",
     "text": [
      "You have entered - \n",
      "[1.0, 2.0, 3.0, 4.0, 5.0]\n",
      "Enter your choice - \n",
      "- 'enter' grades\n",
      "- 'delete' grades\n",
      "- 'update' grades\n",
      "- 'clear' grades\n",
      "- calculate 'average'\n",
      "- 'exit'\n"
     ]
    },
    {
     "name": "stdin",
     "output_type": "stream",
     "text": [
      "-  clearasdf\n"
     ]
    },
    {
     "name": "stdout",
     "output_type": "stream",
     "text": [
      "Enter valid choice - Try again\n",
      "Enter your choice - \n",
      "- 'enter' grades\n",
      "- 'delete' grades\n",
      "- 'update' grades\n",
      "- 'clear' grades\n",
      "- calculate 'average'\n",
      "- 'exit'\n"
     ]
    }
   ],
   "source": [
    "# This is a rewrite of the average grade program we have done previously. \n",
    "# In this program, we will learn about \n",
    "# 1. modify lists\n",
    "# 2. delete elements in list\n",
    "# 3. clear lists\n",
    "# 4. remove specific elements in list\n",
    "\n",
    "import math\n",
    "\n",
    "# create an empty grades list\n",
    "grades = []\n",
    "\n",
    "print ( \" enter your choices - \")\n",
    "while ( True ) :\n",
    "    print ( \"Enter your choice - \")\n",
    "    print ( \"- 'enter' grades\")\n",
    "    print ( \"- 'delete' grades\")\n",
    "    print ( \"- 'update' grades\")\n",
    "    print ( \"- 'clear' grades\")\n",
    "    print ( \"- calculate 'average'\")\n",
    "    print (\"- 'exit'\")\n",
    "    \n",
    "    choice = input(\"- \")\n",
    "    if choice == \"exit\" :\n",
    "        break\n",
    "    \n",
    "    if choice == \"enter\" :\n",
    "        print ( \"Enter grades. type e to exit\")\n",
    "        while True :\n",
    "            grade = input ( \" --> \")\n",
    "            if grade == \"e\" :\n",
    "                break\n",
    "            else :\n",
    "                grade   = float(grade)\n",
    "                grades.append(grade)\n",
    "        print ( \"You have entered - \")\n",
    "        print ( grades )\n",
    "\n",
    "    elif choice == \"delete\" :\n",
    "        if len(grades) == 0 : \n",
    "            # there are no grades yet. \n",
    "            print ( \" No grades input yet. Please try to input grades\")\n",
    "        else :\n",
    "            print ( \"Enter index to delete. type e to exit\")\n",
    "            while True or len(grades) != 0 :\n",
    "                index = 0\n",
    "                print ( \"index - grade\")\n",
    "                for grade in grades :\n",
    "                    print ( index,\"\\t\",grade)\n",
    "                    index = index + 1\n",
    "                \n",
    "                grade = input ( \"-->\")\n",
    "                if grade == \"e\" :\n",
    "                    break\n",
    "                else :\n",
    "                    if int(grade) < len(grades) :\n",
    "                        grades.pop(int(grade))\n",
    "    \n",
    "    elif choice == \"update\":\n",
    "        if len(grades) == 0 : \n",
    "            # there are no grades yet. \n",
    "            print ( \" No grades input yet. Please try to input grades\")\n",
    "        else :\n",
    "            print ( \"Enter index to update. type e to exit\")   \n",
    "            while True or len(grades) != 0 :\n",
    "                index = 0\n",
    "                print ( \"index - grade\")\n",
    "                for grade in grades :\n",
    "                    print ( index,\"\\t\",grade)\n",
    "                    index = index + 1             \n",
    "\n",
    "                grade = input ( \"-->\")\n",
    "                if grade == \"e\" :\n",
    "                    break\n",
    "                else :\n",
    "                    if int(grade) < len(grades) :\n",
    "                        print ( \"Changing grade\")\n",
    "                        print ( \"--------------\")\n",
    "                        print ( \"index - grade\")\n",
    "                        print ( int(grade), \"\\t\",grades[int(grade)])\n",
    "                        print ( \"enter new grade\")\n",
    "                        new_grade = input( \"-->\")\n",
    "                        grades[int(grade)] = float(new_grade)          \n",
    "\n",
    "    elif choice == \"clear\" :\n",
    "        if len(grades) == 0 : \n",
    "            # there are no grades yet. \n",
    "            print ( \" No grades input yet. Please try to input grades\")   \n",
    "        else :\n",
    "            grades.clear()\n",
    "            print ( \"cleared all grades\") \n",
    "            print ( \"=================\")        \n",
    "\n",
    "    elif choice == \"average\" :\n",
    "        average = math.fsum(grades) / len(grades)\n",
    "        print (\"Average --> \",average)    \n",
    "        print (\"=================\")       \n",
    "    \n",
    "    else :\n",
    "        print ( \"Enter valid choice - Try again\")\n",
    "        \n",
    "\n",
    "\n",
    "                "
   ]
  },
  {
   "cell_type": "markdown",
   "metadata": {},
   "source": [
    "### Mixed data types"
   ]
  },
  {
   "cell_type": "markdown",
   "metadata": {},
   "source": [
    "Lists can have mixed data types. This is a very useful feature of lists. Your data can be as mixed as possible."
   ]
  },
  {
   "cell_type": "markdown",
   "metadata": {},
   "source": [
    "<img src=\"./pics/list-multiple-data-types.png\"/>"
   ]
  },
  {
   "cell_type": "code",
   "execution_count": 26,
   "metadata": {},
   "outputs": [],
   "source": [
    "# A person's name, age and weight\n",
    "person = [\"Adam\", 25, 160.65]"
   ]
  },
  {
   "cell_type": "code",
   "execution_count": 35,
   "metadata": {},
   "outputs": [
    {
     "data": {
      "text/plain": [
       "str"
      ]
     },
     "execution_count": 35,
     "metadata": {},
     "output_type": "execute_result"
    }
   ],
   "source": [
    "type(person[0])"
   ]
  },
  {
   "cell_type": "code",
   "execution_count": 36,
   "metadata": {},
   "outputs": [
    {
     "data": {
      "text/plain": [
       "int"
      ]
     },
     "execution_count": 36,
     "metadata": {},
     "output_type": "execute_result"
    }
   ],
   "source": [
    "type(person[1])"
   ]
  },
  {
   "cell_type": "code",
   "execution_count": 37,
   "metadata": {},
   "outputs": [
    {
     "data": {
      "text/plain": [
       "float"
      ]
     },
     "execution_count": 37,
     "metadata": {},
     "output_type": "execute_result"
    }
   ],
   "source": [
    "type(person[2])"
   ]
  },
  {
   "cell_type": "markdown",
   "metadata": {},
   "source": [
    "## Nested Lists"
   ]
  },
  {
   "cell_type": "markdown",
   "metadata": {},
   "source": [
    "There can even be a list inside a list - Also called \"Nested\" Lists"
   ]
  },
  {
   "cell_type": "markdown",
   "metadata": {},
   "source": [
    "<img src=\"./pics/nested-list.png\"/>"
   ]
  },
  {
   "cell_type": "code",
   "execution_count": 38,
   "metadata": {},
   "outputs": [],
   "source": [
    "person = [ [\"Adam\",\"Smith\"],25,160.65]"
   ]
  },
  {
   "cell_type": "code",
   "execution_count": 40,
   "metadata": {},
   "outputs": [
    {
     "data": {
      "text/plain": [
       "list"
      ]
     },
     "execution_count": 40,
     "metadata": {},
     "output_type": "execute_result"
    }
   ],
   "source": [
    "type(person[0])"
   ]
  },
  {
   "cell_type": "markdown",
   "metadata": {},
   "source": [
    "## Enumerate"
   ]
  },
  {
   "cell_type": "markdown",
   "metadata": {},
   "source": [
    "So far, while looping through lists using the **for x in range** syntax, unlike other languages like C, you do not have access to the index. This is where **enumerate ( )** comes in. Enumerate function just returns an enumerated ( with explicit indices ) object. for example, "
   ]
  },
  {
   "cell_type": "code",
   "execution_count": 3,
   "metadata": {},
   "outputs": [
    {
     "name": "stdout",
     "output_type": "stream",
     "text": [
      "1.0\n",
      "2.3\n",
      "3.0\n"
     ]
    }
   ],
   "source": [
    "grades = [1.0,2.3,3.0]\n",
    "\n",
    "for grade in grades :\n",
    "    print ( grade )"
   ]
  },
  {
   "cell_type": "markdown",
   "metadata": {},
   "source": [
    "To get the index, we would have to maintain a separate indicator for the same. "
   ]
  },
  {
   "cell_type": "code",
   "execution_count": 2,
   "metadata": {},
   "outputs": [
    {
     "name": "stdout",
     "output_type": "stream",
     "text": [
      "0 1.0\n",
      "1 2.3\n",
      "2 3.0\n"
     ]
    }
   ],
   "source": [
    "i = 0\n",
    "\n",
    "for grade in grades :\n",
    "    print ( i,grade )\n",
    "    i = i + 1\n",
    "    "
   ]
  },
  {
   "cell_type": "markdown",
   "metadata": {},
   "source": [
    "Let's see how enumerator can help us. "
   ]
  },
  {
   "cell_type": "code",
   "execution_count": 4,
   "metadata": {},
   "outputs": [
    {
     "data": {
      "text/plain": [
       "<enumerate at 0x3cb7da0>"
      ]
     },
     "execution_count": 4,
     "metadata": {},
     "output_type": "execute_result"
    }
   ],
   "source": [
    "e_grades = enumerate(grades)\n",
    "e_grades"
   ]
  },
  {
   "cell_type": "markdown",
   "metadata": {},
   "source": [
    "Now e_grade is an enumerate object and no longer just a list. Let's iterate over it to see the elements inside. "
   ]
  },
  {
   "cell_type": "code",
   "execution_count": 4,
   "metadata": {},
   "outputs": [
    {
     "name": "stdout",
     "output_type": "stream",
     "text": [
      "(0, 1.0)\n",
      "(1, 2.3)\n",
      "(2, 3.0)\n"
     ]
    }
   ],
   "source": [
    "for grade in e_grades :\n",
    "    print ( grade )"
   ]
  },
  {
   "cell_type": "markdown",
   "metadata": {},
   "source": [
    "Each of these elements is a tuple ( which we are going to learn about later). Think of it is a limited version of a list for now. Now that the enumerator has indices, let's try to loop through it again like so. "
   ]
  },
  {
   "cell_type": "code",
   "execution_count": 5,
   "metadata": {},
   "outputs": [
    {
     "name": "stdout",
     "output_type": "stream",
     "text": [
      "0 1.0\n",
      "1 2.3\n",
      "2 3.0\n"
     ]
    }
   ],
   "source": [
    "for index, grade in e_grades :\n",
    "    print ( index , grade)"
   ]
  },
  {
   "cell_type": "markdown",
   "metadata": {},
   "source": [
    "Why make such a big deal about indices while iterating lists ? Well for starters it gives you more control. For example, iterate over a list, but skip very 3rd element."
   ]
  },
  {
   "cell_type": "markdown",
   "metadata": {},
   "source": [
    "<img src=\"./pics/iterate-list-skip.png\"/>"
   ]
  },
  {
   "cell_type": "code",
   "execution_count": 7,
   "metadata": {},
   "outputs": [
    {
     "name": "stdout",
     "output_type": "stream",
     "text": [
      "0 1\n",
      "1 2\n",
      "3 4\n",
      "4 5\n",
      "6 7\n",
      "7 8\n"
     ]
    }
   ],
   "source": [
    "numbers = [1,2,3,4,5,6,7,8,9]\n",
    "\n",
    "for index,number in enumerate(numbers) :\n",
    "    if (index + 1)%3 != 0 :\n",
    "        print ( index, number)"
   ]
  },
  {
   "cell_type": "markdown",
   "metadata": {},
   "source": [
    "Let's upgrade our _Average Grades_ program to show off our understanding of **Nested Lists** and **enumerator**"
   ]
  },
  {
   "cell_type": "markdown",
   "metadata": {},
   "source": [
    "In the previous versions, we were able to calculate grades for a single class - say _English_ subject. What if the teacher wants to input grades for the _English_ subject across all the classes that she teaches ? Say 1st grade through 5th grade ?"
   ]
  },
  {
   "cell_type": "markdown",
   "metadata": {},
   "source": [
    "<img src=\"./pics/nested-list-grades.png\"/>"
   ]
  },
  {
   "cell_type": "code",
   "execution_count": 2,
   "metadata": {},
   "outputs": [
    {
     "name": "stdout",
     "output_type": "stream",
     "text": [
      "Enter grades of each student for grade  1  - 'e' to exit\n"
     ]
    },
    {
     "name": "stdin",
     "output_type": "stream",
     "text": [
      " -  1\n",
      " -  1\n",
      " -  e\n"
     ]
    },
    {
     "name": "stdout",
     "output_type": "stream",
     "text": [
      "Enter grades of each student for grade  2  - 'e' to exit\n"
     ]
    },
    {
     "name": "stdin",
     "output_type": "stream",
     "text": [
      " -  1\n",
      " -  1\n",
      " -  e\n"
     ]
    },
    {
     "name": "stdout",
     "output_type": "stream",
     "text": [
      "Enter grades of each student for grade  3  - 'e' to exit\n"
     ]
    },
    {
     "name": "stdin",
     "output_type": "stream",
     "text": [
      " -  1\n",
      " -  1\n",
      " -  e\n"
     ]
    },
    {
     "name": "stdout",
     "output_type": "stream",
     "text": [
      "Enter grades of each student for grade  4  - 'e' to exit\n"
     ]
    },
    {
     "name": "stdin",
     "output_type": "stream",
     "text": [
      " -  2\n",
      " -  2\n",
      " -  e\n"
     ]
    },
    {
     "name": "stdout",
     "output_type": "stream",
     "text": [
      "Enter grades of each student for grade  5  - 'e' to exit\n"
     ]
    },
    {
     "name": "stdin",
     "output_type": "stream",
     "text": [
      " -  5\n",
      " -  5\n",
      " -  e\n"
     ]
    },
    {
     "name": "stdout",
     "output_type": "stream",
     "text": [
      "here are the grades you entered\n",
      "Grades for class -  0\n",
      "1.0\n",
      "1.0\n",
      "Grades for class -  1\n",
      "1.0\n",
      "1.0\n",
      "Grades for class -  2\n",
      "1.0\n",
      "1.0\n",
      "Grades for class -  3\n",
      "2.0\n",
      "2.0\n",
      "Grades for class -  4\n",
      "5.0\n",
      "5.0\n",
      "Average grade of class  1  is -  1.0\n",
      "Average grade of class  2  is -  1.0\n",
      "Average grade of class  3  is -  1.0\n",
      "Average grade of class  4  is -  2.0\n",
      "Average grade of class  5  is -  5.0\n"
     ]
    }
   ],
   "source": [
    "# Instead of calculating grades for just one class, let's calculate\n",
    "# the average of grades across classes 1 to \n",
    "\n",
    "# In this program, we will learn about \n",
    "# 1. compound lists ( list of lists )\n",
    "# 2. enumerator\n",
    "\n",
    "import math\n",
    "\n",
    "grades_all = []\n",
    "\n",
    "for i in range(1,6) : \n",
    "    print ( \"Enter grades of each student for grade \",i,\" - 'e' to exit\")\n",
    "    grades = []\n",
    "    while True :\n",
    "        grade = input ( \" - \")\n",
    "        if grade == \"e\" :\n",
    "            break\n",
    "        else :\n",
    "            grades.append(float(grade))\n",
    "    \n",
    "    grades_all.append(grades)\n",
    "\n",
    "print ( \"here are the grades you entered\")\n",
    "\n",
    "for index,grades in enumerate(grades_all) :\n",
    "    print ( \"Grades for class - \",index)\n",
    "    for grade in grades :\n",
    "        print ( grade)\n",
    "\n",
    "for index, grades in enumerate(grades_all) :\n",
    "    average = math.fsum(grades) / len(grades)\n",
    "    print ( \"Average grade of class \", (index+1), \" is - \", average)"
   ]
  },
  {
   "cell_type": "markdown",
   "metadata": {},
   "source": [
    "## **Combine** lists"
   ]
  },
  {
   "cell_type": "code",
   "execution_count": null,
   "metadata": {},
   "outputs": [],
   "source": [
    "odd_numbers  = [1,3,5,7,9]"
   ]
  },
  {
   "cell_type": "markdown",
   "metadata": {},
   "source": [
    "\"+\" operator is overloaded to combine lists"
   ]
  },
  {
   "cell_type": "markdown",
   "metadata": {},
   "source": [
    "<img src=\"./pics/combine-lists.png\"/>"
   ]
  },
  {
   "cell_type": "code",
   "execution_count": 1,
   "metadata": {},
   "outputs": [],
   "source": [
    "odd_numbers  = [1,3,5,7,9]\n",
    "even_numbers = [2,4,6,8,10]"
   ]
  },
  {
   "cell_type": "code",
   "execution_count": 2,
   "metadata": {},
   "outputs": [],
   "source": [
    "all_numbers = odd_numbers + even_numbers"
   ]
  },
  {
   "cell_type": "code",
   "execution_count": 3,
   "metadata": {},
   "outputs": [
    {
     "name": "stdout",
     "output_type": "stream",
     "text": [
      "[1, 3, 5, 7, 9, 2, 4, 6, 8, 10]\n"
     ]
    }
   ],
   "source": [
    "print ( all_numbers )"
   ]
  },
  {
   "cell_type": "markdown",
   "metadata": {},
   "source": [
    "They are combined in the same order as the underlying lists are. No sorting of any sort happens by default"
   ]
  },
  {
   "cell_type": "markdown",
   "metadata": {},
   "source": [
    "<img src=\"./pics/list-sort.png\"/>"
   ]
  },
  {
   "cell_type": "code",
   "execution_count": 4,
   "metadata": {},
   "outputs": [],
   "source": [
    "all_numbers.sort()"
   ]
  },
  {
   "cell_type": "code",
   "execution_count": 5,
   "metadata": {},
   "outputs": [
    {
     "name": "stdout",
     "output_type": "stream",
     "text": [
      "[1, 2, 3, 4, 5, 6, 7, 8, 9, 10]\n"
     ]
    }
   ],
   "source": [
    "print ( all_numbers)"
   ]
  },
  {
   "cell_type": "markdown",
   "metadata": {},
   "source": [
    "How about substraction ? "
   ]
  },
  {
   "cell_type": "code",
   "execution_count": 6,
   "metadata": {},
   "outputs": [
    {
     "ename": "TypeError",
     "evalue": "unsupported operand type(s) for -: 'list' and 'list'",
     "output_type": "error",
     "traceback": [
      "\u001b[1;31m---------------------------------------------------------------------------\u001b[0m",
      "\u001b[1;31mTypeError\u001b[0m                                 Traceback (most recent call last)",
      "\u001b[1;32m<ipython-input-6-d9179448423f>\u001b[0m in \u001b[0;36m<module>\u001b[1;34m\u001b[0m\n\u001b[1;32m----> 1\u001b[1;33m \u001b[0modd_numbers\u001b[0m \u001b[1;33m-\u001b[0m \u001b[0meven_numbers\u001b[0m\u001b[1;33m\u001b[0m\u001b[1;33m\u001b[0m\u001b[0m\n\u001b[0m",
      "\u001b[1;31mTypeError\u001b[0m: unsupported operand type(s) for -: 'list' and 'list'"
     ]
    }
   ],
   "source": [
    "odd_numbers - even_numbers"
   ]
  },
  {
   "cell_type": "markdown",
   "metadata": {},
   "source": [
    "oops.. that doesn't work.. Other arithmetic operators like \"-\" substraction, \"*\" multiplication or \"/\" division are not overloaded for lists"
   ]
  },
  {
   "cell_type": "markdown",
   "metadata": {},
   "source": [
    "Let's see these in action in the next version of **Average Grades** program "
   ]
  },
  {
   "cell_type": "markdown",
   "metadata": {},
   "source": [
    "Say you are calculating the average grade across the entire district. Each school has a separate list of grades, we just have to calculate the average across all the lists( school ). Just for simplicity, let's assume we are calculating grades for just Class 1 across all the schools. And then finally sort the schools by their average grade to find out which school ranks better. "
   ]
  },
  {
   "cell_type": "markdown",
   "metadata": {},
   "source": [
    "<img src=\"./pics/3-level-list.png\"/>"
   ]
  },
  {
   "cell_type": "code",
   "execution_count": 1,
   "metadata": {},
   "outputs": [
    {
     "name": "stdin",
     "output_type": "stream",
     "text": [
      " Enter the school name -  school 1\n"
     ]
    },
    {
     "name": "stdout",
     "output_type": "stream",
     "text": [
      "Enter the grades for this school (e to exit ) -\n"
     ]
    },
    {
     "name": "stdin",
     "output_type": "stream",
     "text": [
      " -  1\n",
      " -  2\n",
      " -  e\n",
      " Enter the school name -  school 2\n"
     ]
    },
    {
     "name": "stdout",
     "output_type": "stream",
     "text": [
      "Enter the grades for this school (e to exit ) -\n"
     ]
    },
    {
     "name": "stdin",
     "output_type": "stream",
     "text": [
      " -  1\n",
      " -  2\n",
      " -  3\n",
      " -  e\n",
      " Enter the school name -  school 3\n"
     ]
    },
    {
     "name": "stdout",
     "output_type": "stream",
     "text": [
      "Enter the grades for this school (e to exit ) -\n"
     ]
    },
    {
     "name": "stdin",
     "output_type": "stream",
     "text": [
      " -  3\n",
      " -  4\n",
      " -  5\n",
      " -  e\n",
      " Enter the school name -  school 4\n"
     ]
    },
    {
     "name": "stdout",
     "output_type": "stream",
     "text": [
      "Enter the grades for this school (e to exit ) -\n"
     ]
    },
    {
     "name": "stdin",
     "output_type": "stream",
     "text": [
      " -  3\n",
      " -  2\n",
      " -  5\n",
      " -  e\n",
      " Enter the school name -  school 5\n"
     ]
    },
    {
     "name": "stdout",
     "output_type": "stream",
     "text": [
      "Enter the grades for this school (e to exit ) -\n"
     ]
    },
    {
     "name": "stdin",
     "output_type": "stream",
     "text": [
      " -  2\n",
      " -  3\n",
      " -  4\n",
      " -  e\n"
     ]
    },
    {
     "name": "stdout",
     "output_type": "stream",
     "text": [
      "[['school 1', [1.0, 2.0]], ['school 2', [1.0, 2.0, 3.0]], ['school 3', [3.0, 4.0, 5.0]], ['school 4', [3.0, 2.0, 5.0]], ['school 5', [2.0, 3.0, 4.0]]]\n",
      "[[1.5, 'school 1', [1.0, 2.0]], [2.0, 'school 2', [1.0, 2.0, 3.0]], [4.0, 'school 3', [3.0, 4.0, 5.0]], [3.3333333333333335, 'school 4', [3.0, 2.0, 5.0]], [3.0, 'school 5', [2.0, 3.0, 4.0]]]\n",
      "Avg. Grade School Name                                        Grades                         \n",
      "4.0        school 3                                           [3.0, 4.0, 5.0]                \n",
      "3.3333333333333335 school 4                                           [3.0, 2.0, 5.0]                \n",
      "3.0        school 5                                           [2.0, 3.0, 4.0]                \n",
      "2.0        school 2                                           [1.0, 2.0, 3.0]                \n",
      "1.5        school 1                                           [1.0, 2.0]                     \n"
     ]
    }
   ],
   "source": [
    "import math\n",
    "\n",
    "grades_each_schools = []\n",
    "\n",
    "# say there are 5 schools and we are calculating\n",
    "# the average grade for just one class\n",
    "\n",
    "for i in range(1,6) :\n",
    "    school_name = input (\" Enter the school name - \") \n",
    "    school_grades = []\n",
    "    school_grades.append(school_name)\n",
    "    print ( \"Enter the grades for this school (e to exit ) -\")\n",
    "    grades = []\n",
    "    while True :\n",
    "        grade = input ( \" - \")\n",
    "        if grade == \"e\" :\n",
    "            break\n",
    "        else :\n",
    "            grades.append(float(grade))\n",
    "    school_grades.append(grades)\n",
    "    grades_each_schools.append(school_grades)\n",
    "\n",
    "print ( grades_each_schools)\n",
    "\n",
    "for school in grades_each_schools :\n",
    "    average = math.fsum(school[1]) / len(school[1])\n",
    "    school.insert(0,average)\n",
    "\n",
    "print ( grades_each_schools)\n",
    "\n",
    "# sort the school by average grade in reverse order\n",
    "grades_each_schools.sort( reverse = True)\n",
    "\n",
    "# pretty up the printing\n",
    "# for school in grades_each_schools :\n",
    "#     print (school[0],\"\\t\\t\",school[1],\"\\t\\t\\t\\t\",school[2])\n",
    "\n",
    "# or better\n",
    "print ('{:<10} {:<50} {:<30} '.format(\"Avg. Grade\",\"School Name\",\"Grades\") )\n",
    "for school in grades_each_schools :\n",
    "    print ('{:<10} {:<50} {:<30} '.format(school[0],school[1],str(school[2])) )"
   ]
  },
  {
   "cell_type": "markdown",
   "metadata": {},
   "source": [
    "## Challenge\n",
    "\n",
    "Here is a small challenge to understand sorting of lists. \n",
    "\n",
    "**Logic** : Two words area anagrams if they contain the same letters. For example, the following words are anagrams of each other. \n",
    "\n",
    "- how\n",
    "- who\n",
    "\n",
    "Here are some more examples \n",
    "\n",
    "icon and coin , item and time , keen and knee\n",
    "\n",
    "Our program should find out that the user entered words are anagrams or not. \n"
   ]
  },
  {
   "cell_type": "code",
   "execution_count": 2,
   "metadata": {},
   "outputs": [
    {
     "name": "stdin",
     "output_type": "stream",
     "text": [
      "First word -  knee\n",
      "Second word -  keen\n"
     ]
    },
    {
     "name": "stdout",
     "output_type": "stream",
     "text": [
      "knee  and  keen  are anagrams\n"
     ]
    }
   ],
   "source": [
    "first_word = input ( \"First word - \")\n",
    "second_word = input ( \"Second word - \")\n",
    "\n",
    "if sorted(first_word) == sorted(second_word) :\n",
    "    print ( first_word, \" and \", second_word, \" are anagrams\")\n",
    "else :\n",
    "    print ( first_word, \" and \", second_word, \" are not anagrams\")\n",
    "\n",
    "# convert the word to a list ( break it down into it's individual letters )\n",
    "# and sort to compare\n",
    "\n",
    "# if list(first_word).sort() == list(second_word).sort() :\n",
    "#     print ( first_word, \" and \", second_word, \" are anagrams\")\n",
    "# else :\n",
    "#     print ( first_word, \" and \", second_word, \" are not anagrams\")   "
   ]
  },
  {
   "cell_type": "markdown",
   "metadata": {},
   "source": [
    "## Slicing"
   ]
  },
  {
   "cell_type": "markdown",
   "metadata": {},
   "source": [
    "Lists can be \"sliced\" to get a subset of the data"
   ]
  },
  {
   "cell_type": "markdown",
   "metadata": {},
   "source": [
    "<img src=\"./pics/slice-list.png\"/>"
   ]
  },
  {
   "cell_type": "markdown",
   "metadata": {},
   "source": [
    "\n",
    "\n",
    "The general syntax is\n",
    "\n",
    "list [ start : stop : increment ]\n",
    "\n",
    "<img src=\"pics/list_indexing.png\">"
   ]
  },
  {
   "cell_type": "code",
   "execution_count": 41,
   "metadata": {},
   "outputs": [],
   "source": [
    "numbers = [1 , 2, 3 , 4 , 5 , 6  ,7 ,8 ,9]"
   ]
  },
  {
   "cell_type": "code",
   "execution_count": 28,
   "metadata": {},
   "outputs": [
    {
     "data": {
      "text/plain": [
       "[1, 2, 3, 4]"
      ]
     },
     "execution_count": 28,
     "metadata": {},
     "output_type": "execute_result"
    }
   ],
   "source": [
    "# Get the first 4 numbers\n",
    "numbers[0:4]"
   ]
  },
  {
   "cell_type": "code",
   "execution_count": 61,
   "metadata": {},
   "outputs": [
    {
     "data": {
      "text/plain": [
       "[11, 13, 15, 17]"
      ]
     },
     "execution_count": 61,
     "metadata": {},
     "output_type": "execute_result"
    }
   ],
   "source": [
    "odd_numbers[5:] # Includes all elements starting from 5th position to the end"
   ]
  },
  {
   "cell_type": "markdown",
   "metadata": {},
   "source": [
    "<img src=\"./pics/slice-through-end.png\"/>"
   ]
  },
  {
   "cell_type": "code",
   "execution_count": 60,
   "metadata": {},
   "outputs": [
    {
     "data": {
      "text/plain": [
       "[1, 3, 5, 7, 9]"
      ]
     },
     "execution_count": 60,
     "metadata": {},
     "output_type": "execute_result"
    }
   ],
   "source": [
    "odd_numbers = [1,3,5,7,9,11,13,15,17]\n",
    "odd_numbers[0:5] # Includes elements from 0 to 4"
   ]
  },
  {
   "cell_type": "markdown",
   "metadata": {},
   "source": [
    "<img src=\"./pics/slice-include.png\"/>"
   ]
  },
  {
   "cell_type": "markdown",
   "metadata": {},
   "source": [
    "Negative Indexing\n",
    "\n",
    "<img src=\"pics/list_indexing.png\">"
   ]
  },
  {
   "cell_type": "code",
   "execution_count": 7,
   "metadata": {},
   "outputs": [
    {
     "data": {
      "text/plain": [
       "9"
      ]
     },
     "execution_count": 7,
     "metadata": {},
     "output_type": "execute_result"
    }
   ],
   "source": [
    "numbers = [1,2,3,4,5,6,7,8,9]\n",
    "           \n",
    "numbers[-1]"
   ]
  },
  {
   "cell_type": "code",
   "execution_count": 23,
   "metadata": {},
   "outputs": [
    {
     "data": {
      "text/plain": [
       "1"
      ]
     },
     "execution_count": 23,
     "metadata": {},
     "output_type": "execute_result"
    }
   ],
   "source": [
    "numbers[-9]"
   ]
  },
  {
   "cell_type": "code",
   "execution_count": 33,
   "metadata": {},
   "outputs": [
    {
     "data": {
      "text/plain": [
       "[1, 2, 3, 4]"
      ]
     },
     "execution_count": 33,
     "metadata": {},
     "output_type": "execute_result"
    }
   ],
   "source": [
    "# use negative indexing\n",
    "numbers[-9:-5]"
   ]
  },
  {
   "cell_type": "code",
   "execution_count": 35,
   "metadata": {},
   "outputs": [
    {
     "data": {
      "text/plain": [
       "[6, 7, 8, 9]"
      ]
     },
     "execution_count": 35,
     "metadata": {},
     "output_type": "execute_result"
    }
   ],
   "source": [
    "# Get the last 4 numbers\n",
    "numbers[-4:]"
   ]
  },
  {
   "cell_type": "markdown",
   "metadata": {},
   "source": [
    "<img src=\"./pics/colon-increment.png\"/>"
   ]
  },
  {
   "cell_type": "code",
   "execution_count": 5,
   "metadata": {},
   "outputs": [
    {
     "data": {
      "text/plain": [
       "[1, 3, 5, 7, 9]"
      ]
     },
     "execution_count": 5,
     "metadata": {},
     "output_type": "execute_result"
    }
   ],
   "source": [
    "# Get alternate numbers - The number after the second colon ( : ) tells the increment\n",
    "numbers[::2]"
   ]
  },
  {
   "cell_type": "code",
   "execution_count": 7,
   "metadata": {},
   "outputs": [
    {
     "data": {
      "text/plain": [
       "[1, 2, 3, 4, 5, 6, 7, 8, 9]"
      ]
     },
     "execution_count": 7,
     "metadata": {},
     "output_type": "execute_result"
    }
   ],
   "source": [
    "# Get all the numbers\n",
    "numbers[:]"
   ]
  },
  {
   "cell_type": "code",
   "execution_count": 8,
   "metadata": {},
   "outputs": [
    {
     "data": {
      "text/plain": [
       "[1, 2, 3, 4, 5, 6, 7, 8, 9]"
      ]
     },
     "execution_count": 8,
     "metadata": {},
     "output_type": "execute_result"
    }
   ],
   "source": [
    "# this is equavalent to \n",
    "numbers[0:len(numbers)]"
   ]
  },
  {
   "cell_type": "code",
   "execution_count": 9,
   "metadata": {},
   "outputs": [
    {
     "data": {
      "text/plain": [
       "[2, 3, 4, 5]"
      ]
     },
     "execution_count": 9,
     "metadata": {},
     "output_type": "execute_result"
    }
   ],
   "source": [
    "# Get the 2nd through 5th elements\n",
    "numbers[1:5]"
   ]
  },
  {
   "cell_type": "markdown",
   "metadata": {},
   "source": [
    "<img src=\"./pics/list-subset.png\"/>"
   ]
  },
  {
   "cell_type": "code",
   "execution_count": 8,
   "metadata": {},
   "outputs": [
    {
     "name": "stdout",
     "output_type": "stream",
     "text": [
      "[5, 7, 9]\n"
     ]
    }
   ],
   "source": [
    "# An arbitray set of numbers - say 3rd, 5th and 8th ( something that you can't specify with a slice )\n",
    "s = [4,6,8]\n",
    "\n",
    "numbers_subset = []\n",
    "for i in s : \n",
    "    numbers_subset.append( numbers[i] )\n",
    "    \n",
    "print ( numbers_subset )\n",
    "    \n"
   ]
  },
  {
   "cell_type": "code",
   "execution_count": 44,
   "metadata": {},
   "outputs": [
    {
     "data": {
      "text/plain": [
       "[5, 7, 9]"
      ]
     },
     "execution_count": 44,
     "metadata": {},
     "output_type": "execute_result"
    }
   ],
   "source": [
    "# an alternate syntax for the same\n",
    "[numbers[i] for i in s]"
   ]
  },
  {
   "cell_type": "code",
   "execution_count": null,
   "metadata": {},
   "outputs": [],
   "source": []
  }
 ],
 "metadata": {
  "kernelspec": {
   "display_name": "Python 3",
   "language": "python",
   "name": "python3"
  },
  "language_info": {
   "codemirror_mode": {
    "name": "ipython",
    "version": 3
   },
   "file_extension": ".py",
   "mimetype": "text/x-python",
   "name": "python",
   "nbconvert_exporter": "python",
   "pygments_lexer": "ipython3",
   "version": "3.7.1"
  }
 },
 "nbformat": 4,
 "nbformat_minor": 2
}
