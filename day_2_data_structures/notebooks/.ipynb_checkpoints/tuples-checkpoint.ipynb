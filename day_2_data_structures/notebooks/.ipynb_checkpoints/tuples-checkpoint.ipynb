{
 "cells": [
  {
   "cell_type": "markdown",
   "metadata": {},
   "source": [
    "Copyright &copy; of Ajay Tech @ https://ajaytech.co"
   ]
  },
  {
   "cell_type": "markdown",
   "metadata": {},
   "source": [
    "# Tuples"
   ]
  },
  {
   "cell_type": "markdown",
   "metadata": {},
   "source": [
    "Tuples are a sequence of immutable objects. The keyword being <em> <b> immutable </b> </em> . Think of tuples <em>almost as lists</em>, except that once they are created, they cannot be changed.\n",
    "\n",
    "<li> <a href=\"#create-tuples\"> Create Tuples </a></li>\n",
    "<li> <a href=\"#access-tuple-elements\"> Access Tuple elements </a></li>\n",
    "<li> <a href=\"#modify-tuple\"> Modify Tuple </a></li>\n",
    "<li> <a href=\"#tuple-advantages\"> Advantages of Tuples over Lists </a></li>\n",
    "<li> <a href=\"#tuple-methods\"> Tuple Methods </a></li>\n",
    "    <ul type = \"square\">\n",
    "        <li> <a href=\"#count\"> - count ( ) </a></li>\n",
    "        <li> <a href=\"#index\"> - index ( ) </a></li>\n",
    "    </ul>\n",
    "\n",
    "<li> <a href=\"#built-in\"> Other Python Built-in Functions</a></li>\n",
    "    <ul>\n",
    "        <li> <a href=\"#len\"> len ( ) </a></li>\n",
    "        <li> <a href=\"#min-max\"> min ( ) & max ( )</a></li>\n",
    "        <li> <a href=\"#del\"> del ( ) </a></li>\n",
    "        <li> <a href=\"#sum\"> sum ( ) </a></li>\n",
    "        <li> <a href=\"#filter\"> filter ( ) </a></li>\n",
    "    </ul>\n"
   ]
  },
  {
   "cell_type": "markdown",
   "metadata": {},
   "source": [
    "<div id=\"create-tuples\"><b> Create Tuples </b></div>"
   ]
  },
  {
   "cell_type": "markdown",
   "metadata": {},
   "source": [
    "Think of a tuple as a snippet of immutable data. For example, here is a snippet that represents Brad Pitt. "
   ]
  },
  {
   "cell_type": "markdown",
   "metadata": {},
   "source": [
    "<img src=\"./pics/create-tuple.png\"/>"
   ]
  },
  {
   "cell_type": "code",
   "execution_count": 18,
   "metadata": {},
   "outputs": [],
   "source": [
    "person_1 = (\"Brad Pitt\", 55, \"Los Angeles\")\n",
    "person_2 = (\"Angelina Jolie\", 45, \"Beverly Hills\")"
   ]
  },
  {
   "cell_type": "markdown",
   "metadata": {},
   "source": [
    "Creating a tuple with only 1 element is a bit tricky. You would have to use an extra comma. For example, this would be a string, not a tuple"
   ]
  },
  {
   "cell_type": "markdown",
   "metadata": {},
   "source": [
    "<img src=\"./pics/tuple-single-element.png\"/>"
   ]
  },
  {
   "cell_type": "code",
   "execution_count": 1,
   "metadata": {},
   "outputs": [
    {
     "data": {
      "text/plain": [
       "str"
      ]
     },
     "execution_count": 1,
     "metadata": {},
     "output_type": "execute_result"
    }
   ],
   "source": [
    "tuple_1 = (\"Brad Pitt\")\n",
    "type(tuple_1)"
   ]
  },
  {
   "cell_type": "markdown",
   "metadata": {},
   "source": [
    "However, this would be a tuple. "
   ]
  },
  {
   "cell_type": "code",
   "execution_count": 23,
   "metadata": {},
   "outputs": [
    {
     "data": {
      "text/plain": [
       "tuple"
      ]
     },
     "execution_count": 23,
     "metadata": {},
     "output_type": "execute_result"
    }
   ],
   "source": [
    "tuple_2 = (\"Brad Pitt\",)\n",
    "type(tuple_2)"
   ]
  },
  {
   "cell_type": "markdown",
   "metadata": {},
   "source": [
    "The reason why this happens is because, paranthesis can be used to define precedence. So, to define a tuple with a single element, <em>you have to use an additional comma</em>"
   ]
  },
  {
   "cell_type": "markdown",
   "metadata": {},
   "source": [
    "You can even <em>define a tuple without the paranthesis</em>."
   ]
  },
  {
   "cell_type": "markdown",
   "metadata": {},
   "source": [
    "<img src=\"./pics/tuple-without-paranthesis.png\"/>"
   ]
  },
  {
   "cell_type": "code",
   "execution_count": 3,
   "metadata": {},
   "outputs": [
    {
     "data": {
      "text/plain": [
       "('Brad Pitt', 55, 'Los Angeles')"
      ]
     },
     "execution_count": 3,
     "metadata": {},
     "output_type": "execute_result"
    }
   ],
   "source": [
    "person_1 = \"Brad Pitt\", 55 , \"Los Angeles\"\n",
    "person_1"
   ]
  },
  {
   "cell_type": "code",
   "execution_count": 4,
   "metadata": {},
   "outputs": [
    {
     "data": {
      "text/plain": [
       "tuple"
      ]
     },
     "execution_count": 4,
     "metadata": {},
     "output_type": "execute_result"
    }
   ],
   "source": [
    "type(person_1)"
   ]
  },
  {
   "cell_type": "markdown",
   "metadata": {},
   "source": [
    "You can even <em>convert</em> a List to a Tuple"
   ]
  },
  {
   "cell_type": "markdown",
   "metadata": {},
   "source": [
    "<img src=\"./pics/create-tuple-from-list.png\"/>"
   ]
  },
  {
   "cell_type": "code",
   "execution_count": 2,
   "metadata": {},
   "outputs": [
    {
     "data": {
      "text/plain": [
       "('Brad Pitt', 55, 'Los Angeles')"
      ]
     },
     "execution_count": 2,
     "metadata": {},
     "output_type": "execute_result"
    }
   ],
   "source": [
    "person_list = [\"Brad Pitt\",55,\"Los Angeles\"]\n",
    "person_tuple = tuple(person_list)\n",
    "person_tuple"
   ]
  },
  {
   "cell_type": "markdown",
   "metadata": {},
   "source": [
    "<div id=\"access-tuple-elements\"><h4> Accessing the elements of a Tuple </h4></div>"
   ]
  },
  {
   "cell_type": "markdown",
   "metadata": {},
   "source": [
    "Just like a List, you can access members of the tuple using **indices**\n",
    "\n",
    "<img src=\"./pics/indexing_slicing_tuple.png\"/>"
   ]
  },
  {
   "cell_type": "code",
   "execution_count": 7,
   "metadata": {},
   "outputs": [
    {
     "data": {
      "text/plain": [
       "'Brad Pitt'"
      ]
     },
     "execution_count": 7,
     "metadata": {},
     "output_type": "execute_result"
    }
   ],
   "source": [
    "name_1 = person_1[0]\n",
    "name_1"
   ]
  },
  {
   "cell_type": "markdown",
   "metadata": {},
   "source": [
    "Or using <em>slices </em>"
   ]
  },
  {
   "cell_type": "code",
   "execution_count": 24,
   "metadata": {},
   "outputs": [
    {
     "data": {
      "text/plain": [
       "('Brad Pitt', 55)"
      ]
     },
     "execution_count": 24,
     "metadata": {},
     "output_type": "execute_result"
    }
   ],
   "source": [
    "person_1[0:2]"
   ]
  },
  {
   "cell_type": "markdown",
   "metadata": {},
   "source": [
    "Or using <em> negative indexing </em>"
   ]
  },
  {
   "cell_type": "code",
   "execution_count": 25,
   "metadata": {},
   "outputs": [
    {
     "data": {
      "text/plain": [
       "'Brad Pitt'"
      ]
     },
     "execution_count": 25,
     "metadata": {},
     "output_type": "execute_result"
    }
   ],
   "source": [
    "person_1[-3]"
   ]
  },
  {
   "cell_type": "markdown",
   "metadata": {},
   "source": [
    "<div id=\"modify-tuple\"><h4 >Modifying a Tuple</h4> </div>"
   ]
  },
  {
   "cell_type": "markdown",
   "metadata": {},
   "source": [
    "However, unlike a list, you cannot change it's values. For example, this is an illegal operation.. Remember, <em> tuples are immutable </em>\n",
    "<img src=\"./pics/change_tuple.png\"/>"
   ]
  },
  {
   "cell_type": "code",
   "execution_count": 26,
   "metadata": {},
   "outputs": [
    {
     "ename": "TypeError",
     "evalue": "'tuple' object does not support item assignment",
     "output_type": "error",
     "traceback": [
      "\u001b[1;31m---------------------------------------------------------------------------\u001b[0m",
      "\u001b[1;31mTypeError\u001b[0m                                 Traceback (most recent call last)",
      "\u001b[1;32m<ipython-input-26-654366a6f906>\u001b[0m in \u001b[0;36m<module>\u001b[1;34m\u001b[0m\n\u001b[1;32m----> 1\u001b[1;33m \u001b[0mperson_1\u001b[0m\u001b[1;33m[\u001b[0m\u001b[1;36m0\u001b[0m\u001b[1;33m]\u001b[0m \u001b[1;33m=\u001b[0m \u001b[1;34m\"Sean Penn\"\u001b[0m\u001b[1;33m\u001b[0m\u001b[1;33m\u001b[0m\u001b[0m\n\u001b[0m",
      "\u001b[1;31mTypeError\u001b[0m: 'tuple' object does not support item assignment"
     ]
    }
   ],
   "source": [
    "person_1[0] = \"Sean Penn\""
   ]
  },
  {
   "cell_type": "markdown",
   "metadata": {},
   "source": [
    "However, <em>if the elements of a tuple are mutable, they can be changed </em>. For example, these lists themselves cannot be changed, but their elements can be"
   ]
  },
  {
   "cell_type": "markdown",
   "metadata": {},
   "source": [
    "<img src=\"./pics/tuple-changes.png\"/>"
   ]
  },
  {
   "cell_type": "code",
   "execution_count": 27,
   "metadata": {},
   "outputs": [],
   "source": [
    "cast = ([\"Brad Pitt\",55,\"Los Angeles\"],[\"Angelina Jolie\",45,\"Beverly Hills\"])"
   ]
  },
  {
   "cell_type": "code",
   "execution_count": 30,
   "metadata": {},
   "outputs": [
    {
     "data": {
      "text/plain": [
       "(['Tom Cruise', 56, 'Los Angeles'], ['Angelina Jolie', 45, 'Beverly Hills'])"
      ]
     },
     "execution_count": 30,
     "metadata": {},
     "output_type": "execute_result"
    }
   ],
   "source": [
    "cast[0][0] = \"Tom Cruise\"\n",
    "cast[0][1] = 56\n",
    "cast"
   ]
  },
  {
   "cell_type": "markdown",
   "metadata": {},
   "source": [
    "<div id=\"tuple-advantages\"> <h4>Advantages of Tuples over Lists </h4> </div>"
   ]
  },
  {
   "cell_type": "markdown",
   "metadata": {},
   "source": [
    "<li>\n",
    "    Tuples are immutable. So, iterating over a tuple in a loop is much more efficient than lists\n",
    "</li>\n",
    "<li>\n",
    "    Tuples are write-protected. So, python guarantees that any code that uses this tuple will not be able to change it. So, you can use it for holding data that is <em>constant and global in nature </em>\n",
    "</li>"
   ]
  },
  {
   "cell_type": "markdown",
   "metadata": {},
   "source": [
    "<div id=\"tuple-methods\"><h4>Tuple methods</h4> </div>"
   ]
  },
  {
   "cell_type": "markdown",
   "metadata": {},
   "source": [
    "Since tuples are immutable, there are <em>very few in-built methods</em> to it. \n",
    "<li> <b> count ( ) </b> </li>\n",
    "<li> <b> index ( ) </b> </li>"
   ]
  },
  {
   "cell_type": "markdown",
   "metadata": {},
   "source": [
    "<div id=\"count\"> <b>count ( )</b> returns the <em>number of occurances of an element</em>in the tuple </div>"
   ]
  },
  {
   "cell_type": "markdown",
   "metadata": {},
   "source": [
    "<img src=\"./pics/tuple-count.png\"/>"
   ]
  },
  {
   "cell_type": "code",
   "execution_count": 7,
   "metadata": {},
   "outputs": [
    {
     "data": {
      "text/plain": [
       "2"
      ]
     },
     "execution_count": 7,
     "metadata": {},
     "output_type": "execute_result"
    }
   ],
   "source": [
    "ages = (4,5,7,3,4,7,8,5,8,5)\n",
    "ages.count(7)"
   ]
  },
  {
   "cell_type": "markdown",
   "metadata": {},
   "source": [
    "<div id=\"index\"><b>index ( ) </b> returns the <em>first index of the occurance of an element </em> in the tuple </div>"
   ]
  },
  {
   "cell_type": "markdown",
   "metadata": {},
   "source": [
    "<img src=\"./pics/tuple-index.png\"/>"
   ]
  },
  {
   "cell_type": "code",
   "execution_count": 8,
   "metadata": {},
   "outputs": [
    {
     "data": {
      "text/plain": [
       "2"
      ]
     },
     "execution_count": 8,
     "metadata": {},
     "output_type": "execute_result"
    }
   ],
   "source": [
    "ages = (4,5,7,3,4,7,8,5,8,5)\n",
    "ages.index(7)"
   ]
  },
  {
   "cell_type": "markdown",
   "metadata": {},
   "source": [
    "<div id=\"built-in\">Other built-in functions in Python that works on other iterables (like lists) work on tuples as well. For example, \n",
    "<li> <b>len ( )</b> </li>\n",
    "<li> <b>min ( )</b> </li>\n",
    "<li> <b>max ( )</b> </li>\n",
    "<li> <b>del ( )</b> </li>\n",
    "<li> <b>sum ( )</b> </li>\n",
    "<li> <b>filter ( )</b> </li>\n",
    "etc\n",
    "    </div>\n",
    "    "
   ]
  },
  {
   "cell_type": "markdown",
   "metadata": {},
   "source": [
    "<div id=\"len\"> </div><b> len ( ) </b>  -  <em> Length of a Tuple </em>\n",
    "\n",
    "<img src=\"./pics/vowels.png\" />"
   ]
  },
  {
   "cell_type": "code",
   "execution_count": 34,
   "metadata": {},
   "outputs": [
    {
     "data": {
      "text/plain": [
       "5"
      ]
     },
     "execution_count": 34,
     "metadata": {},
     "output_type": "execute_result"
    }
   ],
   "source": [
    "vowels = ('a','e','i','o','u')\n",
    "len(vowels)"
   ]
  },
  {
   "cell_type": "markdown",
   "metadata": {},
   "source": [
    "<div id=\"min-max\" /><b>max ( ) </b> and <b>min ( ) </b> functions\n",
    "\n",
    "<em>Find out the maximum and minimum values of a tuple </em> . In the following example, alphabetic sorting is done to get the min or max."
   ]
  },
  {
   "cell_type": "code",
   "execution_count": 10,
   "metadata": {},
   "outputs": [],
   "source": [
    "android_versions = (\"Cupcake\", \"Donut\", \"Eclair\", \"Froyo\", \"Gingerbread\",\"Honeycomb\",\"Icecream Sandwhich\",\n",
    "                    \"Jellybean\", \"Kitkat\", \"Lollypop\",\"Marshmallow\", \"Nougat\",\"Oreo\",\"Pie\")"
   ]
  },
  {
   "cell_type": "code",
   "execution_count": 46,
   "metadata": {},
   "outputs": [
    {
     "data": {
      "text/plain": [
       "'Pie'"
      ]
     },
     "execution_count": 46,
     "metadata": {},
     "output_type": "execute_result"
    }
   ],
   "source": [
    "max(android_versions)"
   ]
  },
  {
   "cell_type": "code",
   "execution_count": 47,
   "metadata": {},
   "outputs": [
    {
     "data": {
      "text/plain": [
       "'Cupcake'"
      ]
     },
     "execution_count": 47,
     "metadata": {},
     "output_type": "execute_result"
    }
   ],
   "source": [
    "min(android_versions)"
   ]
  },
  {
   "cell_type": "markdown",
   "metadata": {},
   "source": [
    "<div id=\"del\"/><b> del ( ) deletes the tuple"
   ]
  },
  {
   "cell_type": "code",
   "execution_count": 11,
   "metadata": {},
   "outputs": [],
   "source": [
    "del(android_versions)"
   ]
  },
  {
   "cell_type": "markdown",
   "metadata": {},
   "source": [
    "<div id=\"sum\"/><b> sum ( ) </b> adds up all the numbers in the tuple"
   ]
  },
  {
   "cell_type": "code",
   "execution_count": 12,
   "metadata": {},
   "outputs": [],
   "source": [
    "ages = (4,5,7,3,4,7,8,5,8,5)"
   ]
  },
  {
   "cell_type": "code",
   "execution_count": 13,
   "metadata": {},
   "outputs": [
    {
     "data": {
      "text/plain": [
       "56"
      ]
     },
     "execution_count": 13,
     "metadata": {},
     "output_type": "execute_result"
    }
   ],
   "source": [
    "sum(ages)"
   ]
  },
  {
   "cell_type": "markdown",
   "metadata": {},
   "source": [
    "<div id=\"filter\"/><b> filter ( ) </b> also works on tuple\n",
    "\n",
    "<img src=\"../pics/filter.png\" />"
   ]
  },
  {
   "cell_type": "code",
   "execution_count": 16,
   "metadata": {},
   "outputs": [
    {
     "name": "stdout",
     "output_type": "stream",
     "text": [
      "5\n",
      "7\n",
      "7\n",
      "8\n",
      "5\n",
      "8\n",
      "5\n"
     ]
    }
   ],
   "source": [
    "ages = (4,5,7,3,4,7,8,5,8,5)\n",
    "\n",
    "# Primary schools admist students from 5 to 11\n",
    "def primary_schools ( age ) :\n",
    "    if 11 >= age >= 5 :\n",
    "        return True\n",
    "    else :\n",
    "        return False\n",
    "\n",
    "primary_school_age = filter(primary_schools, ages)\n",
    "\n",
    "for age in primary_school_age :\n",
    "    print ( age )"
   ]
  },
  {
   "cell_type": "code",
   "execution_count": null,
   "metadata": {},
   "outputs": [],
   "source": []
  }
 ],
 "metadata": {
  "kernelspec": {
   "display_name": "Python 3",
   "language": "python",
   "name": "python3"
  },
  "language_info": {
   "codemirror_mode": {
    "name": "ipython",
    "version": 3
   },
   "file_extension": ".py",
   "mimetype": "text/x-python",
   "name": "python",
   "nbconvert_exporter": "python",
   "pygments_lexer": "ipython3",
   "version": "3.7.3"
  }
 },
 "nbformat": 4,
 "nbformat_minor": 2
}
