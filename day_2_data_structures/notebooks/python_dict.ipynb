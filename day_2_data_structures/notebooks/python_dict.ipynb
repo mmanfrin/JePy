{
 "cells": [
  {
   "cell_type": "markdown",
   "metadata": {},
   "source": [
    "Copyright &copy; of Ajay Tech @ https://ajaytech.co"
   ]
  },
  {
   "cell_type": "markdown",
   "metadata": {},
   "source": [
    "Dictionaries are used to represent key value pairs. For example, the grades of a student in a class could be represented like this.\n",
    "\n",
    "<img src=\"pics/dict_key_value.png\">"
   ]
  },
  {
   "cell_type": "code",
   "execution_count": 62,
   "metadata": {},
   "outputs": [
    {
     "data": {
      "text/plain": [
       "{'Math': 4, 'Physics': 3.8, 'Chemistry': 3.6, 'English': 3.7}"
      ]
     },
     "execution_count": 62,
     "metadata": {},
     "output_type": "execute_result"
    }
   ],
   "source": [
    "grades = { \"Math\"        : 4,\n",
    "           \"Physics\"     : 3.8,\n",
    "           \"Chemistry\"   : 3.6,\n",
    "           \"English\"     : 3.7}\n",
    "\n",
    "grades"
   ]
  },
  {
   "cell_type": "markdown",
   "metadata": {},
   "source": [
    "## Create a Dictionary"
   ]
  },
  {
   "cell_type": "code",
   "execution_count": 1,
   "metadata": {},
   "outputs": [],
   "source": [
    "# Create an empty dictionary\n",
    "grades = {}"
   ]
  },
  {
   "cell_type": "code",
   "execution_count": 2,
   "metadata": {},
   "outputs": [
    {
     "data": {
      "text/plain": [
       "{'Math': 4, 'Physics': 3.8, 'Chemistry': 3.6, 'English': 3.7}"
      ]
     },
     "execution_count": 2,
     "metadata": {},
     "output_type": "execute_result"
    }
   ],
   "source": [
    "# OR\n",
    "# Initialize a dictionary\n",
    "grades = { \"Math\"        : 4,\n",
    "           \"Physics\"     : 3.8,\n",
    "           \"Chemistry\"   : 3.6,\n",
    "           \"English\"     : 3.7}\n",
    "\n",
    "grades"
   ]
  },
  {
   "cell_type": "code",
   "execution_count": 15,
   "metadata": {},
   "outputs": [
    {
     "data": {
      "text/plain": [
       "{'Math': 4, 'Physics': 3.8, 'Chemistry': 3.6, 'English': 3.7}"
      ]
     },
     "execution_count": 15,
     "metadata": {},
     "output_type": "execute_result"
    }
   ],
   "source": [
    "grades"
   ]
  },
  {
   "cell_type": "markdown",
   "metadata": {},
   "source": [
    "You can get the values for any of the \"Keys\" using the square brackets notation"
   ]
  },
  {
   "cell_type": "code",
   "execution_count": 4,
   "metadata": {},
   "outputs": [
    {
     "name": "stdout",
     "output_type": "stream",
     "text": [
      "My Math grade is  4\n"
     ]
    }
   ],
   "source": [
    "print ( \"My Math grade is \", grades[\"Math\"])"
   ]
  },
  {
   "cell_type": "markdown",
   "metadata": {},
   "source": [
    "## Unique Keys"
   ]
  },
  {
   "cell_type": "markdown",
   "metadata": {},
   "source": [
    "Python dictionaries are more or less equal to hash tables if you know them from other languages. So, naturally\n",
    "\n",
    "- The key kas to be unique."
   ]
  },
  {
   "cell_type": "markdown",
   "metadata": {},
   "source": [
    "If the key is already present, it will UPDATE the value for that key"
   ]
  },
  {
   "cell_type": "code",
   "execution_count": 7,
   "metadata": {},
   "outputs": [
    {
     "data": {
      "text/plain": [
       "{'Math': 3.9, 'Physics': 3.8, 'Chemistry': 3.6, 'English': 3.7}"
      ]
     },
     "execution_count": 7,
     "metadata": {},
     "output_type": "execute_result"
    }
   ],
   "source": [
    "grades[\"Math\"] = 3.9\n",
    "grades"
   ]
  },
  {
   "cell_type": "markdown",
   "metadata": {},
   "source": [
    "If the key does not exist, it gets added"
   ]
  },
  {
   "cell_type": "code",
   "execution_count": 7,
   "metadata": {},
   "outputs": [
    {
     "data": {
      "text/plain": [
       "{'Math': 4, 'Physics': 3.8, 'Chemistry': 3.6, 'English': 3.7, 'Biology': 3.5}"
      ]
     },
     "execution_count": 7,
     "metadata": {},
     "output_type": "execute_result"
    }
   ],
   "source": [
    "grades[\"Biology\"] = 3.5\n",
    "grades"
   ]
  },
  {
   "cell_type": "markdown",
   "metadata": {},
   "source": [
    "## Get Method\n",
    "If you specifically want to the get the value of a particular key ( without over-riding the value), use the get method"
   ]
  },
  {
   "cell_type": "code",
   "execution_count": 4,
   "metadata": {},
   "outputs": [],
   "source": [
    "grades.get(\"Biology\")"
   ]
  },
  {
   "cell_type": "markdown",
   "metadata": {},
   "source": [
    "This returns **None** if the key does not exist. "
   ]
  },
  {
   "cell_type": "markdown",
   "metadata": {},
   "source": [
    "<img src=\"./pics/check-if-key-exists.png\"/>"
   ]
  },
  {
   "cell_type": "code",
   "execution_count": 7,
   "metadata": {},
   "outputs": [
    {
     "name": "stdout",
     "output_type": "stream",
     "text": [
      "None\n"
     ]
    }
   ],
   "source": [
    "print ( grades.get(\"zoology\") )"
   ]
  },
  {
   "cell_type": "markdown",
   "metadata": {},
   "source": [
    "## Vowels program"
   ]
  },
  {
   "cell_type": "markdown",
   "metadata": {},
   "source": [
    "Previously, while learning about lists, we have counted the number of vowels in a sentence. In this program, we will count the occurence of each of the vowels. For example, the sentence _how are you_ has\n",
    "\n",
    "- o - 2\n",
    "- a - 1\n",
    "- e - 1\n",
    "- u - 1\n",
    "\n",
    "We could have very well done this using lists, how dictionary lend themselves better to this logic because, the vowels are unique and you don't have to do lists of lists. Instead you can use the **vowels** for the _keys_ and the **counts** for the _values_.\n",
    "\n",
    "In this program, we will be learning\n",
    "- How to get initialize a dictionary\n",
    "- How to insert a key,value pair\n",
    "- How to check if a key exists"
   ]
  },
  {
   "cell_type": "markdown",
   "metadata": {},
   "source": [
    "<img src=\"./pics/vowel-count-dictionary.png\"/>"
   ]
  },
  {
   "cell_type": "code",
   "execution_count": null,
   "metadata": {},
   "outputs": [],
   "source": [
    "sentence = input ( \"Enter a sentence -\")\n",
    "\n",
    "vowels = ['a','e','i','o','u']\n",
    "vowel_count = {}\n",
    "\n",
    "for i in list(sentence) :\n",
    "    if i in vowels :\n",
    "        if vowel_count.get(i) == None :\n",
    "                # key doesn't exist yet. add it\n",
    "                vowel_count[i] = 1\n",
    "        else :\n",
    "                # key already exist. add to the value\n",
    "                vowel_count[i] = vowel_count[i] + 1\n",
    "\n",
    "print ( vowel_count )"
   ]
  },
  {
   "cell_type": "markdown",
   "metadata": {},
   "source": [
    "## The key is not ordered\n",
    "\n",
    "Meaning, you cannot refer to values in a dictionary via an index. For example, this will given a key error. "
   ]
  },
  {
   "cell_type": "code",
   "execution_count": 10,
   "metadata": {},
   "outputs": [
    {
     "ename": "KeyError",
     "evalue": "0",
     "output_type": "error",
     "traceback": [
      "\u001b[1;31m---------------------------------------------------------------------------\u001b[0m",
      "\u001b[1;31mKeyError\u001b[0m                                  Traceback (most recent call last)",
      "\u001b[1;32m<ipython-input-10-b0ec7979780f>\u001b[0m in \u001b[0;36m<module>\u001b[1;34m\u001b[0m\n\u001b[1;32m----> 1\u001b[1;33m \u001b[0mgrades\u001b[0m\u001b[1;33m[\u001b[0m\u001b[1;36m0\u001b[0m\u001b[1;33m]\u001b[0m\u001b[1;33m\u001b[0m\u001b[0m\n\u001b[0m",
      "\u001b[1;31mKeyError\u001b[0m: 0"
     ]
    }
   ],
   "source": [
    "grades[0]"
   ]
  },
  {
   "cell_type": "markdown",
   "metadata": {},
   "source": [
    "## iterate over the dictionary"
   ]
  },
  {
   "cell_type": "markdown",
   "metadata": {},
   "source": [
    "Since the keys are not ordered, there is no way you can use indexing to iterate dictionaries ( like you can do lists). However, Python provides simple **for loop** based iteration that provides keys in the dictionary. Inside the for loop, you can then access the value in the dictionary, based on the key."
   ]
  },
  {
   "cell_type": "code",
   "execution_count": 40,
   "metadata": {},
   "outputs": [],
   "source": [
    "grades = { \"Math\"        : 4,\n",
    "           \"Physics\"     : 3.8,\n",
    "           \"Chemistry\"   : 3.6,\n",
    "           \"English\"     : 3.7}"
   ]
  },
  {
   "cell_type": "markdown",
   "metadata": {},
   "source": [
    "<img src=\"./pics/keys-for-loop.png\"/>"
   ]
  },
  {
   "cell_type": "code",
   "execution_count": 26,
   "metadata": {},
   "outputs": [
    {
     "name": "stdout",
     "output_type": "stream",
     "text": [
      "Math   4\n",
      "Physics   3.8\n",
      "Chemistry   3.6\n",
      "English   3.7\n"
     ]
    }
   ],
   "source": [
    "for key in grades : \n",
    "    print ( key , \" \" , grades[key])"
   ]
  },
  {
   "cell_type": "markdown",
   "metadata": {},
   "source": [
    "**items( )** function on the other hand returns a list of **tuples**. Each tuple can then be further broken down to yield the key and value. "
   ]
  },
  {
   "cell_type": "markdown",
   "metadata": {},
   "source": [
    "<img src=\"./pics/items-list-of-tuples.png\"/>"
   ]
  },
  {
   "cell_type": "code",
   "execution_count": 27,
   "metadata": {},
   "outputs": [
    {
     "name": "stdout",
     "output_type": "stream",
     "text": [
      "Math   4\n",
      "Physics   3.8\n",
      "Chemistry   3.6\n",
      "English   3.7\n"
     ]
    }
   ],
   "source": [
    "for item in grades.items() : \n",
    "    print ( item[0] , \" \" , item[1])"
   ]
  },
  {
   "cell_type": "markdown",
   "metadata": {},
   "source": [
    "If you look closely though, **items( )** function does not return a list. It instead returns a special object - **dict_items** that can be used very much like a list to iterate over it. "
   ]
  },
  {
   "cell_type": "code",
   "execution_count": 11,
   "metadata": {},
   "outputs": [
    {
     "data": {
      "text/plain": [
       "dict_items"
      ]
     },
     "execution_count": 11,
     "metadata": {},
     "output_type": "execute_result"
    }
   ],
   "source": [
    "type(grades.items())"
   ]
  },
  {
   "cell_type": "markdown",
   "metadata": {},
   "source": [
    "## Keys object\n",
    "Similarly, you can get the list of keys in the dictionary, may be do some pre-processing and get the values\n",
    "\n",
    "<img src=\"pics/dict_keys.png\">"
   ]
  },
  {
   "cell_type": "code",
   "execution_count": 41,
   "metadata": {},
   "outputs": [
    {
     "data": {
      "text/plain": [
       "dict_keys(['Math', 'Physics', 'Chemistry', 'English'])"
      ]
     },
     "execution_count": 41,
     "metadata": {},
     "output_type": "execute_result"
    }
   ],
   "source": [
    "keys = grades.keys()\n",
    "\n",
    "keys"
   ]
  },
  {
   "cell_type": "markdown",
   "metadata": {},
   "source": [
    "<img src=\"./pics/dict-keys-values.png\"/>"
   ]
  },
  {
   "cell_type": "markdown",
   "metadata": {},
   "source": [
    "This is not a List though - It is a dictionary view object. Think of it like a dynamic pointer to the dictionary keys. If the dictionary changes, this object changes as well. "
   ]
  },
  {
   "cell_type": "code",
   "execution_count": 43,
   "metadata": {},
   "outputs": [
    {
     "data": {
      "text/plain": [
       "dict_keys(['Math', 'Physics', 'Chemistry', 'English', 'Biology'])"
      ]
     },
     "execution_count": 43,
     "metadata": {},
     "output_type": "execute_result"
    }
   ],
   "source": [
    "grades[\"Biology\"] = 3.6\n",
    "\n",
    "keys"
   ]
  },
  {
   "cell_type": "markdown",
   "metadata": {},
   "source": [
    "If you instead wanted a static copy of the keys, you can convert it to a list"
   ]
  },
  {
   "cell_type": "code",
   "execution_count": 46,
   "metadata": {},
   "outputs": [
    {
     "data": {
      "text/plain": [
       "['Math', 'Physics', 'Chemistry', 'English', 'Biology']"
      ]
     },
     "execution_count": 46,
     "metadata": {},
     "output_type": "execute_result"
    }
   ],
   "source": [
    "keys_list = list(keys)\n",
    "keys_list"
   ]
  },
  {
   "cell_type": "code",
   "execution_count": 48,
   "metadata": {},
   "outputs": [],
   "source": [
    "grades[\"Zoology\"] = 3.6\n"
   ]
  },
  {
   "cell_type": "code",
   "execution_count": 49,
   "metadata": {},
   "outputs": [
    {
     "data": {
      "text/plain": [
       "['Math', 'Physics', 'Chemistry', 'English', 'Biology']"
      ]
     },
     "execution_count": 49,
     "metadata": {},
     "output_type": "execute_result"
    }
   ],
   "source": [
    "keys_list"
   ]
  },
  {
   "cell_type": "code",
   "execution_count": 50,
   "metadata": {},
   "outputs": [
    {
     "data": {
      "text/plain": [
       "dict_keys(['Math', 'Physics', 'Chemistry', 'English', 'Biology', 'Zoology'])"
      ]
     },
     "execution_count": 50,
     "metadata": {},
     "output_type": "execute_result"
    }
   ],
   "source": [
    "keys"
   ]
  },
  {
   "cell_type": "markdown",
   "metadata": {},
   "source": [
    "## Values\n",
    "-> Get just the values from the dictionary ( as opposed to the keys)\n",
    "\n",
    "<img src=\"pics/python_dictionary_values_only.png\">"
   ]
  },
  {
   "cell_type": "code",
   "execution_count": 12,
   "metadata": {},
   "outputs": [
    {
     "data": {
      "text/plain": [
       "dict_values([4, 3.8, 3.6, 3.7])"
      ]
     },
     "execution_count": 12,
     "metadata": {},
     "output_type": "execute_result"
    }
   ],
   "source": [
    "grades.values()"
   ]
  },
  {
   "cell_type": "markdown",
   "metadata": {},
   "source": [
    "Once again, this is not a list, but a dict_values object that dynamically changes with the dictionary. You can convert that to a list for static manipulation"
   ]
  },
  {
   "cell_type": "markdown",
   "metadata": {},
   "source": [
    "## Add Dictionaries\n",
    "\n",
    "You can add one dictionary to another ( also called merging dictionaries) using the **update( )** function\n",
    "\n",
    "<img src=\"pics/dict_update.png\">"
   ]
  },
  {
   "cell_type": "code",
   "execution_count": 57,
   "metadata": {},
   "outputs": [],
   "source": [
    "science_grades = { \"Math\"        : 4,\n",
    "                   \"Physics\"     : 3.8,\n",
    "                   \"Chemistry\"   : 3.6}\n",
    "\n",
    "arts_grades =     { \"English\"     : 3.2,\n",
    "                   \"Art\"         : 2.9,\n",
    "                   \"Drama\"       : 3.0 }"
   ]
  },
  {
   "cell_type": "code",
   "execution_count": 61,
   "metadata": {},
   "outputs": [
    {
     "data": {
      "text/plain": [
       "{'Math': 4,\n",
       " 'Physics': 3.8,\n",
       " 'Chemistry': 3.6,\n",
       " 'English': 3.2,\n",
       " 'Art': 2.9,\n",
       " 'Drama': 3.0}"
      ]
     },
     "execution_count": 61,
     "metadata": {},
     "output_type": "execute_result"
    }
   ],
   "source": [
    "science_grades.update(arts_grades)\n",
    "\n",
    "science_grades"
   ]
  },
  {
   "cell_type": "markdown",
   "metadata": {},
   "source": [
    "## Delete data\n",
    "Use the standard python keyword **del** to delete data from a dictionary."
   ]
  },
  {
   "cell_type": "code",
   "execution_count": 66,
   "metadata": {},
   "outputs": [],
   "source": [
    "grades = { \"Math\"        : 4,\n",
    "           \"Physics\"     : 3.8,\n",
    "           \"Chemistry\"   : 3.6,\n",
    "           \"English\"     : 3.7}"
   ]
  },
  {
   "cell_type": "markdown",
   "metadata": {},
   "source": [
    "For example, to delete the \"Math\" grade, use "
   ]
  },
  {
   "cell_type": "markdown",
   "metadata": {},
   "source": [
    "<img src=\"./pics/delete-dictionary-entries.png\"/>"
   ]
  },
  {
   "cell_type": "code",
   "execution_count": 67,
   "metadata": {},
   "outputs": [
    {
     "data": {
      "text/plain": [
       "{'Physics': 3.8, 'Chemistry': 3.6, 'English': 3.7}"
      ]
     },
     "execution_count": 67,
     "metadata": {},
     "output_type": "execute_result"
    }
   ],
   "source": [
    "# Using the del keyword\n",
    "del grades[\"Math\"]\n",
    "\n",
    "grades"
   ]
  },
  {
   "cell_type": "markdown",
   "metadata": {},
   "source": [
    "You can also use the **pop** method to delete entries from a dictionary. "
   ]
  },
  {
   "cell_type": "markdown",
   "metadata": {},
   "source": [
    "<img src=\"./pics/dictionary-pop-entries.png\"/>"
   ]
  },
  {
   "cell_type": "code",
   "execution_count": 68,
   "metadata": {},
   "outputs": [
    {
     "data": {
      "text/plain": [
       "{'Chemistry': 3.6, 'English': 3.7}"
      ]
     },
     "execution_count": 68,
     "metadata": {},
     "output_type": "execute_result"
    }
   ],
   "source": [
    "# Using pop method\n",
    "grades.pop(\"Physics\")\n",
    "\n",
    "grades"
   ]
  },
  {
   "cell_type": "markdown",
   "metadata": {},
   "source": [
    "What happens when you try to remove an element that does not exist ?"
   ]
  },
  {
   "cell_type": "markdown",
   "metadata": {},
   "source": [
    "<img src=\"./pics/dictionary-key-error.png\"/>"
   ]
  },
  {
   "cell_type": "code",
   "execution_count": 69,
   "metadata": {},
   "outputs": [
    {
     "ename": "KeyError",
     "evalue": "'Physics'",
     "output_type": "error",
     "traceback": [
      "\u001b[1;31m---------------------------------------------------------------------------\u001b[0m",
      "\u001b[1;31mKeyError\u001b[0m                                  Traceback (most recent call last)",
      "\u001b[1;32m<ipython-input-69-1b9cfad3b822>\u001b[0m in \u001b[0;36m<module>\u001b[1;34m\u001b[0m\n\u001b[1;32m----> 1\u001b[1;33m \u001b[0mgrades\u001b[0m\u001b[1;33m.\u001b[0m\u001b[0mpop\u001b[0m\u001b[1;33m(\u001b[0m\u001b[1;34m\"Physics\"\u001b[0m\u001b[1;33m)\u001b[0m\u001b[1;33m\u001b[0m\u001b[0m\n\u001b[0m",
      "\u001b[1;31mKeyError\u001b[0m: 'Physics'"
     ]
    }
   ],
   "source": [
    "grades.pop(\"Physics\")"
   ]
  },
  {
   "cell_type": "code",
   "execution_count": 20,
   "metadata": {},
   "outputs": [
    {
     "ename": "KeyError",
     "evalue": "'Physics'",
     "output_type": "error",
     "traceback": [
      "\u001b[1;31m---------------------------------------------------------------------------\u001b[0m",
      "\u001b[1;31mKeyError\u001b[0m                                  Traceback (most recent call last)",
      "\u001b[1;32m<ipython-input-20-3ae72ea1e273>\u001b[0m in \u001b[0;36m<module>\u001b[1;34m\u001b[0m\n\u001b[1;32m----> 1\u001b[1;33m \u001b[1;32mdel\u001b[0m \u001b[0mgrades\u001b[0m\u001b[1;33m[\u001b[0m\u001b[1;34m\"Physics\"\u001b[0m\u001b[1;33m]\u001b[0m\u001b[1;33m\u001b[0m\u001b[0m\n\u001b[0m",
      "\u001b[1;31mKeyError\u001b[0m: 'Physics'"
     ]
    }
   ],
   "source": [
    "del grades[\"Physics\"]"
   ]
  },
  {
   "cell_type": "markdown",
   "metadata": {},
   "source": [
    "## Clear \n",
    "As usual, to clear all the values from a dictionary use the **clear( )** function"
   ]
  },
  {
   "cell_type": "markdown",
   "metadata": {},
   "source": [
    "<img src=\"./pics/dictionary-clear-elements.png\"/>"
   ]
  },
  {
   "cell_type": "code",
   "execution_count": 73,
   "metadata": {},
   "outputs": [
    {
     "data": {
      "text/plain": [
       "{'Math': 4, 'Physics': 3.8, 'Chemistry': 3.6, 'English': 3.7}"
      ]
     },
     "execution_count": 73,
     "metadata": {},
     "output_type": "execute_result"
    }
   ],
   "source": [
    "grades = { \"Math\"        : 4,\n",
    "           \"Physics\"     : 3.8,\n",
    "           \"Chemistry\"   : 3.6,\n",
    "           \"English\"     : 3.7}\n",
    "\n",
    "grades"
   ]
  },
  {
   "cell_type": "code",
   "execution_count": 72,
   "metadata": {},
   "outputs": [
    {
     "data": {
      "text/plain": [
       "{}"
      ]
     },
     "execution_count": 72,
     "metadata": {},
     "output_type": "execute_result"
    }
   ],
   "source": [
    "grades.clear()\n",
    "\n",
    "grades"
   ]
  },
  {
   "cell_type": "markdown",
   "metadata": {},
   "source": [
    "## Shallow copy "
   ]
  },
  {
   "cell_type": "markdown",
   "metadata": {},
   "source": [
    "Shallow copy of grades\n",
    "\n",
    "- copy () function"
   ]
  },
  {
   "cell_type": "code",
   "execution_count": 14,
   "metadata": {},
   "outputs": [],
   "source": [
    "grades = { \"Math\"        : 4,\n",
    "           \"Physics\"     : 3.8,\n",
    "           \"Chemistry\"   : 3.6,\n",
    "           \"English\"     : 3.7}"
   ]
  },
  {
   "cell_type": "code",
   "execution_count": 15,
   "metadata": {},
   "outputs": [],
   "source": [
    "grades_c = grades.copy()"
   ]
  },
  {
   "cell_type": "code",
   "execution_count": 18,
   "metadata": {},
   "outputs": [
    {
     "name": "stdout",
     "output_type": "stream",
     "text": [
      "107894464\n",
      "107895664\n"
     ]
    }
   ],
   "source": [
    "print ( id(grades) )\n",
    "\n",
    "print ( id(grades_c) )"
   ]
  },
  {
   "cell_type": "code",
   "execution_count": 19,
   "metadata": {},
   "outputs": [],
   "source": [
    "grades[\"Biology\"] = 3.5"
   ]
  },
  {
   "cell_type": "code",
   "execution_count": 20,
   "metadata": {},
   "outputs": [
    {
     "name": "stdout",
     "output_type": "stream",
     "text": [
      "{'Math': 4, 'Physics': 3.8, 'Chemistry': 3.6, 'English': 3.7, 'Biology': 3.5}\n",
      "{'Math': 4, 'Physics': 3.8, 'Chemistry': 3.6, 'English': 3.7}\n"
     ]
    }
   ],
   "source": [
    "print( grades )\n",
    "print ( grades_c )"
   ]
  },
  {
   "cell_type": "markdown",
   "metadata": {},
   "source": [
    "= ( equal to ) operator returns a new reference ( like a pointer ) to the same data"
   ]
  },
  {
   "cell_type": "code",
   "execution_count": 22,
   "metadata": {},
   "outputs": [
    {
     "data": {
      "text/plain": [
       "107894464"
      ]
     },
     "execution_count": 22,
     "metadata": {},
     "output_type": "execute_result"
    }
   ],
   "source": [
    "grades_new = grades\n",
    "id( grades_new )"
   ]
  },
  {
   "cell_type": "code",
   "execution_count": 24,
   "metadata": {},
   "outputs": [],
   "source": [
    "grades.clear()"
   ]
  },
  {
   "cell_type": "code",
   "execution_count": 25,
   "metadata": {},
   "outputs": [
    {
     "data": {
      "text/plain": [
       "107894464"
      ]
     },
     "execution_count": 25,
     "metadata": {},
     "output_type": "execute_result"
    }
   ],
   "source": [
    "id(grades)"
   ]
  },
  {
   "cell_type": "code",
   "execution_count": 26,
   "metadata": {},
   "outputs": [
    {
     "data": {
      "text/plain": [
       "107895664"
      ]
     },
     "execution_count": 26,
     "metadata": {},
     "output_type": "execute_result"
    }
   ],
   "source": [
    "id(grades_c)"
   ]
  },
  {
   "cell_type": "code",
   "execution_count": 96,
   "metadata": {},
   "outputs": [
    {
     "data": {
      "text/plain": [
       "73892512"
      ]
     },
     "execution_count": 96,
     "metadata": {},
     "output_type": "execute_result"
    }
   ],
   "source": [
    "id(grades_new)"
   ]
  },
  {
   "cell_type": "code",
   "execution_count": 97,
   "metadata": {},
   "outputs": [
    {
     "data": {
      "text/plain": [
       "{}"
      ]
     },
     "execution_count": 97,
     "metadata": {},
     "output_type": "execute_result"
    }
   ],
   "source": [
    "grades"
   ]
  },
  {
   "cell_type": "code",
   "execution_count": 98,
   "metadata": {},
   "outputs": [
    {
     "data": {
      "text/plain": [
       "{'Math': 4, 'Physics': 3.8, 'Chemistry': 3.6, 'English': 3.7}"
      ]
     },
     "execution_count": 98,
     "metadata": {},
     "output_type": "execute_result"
    }
   ],
   "source": [
    "grades_c"
   ]
  },
  {
   "cell_type": "code",
   "execution_count": 99,
   "metadata": {},
   "outputs": [
    {
     "data": {
      "text/plain": [
       "{}"
      ]
     },
     "execution_count": 99,
     "metadata": {},
     "output_type": "execute_result"
    }
   ],
   "source": [
    "grades_new"
   ]
  },
  {
   "cell_type": "markdown",
   "metadata": {},
   "source": [
    "## Challenge"
   ]
  },
  {
   "cell_type": "markdown",
   "metadata": {},
   "source": [
    "**Logic** - Given a sentence, \n",
    "\n",
    "- find out the list of all words that contain a particular vowel\n",
    "- list the same against each of the vowel\n",
    "\n",
    "In this challenge, you will learn that the values in a dictionary can be another data structure - like a list. \n"
   ]
  },
  {
   "cell_type": "code",
   "execution_count": 2,
   "metadata": {},
   "outputs": [
    {
     "name": "stdin",
     "output_type": "stream",
     "text": [
      "Enter a sentence - how are you doing dear\n"
     ]
    },
    {
     "name": "stdout",
     "output_type": "stream",
     "text": [
      "{'o': ['how', 'you', 'doing'], 'a': ['are', 'dear'], 'e': ['are', 'dear'], 'u': ['you'], 'i': ['doing']}\n"
     ]
    }
   ],
   "source": [
    "sentence = input ( \"Enter a sentence -\")\n",
    "words    = sentence.split(\" \")\n",
    "\n",
    "vowels = ['a','e','i','o','u']\n",
    "vowel_words = {}\n",
    "\n",
    "for word in words :\n",
    "    for letter in list(word) :\n",
    "        if letter in vowels :\n",
    "                if vowel_words.get(letter) == None :\n",
    "                        vowel_words[letter] = [word]\n",
    "                else :\n",
    "                        vowel_words.get(letter).append(word)\n",
    "\n",
    "print ( vowel_words )"
   ]
  },
  {
   "cell_type": "code",
   "execution_count": null,
   "metadata": {},
   "outputs": [],
   "source": []
  }
 ],
 "metadata": {
  "kernelspec": {
   "display_name": "Python 3",
   "language": "python",
   "name": "python3"
  },
  "language_info": {
   "codemirror_mode": {
    "name": "ipython",
    "version": 3
   },
   "file_extension": ".py",
   "mimetype": "text/x-python",
   "name": "python",
   "nbconvert_exporter": "python",
   "pygments_lexer": "ipython3",
   "version": "3.7.3"
  }
 },
 "nbformat": 4,
 "nbformat_minor": 2
}
