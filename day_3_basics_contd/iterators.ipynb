{
 "cells": [
  {
   "cell_type": "markdown",
   "metadata": {},
   "source": [
    "Notebook is copyright &copy; of <a href=\"https://ajaytech.co\"> Ajay Tech </a>"
   ]
  },
  {
   "cell_type": "markdown",
   "metadata": {},
   "source": [
    "# Iterators"
   ]
  },
  {
   "cell_type": "markdown",
   "metadata": {},
   "source": [
    "## Contents"
   ]
  },
  {
   "cell_type": "markdown",
   "metadata": {},
   "source": [
    "- What is an Iterator\n",
    "  - iter()\n",
    "  - next()\n",
    "- Build your own Iterator\n",
    "- for loop over an Iterable\n"
   ]
  },
  {
   "cell_type": "markdown",
   "metadata": {},
   "source": [
    "### What is an Iterator"
   ]
  },
  {
   "cell_type": "markdown",
   "metadata": {},
   "source": [
    "An **Iterator** is an object that can iterate over an iterable object. "
   ]
  },
  {
   "cell_type": "markdown",
   "metadata": {},
   "source": [
    "<img src=\"./pics/iterator-iterable.png\"/>"
   ]
  },
  {
   "cell_type": "markdown",
   "metadata": {},
   "source": [
    "Let's look at a couple of examples. "
   ]
  },
  {
   "cell_type": "code",
   "execution_count": 15,
   "metadata": {},
   "outputs": [
    {
     "ename": "TypeError",
     "evalue": "'int' object is not iterable",
     "output_type": "error",
     "traceback": [
      "\u001b[1;31m---------------------------------------------------------------------------\u001b[0m",
      "\u001b[1;31mTypeError\u001b[0m                                 Traceback (most recent call last)",
      "\u001b[1;32m<ipython-input-15-1fc80fbe7676>\u001b[0m in \u001b[0;36m<module>\u001b[1;34m\u001b[0m\n\u001b[0;32m      1\u001b[0m \u001b[0mage\u001b[0m \u001b[1;33m=\u001b[0m \u001b[1;36m21\u001b[0m\u001b[1;33m\u001b[0m\u001b[1;33m\u001b[0m\u001b[0m\n\u001b[1;32m----> 2\u001b[1;33m \u001b[0miterable\u001b[0m \u001b[1;33m=\u001b[0m \u001b[0miter\u001b[0m\u001b[1;33m(\u001b[0m\u001b[0mage\u001b[0m\u001b[1;33m)\u001b[0m\u001b[1;33m\u001b[0m\u001b[1;33m\u001b[0m\u001b[0m\n\u001b[0m",
      "\u001b[1;31mTypeError\u001b[0m: 'int' object is not iterable"
     ]
    }
   ],
   "source": [
    "age = 21\n",
    "iterable = iter(age)"
   ]
  },
  {
   "cell_type": "markdown",
   "metadata": {},
   "source": [
    "What does the error say ? **int** object is **not** iterable. Let's try the same with a list."
   ]
  },
  {
   "cell_type": "markdown",
   "metadata": {},
   "source": [
    "<img src=\"./pics/list-iterable.png\"/>"
   ]
  },
  {
   "cell_type": "code",
   "execution_count": 16,
   "metadata": {},
   "outputs": [],
   "source": [
    "odd_numbers = [1,3,5,7,9]\n",
    "\n",
    "i = iter(odd_numbers)"
   ]
  },
  {
   "cell_type": "markdown",
   "metadata": {},
   "source": [
    "This time there is no error. What is the difference ? Earlier we were trying to iterate over an integer ( which is **not** iterable ), while this time we are iterating over a list ( which is **iterable**). \n",
    "\n",
    "Essentially, think of an **iterable** object like a list - something with multiple elements (unlike simple objects like integers or floats). Even simple strings are iterable ( it has multiple characters strung together, isn't it ). We will see all of these examples in a bit. But the question you might have now is, what to do with this iterator ? What is the purpose of an iterator ? "
   ]
  },
  {
   "cell_type": "markdown",
   "metadata": {},
   "source": [
    "<img src=\"./pics/iter-function.png\"/>"
   ]
  },
  {
   "cell_type": "markdown",
   "metadata": {},
   "source": [
    "The primary purpose of an **iterator** is to iterate over the elements in the object it is pointing to. And how exactly do we do it ? Using the Python's built-in **next ( )** function. Each call to the **next ( )** function returns the subsequent element in the **iterable** object. For example, each subsequent **next ( )** call returns the next element in the list. See example below. "
   ]
  },
  {
   "cell_type": "markdown",
   "metadata": {},
   "source": [
    "<img src=\"./pics/next-call.png\"/>"
   ]
  },
  {
   "cell_type": "code",
   "execution_count": 11,
   "metadata": {},
   "outputs": [
    {
     "name": "stdout",
     "output_type": "stream",
     "text": [
      "1\n",
      "3\n",
      "5\n",
      "7\n",
      "9\n"
     ]
    }
   ],
   "source": [
    "print ( next(i) ) # first\n",
    "print ( next(i) ) # second\n",
    "print ( next(i) ) # third\n",
    "print ( next(i) ) # fourth\n",
    "print ( next(i) ) # fifth"
   ]
  },
  {
   "cell_type": "markdown",
   "metadata": {},
   "source": [
    "What happens when you reach the end ? Python throws a **StopIteration** exception. "
   ]
  },
  {
   "cell_type": "markdown",
   "metadata": {},
   "source": [
    "<img src=\"./pics/stop-iteration-exception.png\"/>"
   ]
  },
  {
   "cell_type": "code",
   "execution_count": 12,
   "metadata": {},
   "outputs": [
    {
     "ename": "StopIteration",
     "evalue": "",
     "output_type": "error",
     "traceback": [
      "\u001b[1;31m---------------------------------------------------------------------------\u001b[0m",
      "\u001b[1;31mStopIteration\u001b[0m                             Traceback (most recent call last)",
      "\u001b[1;32m<ipython-input-12-a883b34d6d8a>\u001b[0m in \u001b[0;36m<module>\u001b[1;34m\u001b[0m\n\u001b[1;32m----> 1\u001b[1;33m \u001b[0mnext\u001b[0m\u001b[1;33m(\u001b[0m\u001b[0mi\u001b[0m\u001b[1;33m)\u001b[0m\u001b[1;33m\u001b[0m\u001b[1;33m\u001b[0m\u001b[0m\n\u001b[0m",
      "\u001b[1;31mStopIteration\u001b[0m: "
     ]
    }
   ],
   "source": [
    "next(i)"
   ]
  },
  {
   "cell_type": "markdown",
   "metadata": {},
   "source": [
    "Of course, lists are not the only **iterable** objects. Even simple strings are iterable - each time returning the next element when the **next ( )** function is called. "
   ]
  },
  {
   "cell_type": "code",
   "execution_count": 18,
   "metadata": {},
   "outputs": [
    {
     "name": "stdout",
     "output_type": "stream",
     "text": [
      "A\n",
      "j\n",
      "a\n",
      "y\n",
      " \n"
     ]
    }
   ],
   "source": [
    "name = \"Ajay Tech\"\n",
    "\n",
    "iterable = iter(name)\n",
    "\n",
    "print ( next(iterable) ) # first\n",
    "print ( next(iterable) ) # second\n",
    "print ( next(iterable) ) # third\n",
    "print ( next(iterable) ) # fourth\n",
    "print ( next(iterable) ) # fifth .. and so on\n"
   ]
  },
  {
   "cell_type": "markdown",
   "metadata": {},
   "source": [
    "What about dictionaries ? "
   ]
  },
  {
   "cell_type": "code",
   "execution_count": 20,
   "metadata": {},
   "outputs": [
    {
     "name": "stdout",
     "output_type": "stream",
     "text": [
      "Ajay\n",
      "Stacy\n"
     ]
    }
   ],
   "source": [
    "names = { \"Ajay\" : 21,\n",
    "          \"Stacy\": 22}\n",
    "\n",
    "iterable = iter(names)\n",
    "\n",
    "print ( next(iterable) ) # first\n",
    "print ( next(iterable) ) # second"
   ]
  },
  {
   "cell_type": "markdown",
   "metadata": {},
   "source": [
    "Why does a dictionary iterable just return the keys ? Well, that's how the Python dictionary class is defined. We will see in a bit how to define our own iterable classes. "
   ]
  },
  {
   "cell_type": "markdown",
   "metadata": {},
   "source": [
    "The same logic applies for tuples & sets as well. "
   ]
  },
  {
   "cell_type": "code",
   "execution_count": 21,
   "metadata": {},
   "outputs": [
    {
     "name": "stdout",
     "output_type": "stream",
     "text": [
      "Ajay\n",
      "Stacy\n"
     ]
    }
   ],
   "source": [
    "names = (\"Ajay\",\"Stacy\") # tuple\n",
    "\n",
    "iterable = iter(names)\n",
    "\n",
    "print ( next(iterable) ) # first\n",
    "print ( next(iterable) ) # second"
   ]
  },
  {
   "cell_type": "code",
   "execution_count": 22,
   "metadata": {},
   "outputs": [
    {
     "name": "stdout",
     "output_type": "stream",
     "text": [
      "Ajay\n",
      "Stacy\n"
     ]
    }
   ],
   "source": [
    "names = {\"Ajay\",\"Stacy\"} # set\n",
    "\n",
    "iterable = iter(names)\n",
    "\n",
    "print ( next(iterable) ) # first\n",
    "print ( next(iterable) ) # second"
   ]
  },
  {
   "cell_type": "markdown",
   "metadata": {},
   "source": [
    "### Build your own iterable class"
   ]
  },
  {
   "cell_type": "markdown",
   "metadata": {},
   "source": [
    "An **iterator** is an object that implements the __next__ method. An **iterable** is an object that implements the __iter__and __next__ methods. That was geeky enough - let's try to create a simple iterable class. We know what a Fibonacci series is already. Let's create a Fibonacci iterable class that outputs the next Fibonacci number. "
   ]
  },
  {
   "cell_type": "markdown",
   "metadata": {},
   "source": [
    "<img src=\"./pics/iterable-protocol.png\"/>"
   ]
  },
  {
   "cell_type": "code",
   "execution_count": 54,
   "metadata": {},
   "outputs": [],
   "source": [
    "class Fibonacci :\n",
    "    \n",
    "    def __init__ (self, max = 100):\n",
    "        self.max = max\n",
    "        \n",
    "    def __iter__ (self) :\n",
    "        self.first  = 0\n",
    "        self.second = 1\n",
    "        return self\n",
    "        \n",
    "    def __next__ (self):\n",
    "        \n",
    "        self.return_value = self.first\n",
    "        if self.first > self.max :\n",
    "            raise StopIteration\n",
    "\n",
    "        self.third  = self.first + self.second\n",
    "        self.first  = self.second        \n",
    "        self.second = self.third \n",
    "\n",
    "        return self.return_value"
   ]
  },
  {
   "cell_type": "code",
   "execution_count": 55,
   "metadata": {},
   "outputs": [],
   "source": [
    "f = iter(Fibonacci())"
   ]
  },
  {
   "cell_type": "code",
   "execution_count": 56,
   "metadata": {},
   "outputs": [
    {
     "name": "stdout",
     "output_type": "stream",
     "text": [
      "0\n",
      "1\n",
      "1\n",
      "2\n",
      "3\n",
      "5\n"
     ]
    }
   ],
   "source": [
    "print ( next(f) ) # first\n",
    "print ( next(f) ) # second\n",
    "print ( next(f) ) # third\n",
    "print ( next(f) ) # fourth\n",
    "print ( next(f) ) # fifth\n",
    "print ( next(f) ) # sixth and so on.."
   ]
  },
  {
   "cell_type": "markdown",
   "metadata": {},
   "source": [
    "What you have here is an enhanced version of a Fibonacci class that can act as an iterable. Of course you can define a function in it that returns all the fibonacci numbers, but if you want them in a sequence this is how you do it."
   ]
  },
  {
   "cell_type": "markdown",
   "metadata": {},
   "source": [
    "### For loop over an iterable"
   ]
  },
  {
   "cell_type": "markdown",
   "metadata": {},
   "source": [
    "Of course, you can't be issuing print statements every time. The primary purpose of an iterable is to get the next element. So, obviously it makes sense that it would be very suitable with a for loop. In fact for loop internall works by calling the iterable methods. "
   ]
  },
  {
   "cell_type": "markdown",
   "metadata": {},
   "source": [
    "<img src=\"./pics/for-loop-iteration.png\"/>"
   ]
  },
  {
   "cell_type": "markdown",
   "metadata": {},
   "source": [
    "Let's see if our Fibonacci class works with a for loop."
   ]
  },
  {
   "cell_type": "code",
   "execution_count": 57,
   "metadata": {},
   "outputs": [
    {
     "name": "stdout",
     "output_type": "stream",
     "text": [
      "0\n",
      "1\n",
      "1\n",
      "2\n",
      "3\n",
      "5\n",
      "8\n",
      "13\n",
      "21\n",
      "34\n",
      "55\n",
      "89\n"
     ]
    }
   ],
   "source": [
    "fib = Fibonacci()\n",
    "\n",
    "for f in fib :\n",
    "    print ( f )"
   ]
  },
  {
   "cell_type": "markdown",
   "metadata": {},
   "source": [
    "Yay!! it worked. "
   ]
  },
  {
   "cell_type": "code",
   "execution_count": null,
   "metadata": {},
   "outputs": [],
   "source": []
  }
 ],
 "metadata": {
  "kernelspec": {
   "display_name": "Python 3",
   "language": "python",
   "name": "python3"
  },
  "language_info": {
   "codemirror_mode": {
    "name": "ipython",
    "version": 3
   },
   "file_extension": ".py",
   "mimetype": "text/x-python",
   "name": "python",
   "nbconvert_exporter": "python",
   "pygments_lexer": "ipython3",
   "version": "3.7.3"
  }
 },
 "nbformat": 4,
 "nbformat_minor": 2
}
