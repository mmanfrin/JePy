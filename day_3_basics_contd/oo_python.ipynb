{
 "cells": [
  {
   "cell_type": "markdown",
   "metadata": {},
   "source": [
    "Notebook is copyright &copy; of <a href=\"https://ajaytech.co\">Ajay Tech</a>"
   ]
  },
  {
   "cell_type": "markdown",
   "metadata": {},
   "source": [
    "# Object oriented Python"
   ]
  },
  {
   "cell_type": "markdown",
   "metadata": {},
   "source": [
    "## Contents"
   ]
  },
  {
   "cell_type": "markdown",
   "metadata": {},
   "source": [
    "- Introduction\n",
    "- Your first Python Class\n",
    "  - Initialization\n",
    "  - Variables & Methods\n",
    "- Classes vs Objects\n",
    "- Operator Overloading\n",
    "  - Why Operator Overloading \n",
    "- Inheritance\n",
    "  - Polymorphism"
   ]
  },
  {
   "cell_type": "markdown",
   "metadata": {},
   "source": [
    "### Introduction"
   ]
  },
  {
   "cell_type": "markdown",
   "metadata": {},
   "source": [
    "Object Orientation is a big subject. However, in this course, we are only going look at just enough \"Object oriented Python\" that will give us the necessary background to pursue Machine Learning and Deep learning further. There are many aspects of classes and objects that we will delibearately ignore in the interest of keeping this simple and to serve the purpose of learning \"Just enough\" of Object oriented python. With that disclaimer, let's begin."
   ]
  },
  {
   "cell_type": "markdown",
   "metadata": {},
   "source": [
    "Imagine a bank account. If you were writing a simple python program to hold the account number, account name, account balance etc and calculate some of the commonly asked things like interest accrued, total account balance etc, how would you do it ? "
   ]
  },
  {
   "cell_type": "markdown",
   "metadata": {},
   "source": [
    "In a traditional programming model, this is how you would write the program in python."
   ]
  },
  {
   "cell_type": "markdown",
   "metadata": {},
   "source": [
    "<img src=\"./pics/account-traditional-programming.png\"/>"
   ]
  },
  {
   "cell_type": "markdown",
   "metadata": {},
   "source": [
    "The same logic can be written in a class, by clearly separating ( as well as encompassing ) all of the above data and functions into a class. A class essentially a set of data and functions. "
   ]
  },
  {
   "cell_type": "markdown",
   "metadata": {},
   "source": [
    "<img src=\"./pics/class.png\"/>"
   ]
  },
  {
   "cell_type": "markdown",
   "metadata": {},
   "source": [
    "And the way you define the class in python is very simple. "
   ]
  },
  {
   "cell_type": "markdown",
   "metadata": {},
   "source": [
    "<img src=\"./pics/python-class-definition.png\"/>"
   ]
  },
  {
   "cell_type": "markdown",
   "metadata": {},
   "source": [
    "### Your first Python class"
   ]
  },
  {
   "cell_type": "markdown",
   "metadata": {},
   "source": [
    "Let's start to write it out step by step. First thing is to define the class and initialize it."
   ]
  },
  {
   "cell_type": "markdown",
   "metadata": {},
   "source": [
    "#### Initialization"
   ]
  },
  {
   "cell_type": "markdown",
   "metadata": {},
   "source": [
    "<img src=\"./pics/class-definition-and-initialization.png\"/>"
   ]
  },
  {
   "cell_type": "code",
   "execution_count": 74,
   "metadata": {},
   "outputs": [],
   "source": [
    "class Account : \n",
    "    \n",
    "    def __init__ ( self, number) :\n",
    "        self.number  = number"
   ]
  },
  {
   "cell_type": "markdown",
   "metadata": {},
   "source": [
    "That's the bare minimum you have to do. You can now instantiate the class into an object. Think of the class as the blueprint and the object as an instantiation of the blueprint. "
   ]
  },
  {
   "cell_type": "markdown",
   "metadata": {},
   "source": [
    "<img src=\"./pics/class-objects.png\"/>"
   ]
  },
  {
   "cell_type": "code",
   "execution_count": 75,
   "metadata": {},
   "outputs": [
    {
     "ename": "TypeError",
     "evalue": "__init__() missing 1 required positional argument: 'number'",
     "output_type": "error",
     "traceback": [
      "\u001b[1;31m---------------------------------------------------------------------------\u001b[0m",
      "\u001b[1;31mTypeError\u001b[0m                                 Traceback (most recent call last)",
      "\u001b[1;32m<ipython-input-75-2ef89db5cd52>\u001b[0m in \u001b[0;36m<module>\u001b[1;34m\u001b[0m\n\u001b[1;32m----> 1\u001b[1;33m \u001b[0macc\u001b[0m \u001b[1;33m=\u001b[0m \u001b[0mAccount\u001b[0m\u001b[1;33m(\u001b[0m\u001b[1;33m)\u001b[0m\u001b[1;33m\u001b[0m\u001b[1;33m\u001b[0m\u001b[0m\n\u001b[0m",
      "\u001b[1;31mTypeError\u001b[0m: __init__() missing 1 required positional argument: 'number'"
     ]
    }
   ],
   "source": [
    "acc = Account()"
   ]
  },
  {
   "cell_type": "markdown",
   "metadata": {},
   "source": [
    "What happened ? Well, the way you have defined the class, you need an argument to be passed to the initialization function (__init__)"
   ]
  },
  {
   "cell_type": "code",
   "execution_count": 76,
   "metadata": {},
   "outputs": [
    {
     "data": {
      "text/plain": [
       "1001"
      ]
     },
     "execution_count": 76,
     "metadata": {},
     "output_type": "execute_result"
    }
   ],
   "source": [
    "acc = Account( 1001 )\n",
    "\n",
    "acc.number"
   ]
  },
  {
   "cell_type": "markdown",
   "metadata": {},
   "source": [
    "#### Variables & Methods"
   ]
  },
  {
   "cell_type": "markdown",
   "metadata": {},
   "source": [
    "There you go, you have created your first object. Now, let's finish up the rest of the methods. "
   ]
  },
  {
   "cell_type": "code",
   "execution_count": 77,
   "metadata": {},
   "outputs": [],
   "source": [
    "class Account : \n",
    "    def __init__ ( self, number ) :\n",
    "        self.number = number\n",
    "     \n",
    "    def account_type(self) :\n",
    "        # Get the account type\n",
    "        if str(self.number).startswith(\"1\") :\n",
    "            self.type = \"current\"\n",
    "        elif str(self.number).startswith(\"2\") :\n",
    "            self.type = \"saving\"\n",
    "    \n",
    "    def interest_rate(self) :\n",
    "        \n",
    "        self.account_type()\n",
    "        if self.type == \"current\" :\n",
    "            self.interest = 0\n",
    "        elif self.type == \"saving\" :\n",
    "            self.interest = 5\n",
    "        return self.interest"
   ]
  },
  {
   "cell_type": "markdown",
   "metadata": {},
   "source": [
    "<img src=\"./pics/object-members-method.png\"/>"
   ]
  },
  {
   "cell_type": "code",
   "execution_count": 79,
   "metadata": {},
   "outputs": [
    {
     "data": {
      "text/plain": [
       "5"
      ]
     },
     "execution_count": 79,
     "metadata": {},
     "output_type": "execute_result"
    }
   ],
   "source": [
    "acc = Account(2001)\n",
    "acc.interest_rate()"
   ]
  },
  {
   "cell_type": "markdown",
   "metadata": {},
   "source": [
    "#### Classes vs Objects"
   ]
  },
  {
   "cell_type": "markdown",
   "metadata": {},
   "source": [
    "Just in case you didn't know which class an object belonged to , use the **type ( )** method. For example, if you wanted to know which class the object **acc** belonged to, "
   ]
  },
  {
   "cell_type": "code",
   "execution_count": 88,
   "metadata": {},
   "outputs": [
    {
     "data": {
      "text/plain": [
       "__main__.Account"
      ]
     },
     "execution_count": 88,
     "metadata": {},
     "output_type": "execute_result"
    }
   ],
   "source": [
    "type(acc)"
   ]
  },
  {
   "cell_type": "markdown",
   "metadata": {},
   "source": [
    "You can get the same info from the built-in method __class__ . More on this later, when we visit operator overloading."
   ]
  },
  {
   "cell_type": "code",
   "execution_count": 89,
   "metadata": {},
   "outputs": [
    {
     "data": {
      "text/plain": [
       "__main__.Account"
      ]
     },
     "execution_count": 89,
     "metadata": {},
     "output_type": "execute_result"
    }
   ],
   "source": [
    "acc.__class__"
   ]
  },
  {
   "cell_type": "markdown",
   "metadata": {},
   "source": [
    "If you wanted to check if an object belonged to an class, there is an alternate method. Use the **isinstance ( )** method. It returns True if the object is an instantiaon of the class."
   ]
  },
  {
   "cell_type": "code",
   "execution_count": 81,
   "metadata": {},
   "outputs": [
    {
     "data": {
      "text/plain": [
       "True"
      ]
     },
     "execution_count": 81,
     "metadata": {},
     "output_type": "execute_result"
    }
   ],
   "source": [
    "isinstance(acc,Account)"
   ]
  },
  {
   "cell_type": "markdown",
   "metadata": {},
   "source": [
    "**Challenge** - Create a method - __interest_accrued ( )__ - that calculates the interest accrued this year. Assume a balance of 1000."
   ]
  },
  {
   "cell_type": "code",
   "execution_count": 78,
   "metadata": {},
   "outputs": [],
   "source": [
    "def interest_accrued(self) :\n",
    "    \n",
    "    # call interest_rate to determine the interest rate\n",
    "    self.interest_rate()\n",
    "    \n",
    "    balance = 1000\n",
    "    \n",
    "    # to calculate the number of days in the year so far, include datetime above the class definition\n",
    "    current_date   = date.today()\n",
    "    beginning_date = datetime(current_date.year, 1,1)\n",
    "    \n",
    "    self.interest_accrued = balance * ((current_date - beginning_date ) / 365) * self.interest_rate / 100    "
   ]
  },
  {
   "cell_type": "markdown",
   "metadata": {},
   "source": [
    "And here is the complete class. "
   ]
  },
  {
   "cell_type": "code",
   "execution_count": 52,
   "metadata": {},
   "outputs": [],
   "source": [
    "from datetime import date\n",
    "\n",
    "class Account : \n",
    "    def __init__ ( self, number ) :\n",
    "        self.number = number\n",
    "     \n",
    "    def account_type(self) :\n",
    "        # Get the account type\n",
    "        if str(self.number).startswith(\"1\") :\n",
    "            self.type = \"current\"\n",
    "        elif str(self.number).startswith(\"2\") :\n",
    "            self.type = \"saving\"\n",
    "    \n",
    "    def interest_rate(self) :\n",
    "        \n",
    "        self.account_type()\n",
    "        if self.type == \"current\" :\n",
    "            self.interest = 0\n",
    "        elif self.type == \"saving\" :\n",
    "            self.interest = 5\n",
    "        return self.interest\n",
    "    \n",
    "    def interest_accrued(self) :\n",
    "    \n",
    "        # call interest_rate to determine the interest rate\n",
    "        self.interest_rate()\n",
    "\n",
    "        self.balance = 1000\n",
    "\n",
    "        # to calculate the number of days in the year so far, include datetime above the class definition\n",
    "        current_date   = date.today()\n",
    "        beginning_date = date(current_date.year, 1,1)\n",
    "\n",
    "        self.interest_accrued = self.balance * (abs(current_date - beginning_date ).days / 365) * self.interest / 100    "
   ]
  },
  {
   "cell_type": "code",
   "execution_count": 53,
   "metadata": {},
   "outputs": [
    {
     "name": "stdout",
     "output_type": "stream",
     "text": [
      "1000\n"
     ]
    },
    {
     "data": {
      "text/plain": [
       "19.31506849315069"
      ]
     },
     "execution_count": 53,
     "metadata": {},
     "output_type": "execute_result"
    }
   ],
   "source": [
    "acc = Account(2001)\n",
    "acc.interest_accrued()\n",
    "print ( acc.balance )\n",
    "acc.interest_accrued"
   ]
  },
  {
   "cell_type": "markdown",
   "metadata": {},
   "source": [
    "Now that we understand the basics of classes and objects, let's revisit some of things that we have understood so far in Python with the new Object Oriented knowledge we have gained. Everything in Python is an object. This is in contrast to most programming languages like C or even other object oriented programming languages like Java or C++. Let me explain why."
   ]
  },
  {
   "cell_type": "code",
   "execution_count": 58,
   "metadata": {},
   "outputs": [
    {
     "data": {
      "text/plain": [
       "int"
      ]
     },
     "execution_count": 58,
     "metadata": {},
     "output_type": "execute_result"
    }
   ],
   "source": [
    "age = 1\n",
    "type(age)"
   ]
  },
  {
   "cell_type": "markdown",
   "metadata": {},
   "source": [
    "age is an integer. But it is not the same **integer** that you see in other programming languages. It is not a fundamental data type that is pointing to an integer 1. It is a whole class in itself. How do we know that **int** is a class ? and not just a variable pointing to some data ? Just do an **age.** and wait for suggestions from your IDE. "
   ]
  },
  {
   "cell_type": "code",
   "execution_count": 59,
   "metadata": {},
   "outputs": [
    {
     "data": {
      "text/plain": [
       "1"
      ]
     },
     "execution_count": 59,
     "metadata": {},
     "output_type": "execute_result"
    }
   ],
   "source": [
    "age"
   ]
  },
  {
   "cell_type": "markdown",
   "metadata": {},
   "source": [
    "<img src=\"./pics/integer-methods.png\"/>"
   ]
  },
  {
   "cell_type": "markdown",
   "metadata": {},
   "source": [
    "These are just some of the methods. Try this for some more methods - **age.__** and hit tab. There are so many more methods. "
   ]
  },
  {
   "cell_type": "markdown",
   "metadata": {},
   "source": [
    "<img src=\"./pics/integer-__methods.png\"/>"
   ]
  },
  {
   "cell_type": "markdown",
   "metadata": {},
   "source": [
    "Point being, just by defining the variable as **age = 1** , you have created an object ( of class **int** ). And why do so many methods exist for just an **integer** class ? Let's do a simple addition of integers as we know if so far. "
   ]
  },
  {
   "cell_type": "code",
   "execution_count": 60,
   "metadata": {},
   "outputs": [
    {
     "data": {
      "text/plain": [
       "43"
      ]
     },
     "execution_count": 60,
     "metadata": {},
     "output_type": "execute_result"
    }
   ],
   "source": [
    "age_1 = 21\n",
    "age_2 = 22\n",
    "\n",
    "age_1 + age_2"
   ]
  },
  {
   "cell_type": "markdown",
   "metadata": {},
   "source": [
    "The same can be done using the integer object's method __ add __ as shown below. "
   ]
  },
  {
   "cell_type": "code",
   "execution_count": 61,
   "metadata": {},
   "outputs": [
    {
     "data": {
      "text/plain": [
       "43"
      ]
     },
     "execution_count": 61,
     "metadata": {},
     "output_type": "execute_result"
    }
   ],
   "source": [
    "age_1.__add__(age_2)"
   ]
  },
  {
   "cell_type": "markdown",
   "metadata": {},
   "source": [
    "Why does it work both ways ? It is based on another concept in object oriented programming called **Operator Overloading** . "
   ]
  },
  {
   "cell_type": "markdown",
   "metadata": {},
   "source": [
    "## Operator Overloading"
   ]
  },
  {
   "cell_type": "markdown",
   "metadata": {},
   "source": [
    "When you use **+** to add two objects ( not just numbers ) , python will automatically invoke the *__ add __* method of one of the objects."
   ]
  },
  {
   "cell_type": "markdown",
   "metadata": {},
   "source": [
    "<img src=\"./pics/python-operator-overloading.png\"/>"
   ]
  },
  {
   "cell_type": "markdown",
   "metadata": {},
   "source": [
    "The point being, even simple operations like additions are actually object oriented methods. This gives rise to another question. Can you have your own *__ add __* operation on your custom classes and perform a custom add ? Let's give it a try. "
   ]
  },
  {
   "cell_type": "code",
   "execution_count": 62,
   "metadata": {},
   "outputs": [
    {
     "ename": "TypeError",
     "evalue": "unsupported operand type(s) for +: 'Account' and 'Account'",
     "output_type": "error",
     "traceback": [
      "\u001b[1;31m---------------------------------------------------------------------------\u001b[0m",
      "\u001b[1;31mTypeError\u001b[0m                                 Traceback (most recent call last)",
      "\u001b[1;32m<ipython-input-62-c2b817a6406d>\u001b[0m in \u001b[0;36m<module>\u001b[1;34m\u001b[0m\n\u001b[0;32m      5\u001b[0m \u001b[0macc_2\u001b[0m\u001b[1;33m.\u001b[0m\u001b[0mbalance\u001b[0m \u001b[1;33m=\u001b[0m \u001b[1;36m2000\u001b[0m\u001b[1;33m\u001b[0m\u001b[1;33m\u001b[0m\u001b[0m\n\u001b[0;32m      6\u001b[0m \u001b[1;33m\u001b[0m\u001b[0m\n\u001b[1;32m----> 7\u001b[1;33m \u001b[0mtotal_balance\u001b[0m \u001b[1;33m=\u001b[0m \u001b[0macc_1\u001b[0m \u001b[1;33m+\u001b[0m \u001b[0macc_2\u001b[0m\u001b[1;33m\u001b[0m\u001b[1;33m\u001b[0m\u001b[0m\n\u001b[0m",
      "\u001b[1;31mTypeError\u001b[0m: unsupported operand type(s) for +: 'Account' and 'Account'"
     ]
    }
   ],
   "source": [
    "acc_1 = Account(1001)\n",
    "acc_2 = Account(2001)\n",
    "\n",
    "acc_1.balance = 5000\n",
    "acc_2.balance = 2000\n",
    "\n",
    "total_balance = acc_1 + acc_2"
   ]
  },
  {
   "cell_type": "markdown",
   "metadata": {},
   "source": [
    "As you can see, objects cannot be added together. Now, let's try to give the Account class an *__ add __* method and give the same operation a try again. "
   ]
  },
  {
   "cell_type": "code",
   "execution_count": 68,
   "metadata": {},
   "outputs": [],
   "source": [
    "# define a function\n",
    "def __add__(self,account):\n",
    "    return self.balance + account.balance"
   ]
  },
  {
   "cell_type": "code",
   "execution_count": 69,
   "metadata": {},
   "outputs": [],
   "source": [
    "# Dynamically set the function as a method of the class \"Account\"\n",
    "setattr(Account, '__add__', __add__)"
   ]
  },
  {
   "cell_type": "code",
   "execution_count": 66,
   "metadata": {},
   "outputs": [],
   "source": [
    "total_balance = acc_1 + acc_2"
   ]
  },
  {
   "cell_type": "code",
   "execution_count": 67,
   "metadata": {},
   "outputs": [
    {
     "data": {
      "text/plain": [
       "7000"
      ]
     },
     "execution_count": 67,
     "metadata": {},
     "output_type": "execute_result"
    }
   ],
   "source": [
    "total_balance"
   ]
  },
  {
   "cell_type": "markdown",
   "metadata": {},
   "source": [
    "With integers, the action **add** is relatively straight forward. However, **Add** might mean different things to different objects. For example, in the case above, when you **add** two accounts, the balances should be added. Whether balances of the accounts are added or the interests accrued are added is based on the business scenario and you can write the code either way.  "
   ]
  },
  {
   "cell_type": "markdown",
   "metadata": {},
   "source": [
    "These special methods ( like __add__ ) are not limited to just addition. There is a whole host of methods. You can see the entire list on Python help page's <a href=\"https://docs.python.org/3/reference/datamodel.html#special-method-names\"> Special Methods </a>. Whenever you think of these special methods, think of **operator overloading**. For example, here are some of these special methods."
   ]
  },
  {
   "cell_type": "markdown",
   "metadata": {},
   "source": [
    "__ lt __ - less than <br>\n",
    "__ gt __ - greater than <br>\n",
    "__ eq __ - equals to <br>\n",
    "\n",
    "etc"
   ]
  },
  {
   "cell_type": "markdown",
   "metadata": {},
   "source": [
    "**Challenge** - Create a __ eq__ method that compares the account balance of two accounts and returns True if the balances are equal. "
   ]
  },
  {
   "cell_type": "markdown",
   "metadata": {},
   "source": [
    "**Solution**"
   ]
  },
  {
   "cell_type": "code",
   "execution_count": 70,
   "metadata": {},
   "outputs": [],
   "source": [
    "# define the function\n",
    "def __eq__(self,account):\n",
    "    if self.balance == account.balance :\n",
    "        return True\n",
    "    else :\n",
    "        return False"
   ]
  },
  {
   "cell_type": "code",
   "execution_count": 71,
   "metadata": {},
   "outputs": [],
   "source": [
    "# Dynamically set the function as a method of the class \"Account\"\n",
    "setattr(Account, '__eq__', __eq__)"
   ]
  },
  {
   "cell_type": "code",
   "execution_count": 73,
   "metadata": {},
   "outputs": [
    {
     "data": {
      "text/plain": [
       "True"
      ]
     },
     "execution_count": 73,
     "metadata": {},
     "output_type": "execute_result"
    }
   ],
   "source": [
    "acc_1.balance = 2000\n",
    "acc_2.balance = 2000\n",
    "\n",
    "acc_1 == acc_2"
   ]
  },
  {
   "cell_type": "markdown",
   "metadata": {},
   "source": [
    "### Why Operator Overloading"
   ]
  },
  {
   "cell_type": "markdown",
   "metadata": {},
   "source": [
    "The key advantage of operator overloading is that you can make any object work like a simple built-in data type. Sure you can do without it, but it makes writing code a bit more concise. In programming, this is also called **syntactic sugar**."
   ]
  },
  {
   "cell_type": "markdown",
   "metadata": {},
   "source": [
    "## Inheritance"
   ]
  },
  {
   "cell_type": "markdown",
   "metadata": {},
   "source": [
    "One of the prominent features of Object Oriented programming is Inheritance. Yes - it is very much similar to how you inherit your traits (genes) from your parents or grandparents. In case of programming, these traits are just variables and methods. Continuing with our bank account example, say, there are special accounts like this.\n",
    "- Brokerage(demat), \n",
    "- Salary account(savings account with special features for salaried individuals), \n",
    "- 3-in-1 account(saving, brokerage, IRA or PF  bundled into one account )"
   ]
  },
  {
   "cell_type": "markdown",
   "metadata": {},
   "source": [
    "All of these accounts have the same basic features - like \n",
    "- account number\n",
    "- account name\n",
    "- account balance\n",
    "etc"
   ]
  },
  {
   "cell_type": "markdown",
   "metadata": {},
   "source": [
    "On top of this, each of these special accounts have more specific details like\n",
    "- Brokerage account \n",
    "  - Demat ID\n",
    "  - Portfolio\n",
    "  - Pending orders\n",
    "  etc\n",
    "- Salary account\n",
    "  - special interest rate\n",
    "  - direct debit facility\n",
    "  etc\n",
    "- 3-in-1 account\n",
    "  - all of the above plus a couple more freebies thrown in"
   ]
  },
  {
   "cell_type": "markdown",
   "metadata": {},
   "source": [
    "To model these different type of classes, essentially, Python allows us to build a hierarchy of classes based on **Inheritance**"
   ]
  },
  {
   "cell_type": "markdown",
   "metadata": {},
   "source": [
    "<img src=\"./pics/class-hierarchy.png\"/>"
   ]
  },
  {
   "cell_type": "markdown",
   "metadata": {},
   "source": [
    "In terms of the specific variables and methods that are inherited (based on the example above), the following picture can act as a good visual."
   ]
  },
  {
   "cell_type": "markdown",
   "metadata": {},
   "source": [
    "<img src=\"./pics/class-hierarchy-inheritance.png\"/>"
   ]
  },
  {
   "cell_type": "markdown",
   "metadata": {},
   "source": [
    "Just to make things concrete, lets's create all of these variables and methods with just dummy contents. "
   ]
  },
  {
   "cell_type": "code",
   "execution_count": 115,
   "metadata": {},
   "outputs": [],
   "source": [
    "class Account :\n",
    "    \n",
    "    def __init__ (self,number,name,balance) :\n",
    "        self.account_number  = number\n",
    "        self.account_name    = name\n",
    "        self.account_balance = balance\n",
    "        \n",
    "    def calculate_balance(self) :\n",
    "        # calculate account balance\n",
    "        pass\n",
    "    \n",
    "    def calculate_interest(self) :\n",
    "        # calculate interest amount on the balance so far\n",
    "        pass\n",
    "        \n",
    "    def calculate_tax (self) :\n",
    "        # calculate income tax on the balance for the fiscal year   \n",
    "        pass\n",
    "    "
   ]
  },
  {
   "cell_type": "code",
   "execution_count": 116,
   "metadata": {},
   "outputs": [],
   "source": [
    "class Demat(Account) :\n",
    "    def calc_capitalgains(self) :\n",
    "        # calculate capital gains on the total investment portfolio\n",
    "        pass\n",
    "    \n",
    "    def calc_cash_position(self) :\n",
    "        # calculate the current cash position based on amount available and pending orders\n",
    "        pass\n",
    "    \n",
    "    def get_stockpicks (self) :\n",
    "        # get the stock picks based on recommendations from an API\n",
    "        pass\n",
    "    \n",
    "    def calc_open_positions(self) :\n",
    "        # calculate the open positions to check how much is invested so far\n",
    "        pass"
   ]
  },
  {
   "cell_type": "code",
   "execution_count": 99,
   "metadata": {},
   "outputs": [],
   "source": [
    "# Create an Account object\n",
    "acc = Account ( 1001, \"Ajay Tech\",  0)"
   ]
  },
  {
   "cell_type": "code",
   "execution_count": 100,
   "metadata": {},
   "outputs": [],
   "source": [
    "# Create a demat account object\n",
    "acc_d = Demat ( 1001, \"Ajay Tech Business\", 0 )"
   ]
  },
  {
   "cell_type": "markdown",
   "metadata": {},
   "source": [
    "The parent **Account** object does not have the calc_capitalgains() method."
   ]
  },
  {
   "cell_type": "code",
   "execution_count": 105,
   "metadata": {},
   "outputs": [
    {
     "ename": "AttributeError",
     "evalue": "'Account' object has no attribute 'calc_capitalgains'",
     "output_type": "error",
     "traceback": [
      "\u001b[1;31m---------------------------------------------------------------------------\u001b[0m",
      "\u001b[1;31mAttributeError\u001b[0m                            Traceback (most recent call last)",
      "\u001b[1;32m<ipython-input-105-d71e4fa09cce>\u001b[0m in \u001b[0;36m<module>\u001b[1;34m\u001b[0m\n\u001b[0;32m      1\u001b[0m \u001b[0macc\u001b[0m\u001b[1;33m.\u001b[0m\u001b[0mcalculate_balance\u001b[0m\u001b[1;33m(\u001b[0m\u001b[1;33m)\u001b[0m\u001b[1;33m\u001b[0m\u001b[1;33m\u001b[0m\u001b[0m\n\u001b[1;32m----> 2\u001b[1;33m \u001b[0macc\u001b[0m\u001b[1;33m.\u001b[0m\u001b[0mcalc_capitalgains\u001b[0m\u001b[1;33m(\u001b[0m\u001b[1;33m)\u001b[0m\u001b[1;33m\u001b[0m\u001b[1;33m\u001b[0m\u001b[0m\n\u001b[0m",
      "\u001b[1;31mAttributeError\u001b[0m: 'Account' object has no attribute 'calc_capitalgains'"
     ]
    }
   ],
   "source": [
    "acc.calculate_balance()\n",
    "acc.calc_capitalgains()"
   ]
  },
  {
   "cell_type": "markdown",
   "metadata": {},
   "source": [
    "because, it is only available in the inherited Demat class."
   ]
  },
  {
   "cell_type": "code",
   "execution_count": 104,
   "metadata": {},
   "outputs": [],
   "source": [
    "acc_d.calculate_balance()\n",
    "acc_d.calc_capitalgains()"
   ]
  },
  {
   "cell_type": "markdown",
   "metadata": {},
   "source": [
    "So far so good. What if you are not happy with the inherited method ? Say, the way you calculate the account balance is different between the different accounts ? Say this is the logic to calculate the account balance among the different type of accounts\n",
    "\n",
    "- demat account\n",
    "  - based on total cash - pending orders\n",
    "\n",
    "- salary account\n",
    "  - based on total cash\n",
    "  \n",
    "- 3-in-1 account\n",
    "  - based on total cash - pending orders - pf/ira orders"
   ]
  },
  {
   "cell_type": "markdown",
   "metadata": {},
   "source": [
    "So, it is common for the child class to have an implementation of methods specifically tailored to its needs while the definition and signature might probably remain the same. That is where polymorphism comes in."
   ]
  },
  {
   "cell_type": "markdown",
   "metadata": {},
   "source": [
    "### Polymorphism"
   ]
  },
  {
   "cell_type": "markdown",
   "metadata": {},
   "source": [
    "Although the _child_ class inherits the members/methods from the parent class, the implementation of the method need not always be the same. For example, the way the account balanace is calculated could be different between a regular savings account and a brokerage account. So, in the case of a brokerage(demat) account, the definition of **calculate_balance ( )** method as inherited from the parent _Account_ class will be overridden with a new implementation that is specific to the Brokerage (demat) account. "
   ]
  },
  {
   "cell_type": "markdown",
   "metadata": {},
   "source": [
    "<img src=\"./pics/polymorphism.png\"/>"
   ]
  },
  {
   "cell_type": "markdown",
   "metadata": {},
   "source": [
    "Let's create the definition of account_balance() specifically for demat account. "
   ]
  },
  {
   "cell_type": "code",
   "execution_count": 119,
   "metadata": {},
   "outputs": [],
   "source": [
    "def calculate_balance(self) :\n",
    "    # calculate balance based on total cash - pending orders\n",
    "    print ( \"based on cash\")\n",
    "\n",
    "def calculate_balance_d(self) :\n",
    "    # calculate balance based on total cash - pending orders\n",
    "    print ( \"based on cash - pending orders\")\n",
    "    \n",
    "setattr(Account,\"calculate_balance\",calculate_balance)    \n",
    "setattr(Demat  ,\"calculate_balance\",calculate_balance_d)"
   ]
  },
  {
   "cell_type": "code",
   "execution_count": 121,
   "metadata": {},
   "outputs": [
    {
     "name": "stdout",
     "output_type": "stream",
     "text": [
      "based on cash - pending orders\n"
     ]
    }
   ],
   "source": [
    "acc_d = Demat(1001,\"Ajay Tech\", 0)\n",
    "acc_d.calculate_balance()"
   ]
  },
  {
   "cell_type": "code",
   "execution_count": 122,
   "metadata": {},
   "outputs": [
    {
     "name": "stdout",
     "output_type": "stream",
     "text": [
      "based on cash\n"
     ]
    }
   ],
   "source": [
    "acc = Account(1001,\"Ajay Tech\", 0)\n",
    "acc.calculate_balance()"
   ]
  },
  {
   "cell_type": "markdown",
   "metadata": {},
   "source": [
    "This is useful to learn because many times you see that there are custom implementations of standard library classes giving a twist to the way the implementation is done. "
   ]
  },
  {
   "cell_type": "code",
   "execution_count": 2,
   "metadata": {},
   "outputs": [
    {
     "name": "stdout",
     "output_type": "stream",
     "text": [
      "sum =  49999995000000\n"
     ]
    },
    {
     "data": {
      "text/plain": [
       "1.3357877731323242"
      ]
     },
     "execution_count": 2,
     "metadata": {},
     "output_type": "execute_result"
    }
   ],
   "source": [
    "import time \n",
    "\n",
    "sum = 0\n",
    "\n",
    "#before\n",
    "start_time = time.time()\n",
    "\n",
    "for num in range(10000000) :\n",
    "    sum = sum + num\n",
    "\n",
    "end_time = time.time()\n",
    "\n",
    "print ( \"sum = \", sum)\n",
    "\n",
    "python_time = end_time - start_time\n",
    "\n",
    "python_time"
   ]
  },
  {
   "cell_type": "code",
   "execution_count": null,
   "metadata": {},
   "outputs": [],
   "source": []
  }
 ],
 "metadata": {
  "kernelspec": {
   "display_name": "Python 3",
   "language": "python",
   "name": "python3"
  },
  "language_info": {
   "codemirror_mode": {
    "name": "ipython",
    "version": 3
   },
   "file_extension": ".py",
   "mimetype": "text/x-python",
   "name": "python",
   "nbconvert_exporter": "python",
   "pygments_lexer": "ipython3",
   "version": "3.7.3"
  }
 },
 "nbformat": 4,
 "nbformat_minor": 2
}
