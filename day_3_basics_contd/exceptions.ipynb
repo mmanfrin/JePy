{
 "cells": [
  {
   "cell_type": "markdown",
   "metadata": {},
   "source": [
    "Notebook is copyright &copy; of <a href=\"https://ajaytech.co\">Ajay Tech</a>"
   ]
  },
  {
   "cell_type": "markdown",
   "metadata": {},
   "source": [
    "# Exceptions"
   ]
  },
  {
   "cell_type": "markdown",
   "metadata": {},
   "source": [
    "## Contents"
   ]
  },
  {
   "cell_type": "markdown",
   "metadata": {},
   "source": [
    "- What are Exceptions\n",
    "- Exception examples\n",
    "  - Catch specific exceptions\n",
    "- Exception Hierarchy\n",
    "- finally\n",
    "\n"
   ]
  },
  {
   "cell_type": "code",
   "execution_count": 1,
   "metadata": {},
   "outputs": [
    {
     "name": "stdout",
     "output_type": "stream",
     "text": [
      "If I were half my age, I would be 11.0 years old\n"
     ]
    }
   ],
   "source": [
    "age     = 22\n",
    "divisor = 2\n",
    "# How old would I be if I am half my age ?\n",
    "\n",
    "new_age = age / divisor\n",
    "\n",
    "print ( \"If I were half my age, I would be\", new_age, \"years old\")"
   ]
  },
  {
   "cell_type": "markdown",
   "metadata": {},
   "source": [
    "Say, you don't want to just half it - you want to divide it by a third or by a fourth. Let the user decide it. "
   ]
  },
  {
   "cell_type": "code",
   "execution_count": 2,
   "metadata": {},
   "outputs": [
    {
     "name": "stdin",
     "output_type": "stream",
     "text": [
      "enter divisor -  3\n"
     ]
    }
   ],
   "source": [
    "divisor = int(input(\"enter divisor - \"))"
   ]
  },
  {
   "cell_type": "code",
   "execution_count": 3,
   "metadata": {},
   "outputs": [
    {
     "name": "stdout",
     "output_type": "stream",
     "text": [
      "If I were half my age, I would be 7.333333333333333 years old\n"
     ]
    }
   ],
   "source": [
    "new_age = age / divisor\n",
    "\n",
    "print ( \"If I were half my age, I would be\", new_age, \"years old\")"
   ]
  },
  {
   "cell_type": "markdown",
   "metadata": {},
   "source": [
    "So far so good. What if the user enters a wrong value ? Let's try the same again"
   ]
  },
  {
   "cell_type": "code",
   "execution_count": 4,
   "metadata": {},
   "outputs": [
    {
     "name": "stdin",
     "output_type": "stream",
     "text": [
      "enter divisor -  0\n"
     ]
    },
    {
     "ename": "ZeroDivisionError",
     "evalue": "division by zero",
     "output_type": "error",
     "traceback": [
      "\u001b[1;31m---------------------------------------------------------------------------\u001b[0m",
      "\u001b[1;31mZeroDivisionError\u001b[0m                         Traceback (most recent call last)",
      "\u001b[1;32m<ipython-input-4-94e3a3ad913d>\u001b[0m in \u001b[0;36m<module>\u001b[1;34m\u001b[0m\n\u001b[0;32m      1\u001b[0m \u001b[0mdivisor\u001b[0m \u001b[1;33m=\u001b[0m \u001b[0mint\u001b[0m\u001b[1;33m(\u001b[0m\u001b[0minput\u001b[0m\u001b[1;33m(\u001b[0m\u001b[1;34m\"enter divisor - \"\u001b[0m\u001b[1;33m)\u001b[0m\u001b[1;33m)\u001b[0m\u001b[1;33m\u001b[0m\u001b[1;33m\u001b[0m\u001b[0m\n\u001b[0;32m      2\u001b[0m \u001b[1;33m\u001b[0m\u001b[0m\n\u001b[1;32m----> 3\u001b[1;33m \u001b[0mnew_age\u001b[0m \u001b[1;33m=\u001b[0m \u001b[0mage\u001b[0m \u001b[1;33m/\u001b[0m \u001b[0mdivisor\u001b[0m\u001b[1;33m\u001b[0m\u001b[1;33m\u001b[0m\u001b[0m\n\u001b[0m\u001b[0;32m      4\u001b[0m \u001b[1;33m\u001b[0m\u001b[0m\n\u001b[0;32m      5\u001b[0m \u001b[0mprint\u001b[0m \u001b[1;33m(\u001b[0m \u001b[1;34m\"If I were half my age, I would be\"\u001b[0m\u001b[1;33m,\u001b[0m \u001b[0mnew_age\u001b[0m\u001b[1;33m,\u001b[0m \u001b[1;34m\"years old\"\u001b[0m\u001b[1;33m)\u001b[0m\u001b[1;33m\u001b[0m\u001b[1;33m\u001b[0m\u001b[0m\n",
      "\u001b[1;31mZeroDivisionError\u001b[0m: division by zero"
     ]
    }
   ],
   "source": [
    "divisor = int(input(\"enter divisor - \"))\n",
    "\n",
    "new_age = age / divisor\n",
    "\n",
    "print ( \"If I were half my age, I would be\", new_age, \"years old\")"
   ]
  },
  {
   "cell_type": "markdown",
   "metadata": {},
   "source": [
    "Since we are trying to divide the age by zero(0), Python has thrown an error - **ZeroDivisionError**. The problem with these kind of errors is that Python stops the execution of the file. We don't want that to happen right ? You have never seen websites stop or programs (like excel, word or even a mobile app ) quit running suddenly. Well, if they do, it is a big deal - it is a bug. "
   ]
  },
  {
   "cell_type": "markdown",
   "metadata": {},
   "source": [
    "#### Try Catch block"
   ]
  },
  {
   "cell_type": "markdown",
   "metadata": {},
   "source": [
    "How to deal with it ? Since we don't know the error that might be thrown, we let python **try** it first, and provide a way to handle this exception."
   ]
  },
  {
   "cell_type": "markdown",
   "metadata": {},
   "source": [
    "<img src=\"./pics/try-catch-block.png\"/>"
   ]
  },
  {
   "cell_type": "code",
   "execution_count": 7,
   "metadata": {},
   "outputs": [
    {
     "name": "stdin",
     "output_type": "stream",
     "text": [
      "enter divisor -  0\n"
     ]
    },
    {
     "name": "stdout",
     "output_type": "stream",
     "text": [
      "exception occured\n"
     ]
    }
   ],
   "source": [
    "try : \n",
    "    divisor = int(input(\"enter divisor - \"))\n",
    "\n",
    "    new_age = age / divisor\n",
    "    print ( \"If I were half my age, I would be\", new_age, \"years old\")\n",
    "\n",
    "except : \n",
    "    print ( \"exception occured\") "
   ]
  },
  {
   "cell_type": "markdown",
   "metadata": {},
   "source": [
    "This is a much better way to handle the exception isn't it ? Instead of throwing a huge error message, we are programming it to handle the exception in a graceful way. "
   ]
  },
  {
   "cell_type": "markdown",
   "metadata": {},
   "source": [
    "### Exception Examples"
   ]
  },
  {
   "cell_type": "markdown",
   "metadata": {},
   "source": [
    "But how do you know what kind of error has occured ? Divide by zero is just one kind of error. There are many other errors that could occur - like \n",
    "\n",
    "- SyntaxError       - Syntax error. \n",
    "- ZeroDivisionError - Divide by zero\n",
    "- KeyError          - Key is not found in the dictionary\n",
    "- TypeError         - Invalid operation for the specific type "
   ]
  },
  {
   "cell_type": "markdown",
   "metadata": {},
   "source": [
    "We will see some examples of these."
   ]
  },
  {
   "cell_type": "markdown",
   "metadata": {},
   "source": [
    "**SyntaxError** - What happens if you write the wrong syntax ? For example, if you try the **print** statement without the parantheses."
   ]
  },
  {
   "cell_type": "markdown",
   "metadata": {},
   "source": [
    "<img src=\"./pics/syntax-error.png\"/>"
   ]
  },
  {
   "cell_type": "code",
   "execution_count": 24,
   "metadata": {},
   "outputs": [
    {
     "ename": "SyntaxError",
     "evalue": "Missing parentheses in call to 'print'. Did you mean print(\"hi\")? (<ipython-input-24-2b2d809635ce>, line 1)",
     "output_type": "error",
     "traceback": [
      "\u001b[1;36m  File \u001b[1;32m\"<ipython-input-24-2b2d809635ce>\"\u001b[1;36m, line \u001b[1;32m1\u001b[0m\n\u001b[1;33m    print \"hi\"\u001b[0m\n\u001b[1;37m             ^\u001b[0m\n\u001b[1;31mSyntaxError\u001b[0m\u001b[1;31m:\u001b[0m Missing parentheses in call to 'print'. Did you mean print(\"hi\")?\n"
     ]
    }
   ],
   "source": [
    "print \"hi\""
   ]
  },
  {
   "cell_type": "markdown",
   "metadata": {},
   "source": [
    "Typically, in application development, these type of exceptions are never caught explicitly. We have already seen the _ZeroDivisionError_ at the beginning of this section. Let's see the _KeyError_."
   ]
  },
  {
   "cell_type": "markdown",
   "metadata": {},
   "source": [
    "**KeyError** - This kind of error happens when you try to access a dictionary element with a wrong key. Let's take an example."
   ]
  },
  {
   "cell_type": "code",
   "execution_count": 9,
   "metadata": {},
   "outputs": [],
   "source": [
    "population = {\"india\"    :1367097934,\n",
    "              \"china\"    :1419518156,\n",
    "              \"US\"       :328830848 }"
   ]
  },
  {
   "cell_type": "markdown",
   "metadata": {},
   "source": [
    "Let's try and see what happens if we ask for the population of _canada_ ( which is not available in the dictionary). "
   ]
  },
  {
   "cell_type": "code",
   "execution_count": 16,
   "metadata": {},
   "outputs": [
    {
     "ename": "KeyError",
     "evalue": "'canada'",
     "output_type": "error",
     "traceback": [
      "\u001b[1;31m---------------------------------------------------------------------------\u001b[0m",
      "\u001b[1;31mKeyError\u001b[0m                                  Traceback (most recent call last)",
      "\u001b[1;32m<ipython-input-16-1f8be354c054>\u001b[0m in \u001b[0;36m<module>\u001b[1;34m\u001b[0m\n\u001b[1;32m----> 1\u001b[1;33m \u001b[0mpopulation\u001b[0m\u001b[1;33m[\u001b[0m\u001b[1;34m\"canada\"\u001b[0m\u001b[1;33m]\u001b[0m\u001b[1;33m\u001b[0m\u001b[1;33m\u001b[0m\u001b[0m\n\u001b[0m",
      "\u001b[1;31mKeyError\u001b[0m: 'canada'"
     ]
    }
   ],
   "source": [
    "population[\"canada\"]"
   ]
  },
  {
   "cell_type": "markdown",
   "metadata": {},
   "source": [
    "A **KeyError** exception is thrown. Let's check if we can catch this using a try block."
   ]
  },
  {
   "cell_type": "code",
   "execution_count": 15,
   "metadata": {},
   "outputs": [
    {
     "name": "stdout",
     "output_type": "stream",
     "text": [
      "Exception 'canada' occured\n"
     ]
    }
   ],
   "source": [
    "try :\n",
    "    print ( population[\"canada\"])\n",
    "except Exception as e :\n",
    "    print ( \"Exception\", e, \"occured\")"
   ]
  },
  {
   "cell_type": "markdown",
   "metadata": {},
   "source": [
    "That's not the name of the exception. To get the actual exception class, use the __class__ attribute of the Exception base class."
   ]
  },
  {
   "cell_type": "markdown",
   "metadata": {},
   "source": [
    "<img src=\"./pics/exception-type.png\"/>"
   ]
  },
  {
   "cell_type": "code",
   "execution_count": 40,
   "metadata": {},
   "outputs": [
    {
     "name": "stdout",
     "output_type": "stream",
     "text": [
      "Exception <class 'KeyError'> occured\n"
     ]
    }
   ],
   "source": [
    "try :\n",
    "    print ( population[\"canada\"])\n",
    "except Exception as e :\n",
    "    print ( \"Exception\", e.__class__, \"occured\")"
   ]
  },
  {
   "cell_type": "markdown",
   "metadata": {},
   "source": [
    "#### Catch specific exceptions"
   ]
  },
  {
   "cell_type": "markdown",
   "metadata": {},
   "source": [
    "**TypeError** - We will see another exception before we look at the exception hierarchy. Let's try and add a string to an integer and see what happens."
   ]
  },
  {
   "cell_type": "code",
   "execution_count": 20,
   "metadata": {},
   "outputs": [
    {
     "ename": "TypeError",
     "evalue": "unsupported operand type(s) for +: 'int' and 'str'",
     "output_type": "error",
     "traceback": [
      "\u001b[1;31m---------------------------------------------------------------------------\u001b[0m",
      "\u001b[1;31mTypeError\u001b[0m                                 Traceback (most recent call last)",
      "\u001b[1;32m<ipython-input-20-1ca2a7cce752>\u001b[0m in \u001b[0;36m<module>\u001b[1;34m\u001b[0m\n\u001b[0;32m      1\u001b[0m \u001b[0mage\u001b[0m \u001b[1;33m=\u001b[0m \u001b[1;36m21\u001b[0m\u001b[1;33m\u001b[0m\u001b[1;33m\u001b[0m\u001b[0m\n\u001b[1;32m----> 2\u001b[1;33m \u001b[0mage\u001b[0m \u001b[1;33m=\u001b[0m \u001b[0mage\u001b[0m \u001b[1;33m+\u001b[0m \u001b[1;34m\"1\"\u001b[0m\u001b[1;33m\u001b[0m\u001b[1;33m\u001b[0m\u001b[0m\n\u001b[0m",
      "\u001b[1;31mTypeError\u001b[0m: unsupported operand type(s) for +: 'int' and 'str'"
     ]
    }
   ],
   "source": [
    "age = 21\n",
    "age = age + \"1\""
   ]
  },
  {
   "cell_type": "markdown",
   "metadata": {},
   "source": [
    "Python throws a **TypeError** exception. As usual, you can either catch that specific exception or use the generic Exception class."
   ]
  },
  {
   "cell_type": "markdown",
   "metadata": {},
   "source": [
    "<img src=\"./pics/handle-multiple-errors.png\"/>"
   ]
  },
  {
   "cell_type": "code",
   "execution_count": 42,
   "metadata": {},
   "outputs": [
    {
     "name": "stdout",
     "output_type": "stream",
     "text": [
      "cannot add integer to string\n"
     ]
    }
   ],
   "source": [
    "age = 21\n",
    "try :\n",
    "    age = age + \"1\"\n",
    "    age = age / 0\n",
    "except TypeError:\n",
    "    print ( \"cannot add integer to string\")\n",
    "except ZeroDivisionError :\n",
    "    print ( \" divide by zero error \")\n",
    "except KeyError :\n",
    "    print ( \" dictionary key error \")"
   ]
  },
  {
   "cell_type": "markdown",
   "metadata": {},
   "source": [
    "You can get the entire list of <a href=\"https://docs.python.org/3/library/exceptions.html\">standard Python exceptions</a> here. Now, let's now see the exception hierarchy."
   ]
  },
  {
   "cell_type": "markdown",
   "metadata": {},
   "source": [
    "### Exception Hierarchy"
   ]
  },
  {
   "cell_type": "markdown",
   "metadata": {},
   "source": [
    "Exceptions in Python follow a hierarchy. Here is a brief snapshot of the class hierarchy of Python Exceptions. We have highlighted a couple of the exceptions that we have seen before. "
   ]
  },
  {
   "cell_type": "markdown",
   "metadata": {},
   "source": [
    "<img src=\"./pics/python-hierarchy-exceptions.png\"/>"
   ]
  },
  {
   "cell_type": "markdown",
   "metadata": {},
   "source": [
    "You can get a list of the entire <a href=\"https://docs.python.org/3/library/exceptions.html#exception-hierarchy\">Python exception heirarchy here</a>."
   ]
  },
  {
   "cell_type": "markdown",
   "metadata": {},
   "source": [
    "### finally"
   ]
  },
  {
   "cell_type": "markdown",
   "metadata": {},
   "source": [
    "When you try to access resources ( databases, files etc), typically you open and close access ( connection) to these resources. When you are done with the resource ( read the data or perform transactions ), you are supposed to close the resource. Here is a crude example - when you open your locker door and access what you need, immediately you close the locker door - isn't it ? "
   ]
  },
  {
   "cell_type": "markdown",
   "metadata": {},
   "source": [
    "What happens when an exception occurs during the process of accessing the resource. For example, when you open a file and perform some operations, say if something fails and Python throws an exception.\n",
    "\n",
    "- If you don't catch the exception, the program just stops execution. This leaves the door open ( resource handle open )\n",
    "- If you catch the exception, there could be many of them. Eventually you would have to close the door, but in which exception would you close the door ? "
   ]
  },
  {
   "cell_type": "markdown",
   "metadata": {},
   "source": [
    "This is where the **finally** block comes in. Irrespective of which exception is thrown by the program, the finally block is always executed. "
   ]
  },
  {
   "cell_type": "markdown",
   "metadata": {},
   "source": [
    "<img src=\"./pics/finally-block.png\"/>"
   ]
  },
  {
   "cell_type": "code",
   "execution_count": 39,
   "metadata": {},
   "outputs": [
    {
     "name": "stdout",
     "output_type": "stream",
     "text": [
      "divisor =  0\n",
      "Divide by zero error\n",
      "closing file\n"
     ]
    }
   ],
   "source": [
    "age = 21\n",
    "try : \n",
    "    file = open ( \"./data/divisor.txt\")\n",
    "    line= file.read()\n",
    "    print ( \"divisor = \", line )\n",
    "    \n",
    "    # now divide the age by the divisor\n",
    "    new_age = age/int(line)\n",
    "    print ( \"new age = \", new_age)\n",
    "\n",
    "except FileNotFoundError :\n",
    "    print ( \" file not found \")\n",
    "\n",
    "except ZeroDivisionError :\n",
    "    print ( \"Divide by zero error\" )\n",
    "\n",
    "finally :\n",
    "    print ( \"closing file\")\n",
    "    file.close()"
   ]
  },
  {
   "cell_type": "code",
   "execution_count": null,
   "metadata": {},
   "outputs": [],
   "source": []
  }
 ],
 "metadata": {
  "kernelspec": {
   "display_name": "Python 3",
   "language": "python",
   "name": "python3"
  },
  "language_info": {
   "codemirror_mode": {
    "name": "ipython",
    "version": 3
   },
   "file_extension": ".py",
   "mimetype": "text/x-python",
   "name": "python",
   "nbconvert_exporter": "python",
   "pygments_lexer": "ipython3",
   "version": "3.7.3"
  }
 },
 "nbformat": 4,
 "nbformat_minor": 2
}
